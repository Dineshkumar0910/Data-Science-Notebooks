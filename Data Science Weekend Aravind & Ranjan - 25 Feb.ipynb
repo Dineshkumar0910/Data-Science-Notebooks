{
 "cells":[
  {
   "cell_type":"code",
   "source":[
    "#Numpy\n",
    "import numpy as np\n",
    "np.array(34)"
   ],
   "execution_count":2,
   "outputs":[
    {
     "data":{
      "text\/plain":[
       "array(34)"
      ]
     },
     "metadata":{
      
     },
     "output_type":"display_data"
    }
   ],
   "metadata":{
    "datalore":{
     "node_id":"QZnZ8Nhv7ZsDbCZBIGc7c8",
     "type":"CODE",
     "hide_input_from_viewers":false,
     "hide_output_from_viewers":false
    }
   }
  },
  {
   "cell_type":"code",
   "source":[
    "np.ones(4)"
   ],
   "execution_count":14,
   "outputs":[
    {
     "data":{
      "text\/html":[
       "<pre>array([1., 1., 1., 1.])<\/pre>"
      ]
     },
     "metadata":{
      
     },
     "output_type":"display_data"
    }
   ],
   "metadata":{
    "datalore":{
     "node_id":"B0wAsAi7ghJDvsSr0ITq1Y",
     "type":"CODE",
     "hide_input_from_viewers":false,
     "hide_output_from_viewers":false
    }
   }
  },
  {
   "cell_type":"code",
   "source":[
    "np.full((2,4),3)"
   ],
   "execution_count":15,
   "outputs":[
    {
     "data":{
      "text\/html":[
       "<pre>array([[3, 3, 3, 3],\n",
       "       [3, 3, 3, 3]])<\/pre>"
      ]
     },
     "metadata":{
      
     },
     "output_type":"display_data"
    }
   ],
   "metadata":{
    "datalore":{
     "node_id":"TxXgiJpmkj1gQv1ZOuddNh",
     "type":"CODE",
     "hide_input_from_viewers":false,
     "hide_output_from_viewers":false
    }
   }
  },
  {
   "cell_type":"code",
   "source":[
    "a = np.arange(0,10)\n",
    "a"
   ],
   "execution_count":22,
   "outputs":[
    {
     "data":{
      "text\/html":[
       "<pre>array([0, 1, 2, 3, 4, 5, 6, 7, 8, 9])<\/pre>"
      ]
     },
     "metadata":{
      
     },
     "output_type":"display_data"
    }
   ],
   "metadata":{
    "datalore":{
     "node_id":"hPBVF1TN5p9ySfX12EI1NU",
     "type":"CODE",
     "hide_input_from_viewers":false,
     "hide_output_from_viewers":false
    }
   }
  },
  {
   "cell_type":"code",
   "source":[
    "a[1]\n",
    "a[5::]\n",
    "a[3:7]\n",
    "a[::-1]"
   ],
   "execution_count":27,
   "outputs":[
    {
     "data":{
      "text\/html":[
       "<pre>array([9, 8, 7, 6, 5, 4, 3, 2, 1, 0])<\/pre>"
      ]
     },
     "metadata":{
      
     },
     "output_type":"display_data"
    }
   ],
   "metadata":{
    "datalore":{
     "node_id":"lbUKE5Np55l4Q7Dp2f2Lbn",
     "type":"CODE",
     "hide_input_from_viewers":false,
     "hide_output_from_viewers":false
    }
   }
  },
  {
   "cell_type":"code",
   "source":[
    "arr = np.array([[1,2,3,4],[5,6,7,8],[9,10,11,12]])\n",
    "arr"
   ],
   "execution_count":28,
   "outputs":[
    {
     "data":{
      "text\/html":[
       "<pre>array([[ 1,  2,  3,  4],\n",
       "       [ 5,  6,  7,  8],\n",
       "       [ 9, 10, 11, 12]])<\/pre>"
      ]
     },
     "metadata":{
      
     },
     "output_type":"display_data"
    }
   ],
   "metadata":{
    "datalore":{
     "node_id":"8RSA23axq5foaU0bPANzHM",
     "type":"CODE",
     "hide_input_from_viewers":false,
     "hide_output_from_viewers":false
    }
   }
  },
  {
   "cell_type":"code",
   "source":[
    "arr[0]\n",
    "arr[1,2]\n",
    "arr[2][2::]"
   ],
   "execution_count":32,
   "outputs":[
    {
     "data":{
      "text\/html":[
       "<pre>array([11, 12])<\/pre>"
      ]
     },
     "metadata":{
      
     },
     "output_type":"display_data"
    }
   ],
   "metadata":{
    "datalore":{
     "node_id":"pJmNxaZyBm74rkPuWjHGGy",
     "type":"CODE",
     "hide_input_from_viewers":false,
     "hide_output_from_viewers":false
    }
   }
  },
  {
   "cell_type":"code",
   "source":[
    "arr1 = np.array([[3,4,5,2],[2,3,4,7],[9,8,1,4]])\n",
    "arr1"
   ],
   "execution_count":33,
   "outputs":[
    {
     "data":{
      "text\/html":[
       "<pre>array([[3, 4, 5, 2],\n",
       "       [2, 3, 4, 7],\n",
       "       [9, 8, 1, 4]])<\/pre>"
      ]
     },
     "metadata":{
      
     },
     "output_type":"display_data"
    }
   ],
   "metadata":{
    "datalore":{
     "node_id":"Ofs4Qq5hPOzMQNn1udoAGS",
     "type":"CODE",
     "hide_input_from_viewers":false,
     "hide_output_from_viewers":false
    }
   }
  },
  {
   "cell_type":"code",
   "source":[
    "arr>2"
   ],
   "execution_count":34,
   "outputs":[
    {
     "data":{
      "text\/html":[
       "<pre>array([[False, False,  True,  True],\n",
       "       [ True,  True,  True,  True],\n",
       "       [ True,  True,  True,  True]])<\/pre>"
      ]
     },
     "metadata":{
      
     },
     "output_type":"display_data"
    }
   ],
   "metadata":{
    "datalore":{
     "node_id":"i7CmCTD6JQvDiMywJRwVFy",
     "type":"CODE",
     "hide_input_from_viewers":false,
     "hide_output_from_viewers":false
    }
   }
  },
  {
   "cell_type":"code",
   "source":[
    "arr>arr1"
   ],
   "execution_count":35,
   "outputs":[
    {
     "data":{
      "text\/html":[
       "<pre>array([[False, False, False,  True],\n",
       "       [ True,  True,  True,  True],\n",
       "       [False,  True,  True,  True]])<\/pre>"
      ]
     },
     "metadata":{
      
     },
     "output_type":"display_data"
    }
   ],
   "metadata":{
    "datalore":{
     "node_id":"j3NbLWDDNU4F0BRToF5hf4",
     "type":"CODE",
     "hide_input_from_viewers":false,
     "hide_output_from_viewers":false
    }
   }
  },
  {
   "cell_type":"code",
   "source":[
    "arr1[arr>2]"
   ],
   "execution_count":36,
   "outputs":[
    {
     "data":{
      "text\/html":[
       "<pre>array([5, 2, 2, 3, 4, 7, 9, 8, 1, 4])<\/pre>"
      ]
     },
     "metadata":{
      
     },
     "output_type":"display_data"
    }
   ],
   "metadata":{
    "datalore":{
     "node_id":"Fruv1jqJBVlir8o0qWnfxj",
     "type":"CODE",
     "hide_input_from_viewers":false,
     "hide_output_from_viewers":false
    }
   }
  },
  {
   "cell_type":"code",
   "source":[
    "ab = np.random.randint(20, size=(4,5))\n",
    "ab"
   ],
   "execution_count":3,
   "outputs":[
    {
     "data":{
      "text\/html":[
       "<pre>array([[ 4,  5,  2, 10,  4],\n",
       "       [ 8,  7,  4, 19,  8],\n",
       "       [ 6, 13, 12, 10, 13],\n",
       "       [ 9,  4, 17,  5, 12]])<\/pre>"
      ]
     },
     "metadata":{
      
     },
     "output_type":"display_data"
    }
   ],
   "metadata":{
    "datalore":{
     "node_id":"jXLSEKj78a3KB4Jc87qSWx",
     "type":"CODE",
     "hide_input_from_viewers":false,
     "hide_output_from_viewers":false
    }
   }
  },
  {
   "cell_type":"code",
   "source":[
    "sub_ab = ab[:2,:3]\n",
    "sub_ab"
   ],
   "execution_count":4,
   "outputs":[
    {
     "data":{
      "text\/html":[
       "<pre>array([[4, 5, 2],\n",
       "       [8, 7, 4]])<\/pre>"
      ]
     },
     "metadata":{
      
     },
     "output_type":"display_data"
    }
   ],
   "metadata":{
    "datalore":{
     "node_id":"4mgGSKWhduIbG0uuyjYfBb",
     "type":"CODE",
     "hide_input_from_viewers":false,
     "hide_output_from_viewers":false
    }
   }
  },
  {
   "cell_type":"code",
   "source":[
    "sub_ab[0,0] = 55\n",
    "sub_ab"
   ],
   "execution_count":5,
   "outputs":[
    {
     "data":{
      "text\/html":[
       "<pre>array([[55,  5,  2],\n",
       "       [ 8,  7,  4]])<\/pre>"
      ]
     },
     "metadata":{
      
     },
     "output_type":"display_data"
    }
   ],
   "metadata":{
    "datalore":{
     "node_id":"zxDDHerCX91aU8u52uRlow",
     "type":"CODE",
     "hide_input_from_viewers":false,
     "hide_output_from_viewers":false
    }
   }
  },
  {
   "cell_type":"code",
   "source":[
    "ab"
   ],
   "execution_count":6,
   "outputs":[
    {
     "data":{
      "text\/html":[
       "<pre>array([[55,  5,  2, 10,  4],\n",
       "       [ 8,  7,  4, 19,  8],\n",
       "       [ 6, 13, 12, 10, 13],\n",
       "       [ 9,  4, 17,  5, 12]])<\/pre>"
      ]
     },
     "metadata":{
      
     },
     "output_type":"display_data"
    }
   ],
   "metadata":{
    "datalore":{
     "node_id":"OVK2gBSRHwqXYC05cxJj3q",
     "type":"CODE",
     "hide_input_from_viewers":false,
     "hide_output_from_viewers":false
    }
   }
  },
  {
   "cell_type":"code",
   "source":[
    "n = np.arange(1,10)\n",
    "n\n",
    "n.shape"
   ],
   "execution_count":8,
   "outputs":[
    {
     "data":{
      "text\/plain":[
       "(9,)"
      ]
     },
     "metadata":{
      
     },
     "output_type":"display_data"
    }
   ],
   "metadata":{
    "datalore":{
     "node_id":"Vx1xJ5UtGs5qWdPLi0IT7m",
     "type":"CODE",
     "hide_input_from_viewers":false,
     "hide_output_from_viewers":false
    }
   }
  },
  {
   "cell_type":"code",
   "source":[
    "n_shape = n.reshape(3,3)\n",
    "n_shape"
   ],
   "execution_count":9,
   "outputs":[
    {
     "data":{
      "text\/html":[
       "<pre>array([[1, 2, 3],\n",
       "       [4, 5, 6],\n",
       "       [7, 8, 9]])<\/pre>"
      ]
     },
     "metadata":{
      
     },
     "output_type":"display_data"
    }
   ],
   "metadata":{
    "datalore":{
     "node_id":"3h13BVTjJ7WQDmGeZiJqL1",
     "type":"CODE",
     "hide_input_from_viewers":false,
     "hide_output_from_viewers":false
    }
   }
  },
  {
   "cell_type":"code",
   "source":[
    "ab.reshape(-1)\n",
    "ab\n",
    "ab.flatten()"
   ],
   "execution_count":13,
   "outputs":[
    {
     "data":{
      "text\/html":[
       "<pre>array([55,  5,  2, 10,  4,  8,  7,  4, 19,  8,  6, 13, 12, 10, 13,  9,  4,\n",
       "       17,  5, 12])<\/pre>"
      ]
     },
     "metadata":{
      
     },
     "output_type":"display_data"
    }
   ],
   "metadata":{
    "datalore":{
     "node_id":"7S6VsjcUTx81OMSrP8Zmch",
     "type":"CODE",
     "hide_input_from_viewers":false,
     "hide_output_from_viewers":false
    }
   }
  },
  {
   "cell_type":"code",
   "source":[
    "#29 Jan\n",
    "a = np.array([10,11,12])\n",
    "b = np.array([20,21,22])\n",
    "np.concatenate([a,b])"
   ],
   "execution_count":3,
   "outputs":[
    {
     "data":{
      "text\/html":[
       "<pre>array([10, 11, 12, 20, 21, 22])<\/pre>"
      ]
     },
     "metadata":{
      
     },
     "output_type":"display_data"
    }
   ],
   "metadata":{
    "datalore":{
     "node_id":"nB89dGQLZ0cIVhbvj6lAEr",
     "type":"CODE",
     "hide_input_from_viewers":false,
     "hide_output_from_viewers":false
    }
   }
  },
  {
   "cell_type":"code",
   "source":[
    "a1 = np.array([[1,2,3],[4,5,6]])\n",
    "a2 = np.array([[11,12,13],[14,15,16]])\n",
    "np.concatenate([a1,a2])"
   ],
   "execution_count":5,
   "outputs":[
    {
     "data":{
      "text\/html":[
       "<pre>array([[ 1,  2,  3],\n",
       "       [ 4,  5,  6],\n",
       "       [11, 12, 13],\n",
       "       [14, 15, 16]])<\/pre>"
      ]
     },
     "metadata":{
      
     },
     "output_type":"display_data"
    }
   ],
   "metadata":{
    "datalore":{
     "node_id":"7MspImyRGUfOURsSIW3wkY",
     "type":"CODE",
     "hide_input_from_viewers":false,
     "hide_output_from_viewers":false
    }
   }
  },
  {
   "cell_type":"code",
   "source":[
    "np.concatenate([a1,a2],axis=1)"
   ],
   "execution_count":6,
   "outputs":[
    {
     "data":{
      "text\/html":[
       "<pre>array([[ 1,  2,  3, 11, 12, 13],\n",
       "       [ 4,  5,  6, 14, 15, 16]])<\/pre>"
      ]
     },
     "metadata":{
      
     },
     "output_type":"display_data"
    }
   ],
   "metadata":{
    "datalore":{
     "node_id":"1bt8RUyPE3iA29X6WAzns7",
     "type":"CODE",
     "hide_input_from_viewers":false,
     "hide_output_from_viewers":false
    }
   }
  },
  {
   "cell_type":"code",
   "source":[
    "n1 = np.array([1,3,5,7,34,645,12,21])\n",
    "n1"
   ],
   "execution_count":7,
   "outputs":[
    {
     "data":{
      "text\/html":[
       "<pre>array([  1,   3,   5,   7,  34, 645,  12,  21])<\/pre>"
      ]
     },
     "metadata":{
      
     },
     "output_type":"display_data"
    }
   ],
   "metadata":{
    "datalore":{
     "node_id":"uFF6WRSrG3SF7q2yuGdhEE",
     "type":"CODE",
     "hide_input_from_viewers":false,
     "hide_output_from_viewers":false
    }
   }
  },
  {
   "cell_type":"code",
   "source":[
    "q,w,e = np.split(n1,[3,6])\n",
    "q"
   ],
   "execution_count":11,
   "outputs":[
    {
     "data":{
      "text\/html":[
       "<pre>array([1, 3, 5])<\/pre>"
      ]
     },
     "metadata":{
      
     },
     "output_type":"display_data"
    }
   ],
   "metadata":{
    "datalore":{
     "node_id":"WraHq6W6PqyjyhNhr63pEz",
     "type":"CODE",
     "hide_input_from_viewers":false,
     "hide_output_from_viewers":false
    }
   }
  },
  {
   "cell_type":"code",
   "source":[
    "w"
   ],
   "execution_count":12,
   "outputs":[
    {
     "data":{
      "text\/html":[
       "<pre>array([  7,  34, 645])<\/pre>"
      ]
     },
     "metadata":{
      
     },
     "output_type":"display_data"
    }
   ],
   "metadata":{
    "datalore":{
     "node_id":"vIquKzbUJBROSihgDqdjNX",
     "type":"CODE",
     "hide_input_from_viewers":false,
     "hide_output_from_viewers":false
    }
   }
  },
  {
   "cell_type":"code",
   "source":[
    "e"
   ],
   "execution_count":13,
   "outputs":[
    {
     "data":{
      "text\/html":[
       "<pre>array([12, 21])<\/pre>"
      ]
     },
     "metadata":{
      
     },
     "output_type":"display_data"
    }
   ],
   "metadata":{
    "datalore":{
     "node_id":"zLXCFzCVcRtyz2kaxtVnOb",
     "type":"CODE",
     "hide_input_from_viewers":false,
     "hide_output_from_viewers":false
    }
   }
  },
  {
   "cell_type":"code",
   "source":[
    "d1 = np.arange(28).reshape(7,4)\n",
    "d1"
   ],
   "execution_count":14,
   "outputs":[
    {
     "data":{
      "text\/html":[
       "<pre>array([[ 0,  1,  2,  3],\n",
       "       [ 4,  5,  6,  7],\n",
       "       [ 8,  9, 10, 11],\n",
       "       [12, 13, 14, 15],\n",
       "       [16, 17, 18, 19],\n",
       "       [20, 21, 22, 23],\n",
       "       [24, 25, 26, 27]])<\/pre>"
      ]
     },
     "metadata":{
      
     },
     "output_type":"display_data"
    }
   ],
   "metadata":{
    "datalore":{
     "node_id":"WhR7n2L933YUK5Ism9gMuo",
     "type":"CODE",
     "hide_input_from_viewers":false,
     "hide_output_from_viewers":false
    }
   }
  },
  {
   "cell_type":"code",
   "source":[
    "np.split(d1,[2,5])"
   ],
   "execution_count":15,
   "outputs":[
    {
     "data":{
      "text\/plain":[
       "[array([[0, 1, 2, 3],\n",
       "        [4, 5, 6, 7]]),\n",
       " array([[ 8,  9, 10, 11],\n",
       "        [12, 13, 14, 15],\n",
       "        [16, 17, 18, 19]]),\n",
       " array([[20, 21, 22, 23],\n",
       "        [24, 25, 26, 27]])]"
      ]
     },
     "metadata":{
      
     },
     "output_type":"display_data"
    }
   ],
   "metadata":{
    "datalore":{
     "node_id":"hzsHsWly6AwGUkTZgSPdbS",
     "type":"CODE",
     "hide_input_from_viewers":false,
     "hide_output_from_viewers":false
    }
   }
  },
  {
   "cell_type":"code",
   "source":[
    "np.hsplit(d1,[2])"
   ],
   "execution_count":16,
   "outputs":[
    {
     "data":{
      "text\/plain":[
       "[array([[ 0,  1],\n",
       "        [ 4,  5],\n",
       "        [ 8,  9],\n",
       "        [12, 13],\n",
       "        [16, 17],\n",
       "        [20, 21],\n",
       "        [24, 25]]),\n",
       " array([[ 2,  3],\n",
       "        [ 6,  7],\n",
       "        [10, 11],\n",
       "        [14, 15],\n",
       "        [18, 19],\n",
       "        [22, 23],\n",
       "        [26, 27]])]"
      ]
     },
     "metadata":{
      
     },
     "output_type":"display_data"
    }
   ],
   "metadata":{
    "datalore":{
     "node_id":"rOfBUXwFN6qQmxSWKGYvUR",
     "type":"CODE",
     "hide_input_from_viewers":false,
     "hide_output_from_viewers":false
    }
   }
  },
  {
   "cell_type":"code",
   "source":[
    "np.sort(n1)"
   ],
   "execution_count":17,
   "outputs":[
    {
     "data":{
      "text\/html":[
       "<pre>array([  1,   3,   5,   7,  12,  21,  34, 645])<\/pre>"
      ]
     },
     "metadata":{
      
     },
     "output_type":"display_data"
    }
   ],
   "metadata":{
    "datalore":{
     "node_id":"EcdeOM3iP2BsYWzhpW9lF8",
     "type":"CODE",
     "hide_input_from_viewers":false,
     "hide_output_from_viewers":false
    }
   }
  },
  {
   "cell_type":"code",
   "source":[
    "n1"
   ],
   "execution_count":18,
   "outputs":[
    {
     "data":{
      "text\/html":[
       "<pre>array([  1,   3,   5,   7,  34, 645,  12,  21])<\/pre>"
      ]
     },
     "metadata":{
      
     },
     "output_type":"display_data"
    }
   ],
   "metadata":{
    "datalore":{
     "node_id":"3ZYpDHCbvSCDCNzR78L0un",
     "type":"CODE",
     "hide_input_from_viewers":false,
     "hide_output_from_viewers":false
    }
   }
  },
  {
   "cell_type":"code",
   "source":[
    "n1.sort()\n",
    "n1"
   ],
   "execution_count":20,
   "outputs":[
    {
     "data":{
      "text\/html":[
       "<pre>array([  1,   3,   5,   7,  12,  21,  34, 645])<\/pre>"
      ]
     },
     "metadata":{
      
     },
     "output_type":"display_data"
    }
   ],
   "metadata":{
    "datalore":{
     "node_id":"WCc6DCmyHKOEm4hljUWleA",
     "type":"CODE",
     "hide_input_from_viewers":false,
     "hide_output_from_viewers":false
    }
   }
  },
  {
   "cell_type":"code",
   "source":[
    "-np.sort(-n1)"
   ],
   "execution_count":21,
   "outputs":[
    {
     "data":{
      "text\/html":[
       "<pre>array([645,  34,  21,  12,   7,   5,   3,   1])<\/pre>"
      ]
     },
     "metadata":{
      
     },
     "output_type":"display_data"
    }
   ],
   "metadata":{
    "datalore":{
     "node_id":"8adg0ULfSrviHa5UWUtreD",
     "type":"CODE",
     "hide_input_from_viewers":false,
     "hide_output_from_viewers":false
    }
   }
  },
  {
   "cell_type":"code",
   "source":[
    "z = np.linspace(0,50,12,dtype=\"int\").reshape(4,3)\n",
    "z"
   ],
   "execution_count":22,
   "outputs":[
    {
     "data":{
      "text\/html":[
       "<pre>array([[ 0,  4,  9],\n",
       "       [13, 18, 22],\n",
       "       [27, 31, 36],\n",
       "       [40, 45, 50]])<\/pre>"
      ]
     },
     "metadata":{
      
     },
     "output_type":"display_data"
    }
   ],
   "metadata":{
    "datalore":{
     "node_id":"puWX6FvJTcL4S5t36CngG2",
     "type":"CODE",
     "hide_input_from_viewers":false,
     "hide_output_from_viewers":false
    }
   }
  },
  {
   "cell_type":"code",
   "source":[
    "m = np.array([1,0,-1])\n",
    "m"
   ],
   "execution_count":23,
   "outputs":[
    {
     "data":{
      "text\/html":[
       "<pre>array([ 1,  0, -1])<\/pre>"
      ]
     },
     "metadata":{
      
     },
     "output_type":"display_data"
    }
   ],
   "metadata":{
    "datalore":{
     "node_id":"nPKJ1WcRmWGjsawFeIko8A",
     "type":"CODE",
     "hide_input_from_viewers":false,
     "hide_output_from_viewers":false
    }
   }
  },
  {
   "cell_type":"code",
   "source":[
    "z + m"
   ],
   "execution_count":24,
   "outputs":[
    {
     "data":{
      "text\/html":[
       "<pre>array([[ 1,  4,  8],\n",
       "       [14, 18, 21],\n",
       "       [28, 31, 35],\n",
       "       [41, 45, 49]])<\/pre>"
      ]
     },
     "metadata":{
      
     },
     "output_type":"display_data"
    }
   ],
   "metadata":{
    "datalore":{
     "node_id":"aYVtXwotTAu3irM2NxnQYB",
     "type":"CODE",
     "hide_input_from_viewers":false,
     "hide_output_from_viewers":false
    }
   }
  },
  {
   "cell_type":"code",
   "source":[
    "mat = np.array([1,2,3,4,5,6,7,8,9])\n",
    "mat"
   ],
   "execution_count":25,
   "outputs":[
    {
     "data":{
      "text\/html":[
       "<pre>array([1, 2, 3, 4, 5, 6, 7, 8, 9])<\/pre>"
      ]
     },
     "metadata":{
      
     },
     "output_type":"display_data"
    }
   ],
   "metadata":{
    "datalore":{
     "node_id":"GoYvqkujxIQhMEeKldeWix",
     "type":"CODE",
     "hide_input_from_viewers":false,
     "hide_output_from_viewers":false
    }
   }
  },
  {
   "cell_type":"code",
   "source":[
    "mat-5"
   ],
   "execution_count":26,
   "outputs":[
    {
     "data":{
      "text\/html":[
       "<pre>array([-4, -3, -2, -1,  0,  1,  2,  3,  4])<\/pre>"
      ]
     },
     "metadata":{
      
     },
     "output_type":"display_data"
    }
   ],
   "metadata":{
    "datalore":{
     "node_id":"fhylSHnLACSH88GJxTzXGL",
     "type":"CODE",
     "hide_input_from_viewers":false,
     "hide_output_from_viewers":false
    }
   }
  },
  {
   "cell_type":"code",
   "source":[
    "mat *3"
   ],
   "execution_count":29,
   "outputs":[
    {
     "data":{
      "text\/html":[
       "<pre>array([ 3,  6,  9, 12, 15, 18, 21, 24, 27])<\/pre>"
      ]
     },
     "metadata":{
      
     },
     "output_type":"display_data"
    }
   ],
   "metadata":{
    "datalore":{
     "node_id":"qA5r7L9COQBsgCxVzPoELz",
     "type":"CODE",
     "hide_input_from_viewers":false,
     "hide_output_from_viewers":false
    }
   }
  },
  {
   "cell_type":"code",
   "source":[
    "fun = np.array([[1,2,3],[4,5,6],[7,8,9],[10,11,12]])\n",
    "fun"
   ],
   "execution_count":30,
   "outputs":[
    {
     "data":{
      "text\/html":[
       "<pre>array([[ 1,  2,  3],\n",
       "       [ 4,  5,  6],\n",
       "       [ 7,  8,  9],\n",
       "       [10, 11, 12]])<\/pre>"
      ]
     },
     "metadata":{
      
     },
     "output_type":"display_data"
    }
   ],
   "metadata":{
    "datalore":{
     "node_id":"SIVqg28SKEI574rjbb7Rz7",
     "type":"CODE",
     "hide_input_from_viewers":false,
     "hide_output_from_viewers":false
    }
   }
  },
  {
   "cell_type":"code",
   "source":[
    "np.add(fun,2)"
   ],
   "execution_count":31,
   "outputs":[
    {
     "data":{
      "text\/html":[
       "<pre>array([[ 3,  4,  5],\n",
       "       [ 6,  7,  8],\n",
       "       [ 9, 10, 11],\n",
       "       [12, 13, 14]])<\/pre>"
      ]
     },
     "metadata":{
      
     },
     "output_type":"display_data"
    }
   ],
   "metadata":{
    "datalore":{
     "node_id":"KeveivE4HrOmbgmGfa1zCD",
     "type":"CODE",
     "hide_input_from_viewers":false,
     "hide_output_from_viewers":false
    }
   }
  },
  {
   "cell_type":"code",
   "source":[
    "np.subtract(fun,1)"
   ],
   "execution_count":32,
   "outputs":[
    {
     "data":{
      "text\/html":[
       "<pre>array([[ 0,  1,  2],\n",
       "       [ 3,  4,  5],\n",
       "       [ 6,  7,  8],\n",
       "       [ 9, 10, 11]])<\/pre>"
      ]
     },
     "metadata":{
      
     },
     "output_type":"display_data"
    }
   ],
   "metadata":{
    "datalore":{
     "node_id":"v7zDYk4QDDJaI2dshQZ40w",
     "type":"CODE",
     "hide_input_from_viewers":false,
     "hide_output_from_viewers":false
    }
   }
  },
  {
   "cell_type":"code",
   "source":[
    "np.power(fun,2)"
   ],
   "execution_count":33,
   "outputs":[
    {
     "data":{
      "text\/html":[
       "<pre>array([[  1,   4,   9],\n",
       "       [ 16,  25,  36],\n",
       "       [ 49,  64,  81],\n",
       "       [100, 121, 144]])<\/pre>"
      ]
     },
     "metadata":{
      
     },
     "output_type":"display_data"
    }
   ],
   "metadata":{
    "datalore":{
     "node_id":"DMhsOiZQdtwXwHv9SJA6SW",
     "type":"CODE",
     "hide_input_from_viewers":false,
     "hide_output_from_viewers":false
    }
   }
  },
  {
   "cell_type":"code",
   "source":[
    "np.mean(fun)"
   ],
   "execution_count":34,
   "outputs":[
    {
     "data":{
      "text\/plain":[
       "6.5"
      ]
     },
     "metadata":{
      
     },
     "output_type":"display_data"
    }
   ],
   "metadata":{
    "datalore":{
     "node_id":"xn1vzDtJOmM0LjyGDZj0HX",
     "type":"CODE",
     "hide_input_from_viewers":false,
     "hide_output_from_viewers":false
    }
   }
  },
  {
   "cell_type":"code",
   "source":[
    "np.sum(fun)"
   ],
   "execution_count":35,
   "outputs":[
    {
     "data":{
      "text\/plain":[
       "78"
      ]
     },
     "metadata":{
      
     },
     "output_type":"display_data"
    }
   ],
   "metadata":{
    "datalore":{
     "node_id":"Yvmr5pX8pb1UYAlz0nnToV",
     "type":"CODE",
     "hide_input_from_viewers":false,
     "hide_output_from_viewers":false
    }
   }
  },
  {
   "cell_type":"code",
   "source":[
    "np.min(fun)"
   ],
   "execution_count":36,
   "outputs":[
    {
     "data":{
      "text\/plain":[
       "1"
      ]
     },
     "metadata":{
      
     },
     "output_type":"display_data"
    }
   ],
   "metadata":{
    "datalore":{
     "node_id":"hjvnqmJphzXlY54CahvQND",
     "type":"CODE",
     "hide_input_from_viewers":false,
     "hide_output_from_viewers":false
    }
   }
  },
  {
   "cell_type":"code",
   "source":[
    "np.var(fun)"
   ],
   "execution_count":37,
   "outputs":[
    {
     "data":{
      "text\/plain":[
       "11.916666666666666"
      ]
     },
     "metadata":{
      
     },
     "output_type":"display_data"
    }
   ],
   "metadata":{
    "datalore":{
     "node_id":"NiE9i9hBdYnrdC5TfuQ2Ic",
     "type":"CODE",
     "hide_input_from_viewers":false,
     "hide_output_from_viewers":false
    }
   }
  },
  {
   "cell_type":"code",
   "source":[
    "np.std(fun)"
   ],
   "execution_count":38,
   "outputs":[
    {
     "data":{
      "text\/plain":[
       "3.452052529534663"
      ]
     },
     "metadata":{
      
     },
     "output_type":"display_data"
    }
   ],
   "metadata":{
    "datalore":{
     "node_id":"QZTF7chaN2ip3wImJQS5gt",
     "type":"CODE",
     "hide_input_from_viewers":false,
     "hide_output_from_viewers":false
    }
   }
  },
  {
   "cell_type":"code",
   "source":[
    "np.absolute(np.array([-1,2,-4,-49,-2]))"
   ],
   "execution_count":39,
   "outputs":[
    {
     "data":{
      "text\/html":[
       "<pre>array([ 1,  2,  4, 49,  2])<\/pre>"
      ]
     },
     "metadata":{
      
     },
     "output_type":"display_data"
    }
   ],
   "metadata":{
    "datalore":{
     "node_id":"J5CeEKTsvmSMkYcTQj5DG2",
     "type":"CODE",
     "hide_input_from_viewers":false,
     "hide_output_from_viewers":false
    }
   }
  },
  {
   "cell_type":"code",
   "source":[
    "np.log(fun)"
   ],
   "execution_count":40,
   "outputs":[
    {
     "data":{
      "text\/html":[
       "<pre>array([[0.        , 0.69314718, 1.09861229],\n",
       "       [1.38629436, 1.60943791, 1.79175947],\n",
       "       [1.94591015, 2.07944154, 2.19722458],\n",
       "       [2.30258509, 2.39789527, 2.48490665]])<\/pre>"
      ]
     },
     "metadata":{
      
     },
     "output_type":"display_data"
    }
   ],
   "metadata":{
    "datalore":{
     "node_id":"kAlzTbCdr8C0TujUblGdAa",
     "type":"CODE",
     "hide_input_from_viewers":false,
     "hide_output_from_viewers":false
    }
   }
  },
  {
   "cell_type":"code",
   "source":[
    "np.log10(fun)"
   ],
   "execution_count":41,
   "outputs":[
    {
     "data":{
      "text\/html":[
       "<pre>array([[0.        , 0.30103   , 0.47712125],\n",
       "       [0.60205999, 0.69897   , 0.77815125],\n",
       "       [0.84509804, 0.90308999, 0.95424251],\n",
       "       [1.        , 1.04139269, 1.07918125]])<\/pre>"
      ]
     },
     "metadata":{
      
     },
     "output_type":"display_data"
    }
   ],
   "metadata":{
    "datalore":{
     "node_id":"DNnUOMDaCmfMHS2c42HxxG",
     "type":"CODE",
     "hide_input_from_viewers":false,
     "hide_output_from_viewers":false
    }
   }
  },
  {
   "cell_type":"code",
   "source":[
    "'''Write a NumPy program to create a 3x3 matrix with values ranging from 2 to 10. Go to the editor\n",
    "Expected Output:\n",
    "[[ 2 3 4]\n",
    "[ 5 6 7]\n",
    "[ 8 9 10]]'''"
   ],
   "execution_count":null,
   "outputs":[
    
   ],
   "metadata":{
    "datalore":{
     "node_id":"GVy2KyIa8jNSs4Atj28pV3",
     "type":"CODE",
     "hide_input_from_viewers":false,
     "hide_output_from_viewers":false
    }
   }
  },
  {
   "cell_type":"code",
   "source":[
    "'''Write a NumPy program to create a 2d array with 1 on the border and 0 inside. Go to the editor\n",
    "Expected Output:\n",
    "Original array:\n",
    "[[ 1. 1. 1. 1. 1.]\n",
    "...................\n",
    "[ 1. 1. 1. 1. 1.]]\n",
    "1 on the border and 0 inside in the array\n",
    "[[ 1. 1. 1. 1. 1.]\n",
    "...................\n",
    "[ 1. 1. 1. 1. 1.]]\n",
    "\n",
    "1 1 1 1 1\n",
    "1 0 0 0 1\n",
    "1 1 1 1 1'''\n",
    "import numpy as np\n",
    "x = np.ones((5,5))\n",
    "print(\"Original array:\")\n",
    "print(x)\n",
    "print(\"1 on the border and 0 inside in the array\")\n",
    "x[1:-1,1:-1] = 0\n",
    "print(x)"
   ],
   "execution_count":42,
   "outputs":[
    {
     "name":"stdout",
     "text":[
      "Original array:\n",
      "[[1. 1. 1. 1. 1.]\n",
      " [1. 1. 1. 1. 1.]\n",
      " [1. 1. 1. 1. 1.]\n",
      " [1. 1. 1. 1. 1.]\n",
      " [1. 1. 1. 1. 1.]]\n",
      "1 on the border and 0 inside in the array\n",
      "[[1. 1. 1. 1. 1.]\n",
      " [1. 0. 0. 0. 1.]\n",
      " [1. 0. 0. 0. 1.]\n",
      " [1. 0. 0. 0. 1.]\n",
      " [1. 1. 1. 1. 1.]]\n"
     ],
     "output_type":"stream"
    }
   ],
   "metadata":{
    "datalore":{
     "node_id":"2ekKRlsiMQqdKsRN9mSwTg",
     "type":"CODE",
     "hide_input_from_viewers":false,
     "hide_output_from_viewers":false
    }
   }
  },
  {
   "cell_type":"code",
   "source":[
    "'''Write a NumPy program to split an array of 14 elements into 3 arrays, each of which has 2, 4, and 8 elements in the original order. Go to the editor\n",
    "Expected Output:\n",
    "Original array: [ 1 2 3 4 5 6 7 8 9 10 11 12 13 14]\n",
    "After splitting:\n",
    "[array([1, 2]), array([3, 4, 5, 6]), array([ 7, 8, 9, 10, 11, 12, 13, 14])]'''"
   ],
   "execution_count":null,
   "outputs":[
    
   ],
   "metadata":{
    "datalore":{
     "node_id":"bo4qbYEOXxWt7MoAJq7Z46",
     "type":"CODE",
     "hide_input_from_viewers":false,
     "hide_output_from_viewers":false
    }
   }
  },
  {
   "cell_type":"code",
   "source":[
    "'''Write a NumPy program to convert a NumPy array of float values to a NumPy array of integer values. Go to the editor\n",
    "Expected Output:\n",
    "Original array elements:\n",
    "[[ 12. 12.51]\n",
    "[ 2.34 7.98]\n",
    "[ 25.23 36.5 ]]\n",
    "Convert float values to intger values:\n",
    "[[12 12]\n",
    "[ 2 7]\n",
    "[25 36]]'''\n",
    "import numpy as np\n",
    "x= np.array([[12.0, 12.51], [2.34, 7.98], [25.23, 36.50]])\n",
    "print(\"Original array elements:\")\n",
    "print(x)\n",
    "print(\"Convert float values to integer values:\")\n",
    "print(x.astype(int))"
   ],
   "execution_count":43,
   "outputs":[
    {
     "name":"stdout",
     "text":[
      "Original array elements:\n",
      "[[12.   12.51]\n",
      " [ 2.34  7.98]\n",
      " [25.23 36.5 ]]\n",
      "Convert float values to integer values:\n",
      "[[12 12]\n",
      " [ 2  7]\n",
      " [25 36]]\n"
     ],
     "output_type":"stream"
    }
   ],
   "metadata":{
    "datalore":{
     "node_id":"VkcHLknYmdqhvreEeXAnum",
     "type":"CODE",
     "hide_input_from_viewers":false,
     "hide_output_from_viewers":false
    }
   }
  },
  {
   "cell_type":"code",
   "source":[
    "#11 Feb - Pandas\n",
    "import pandas as pd"
   ],
   "execution_count":2,
   "outputs":[
    
   ],
   "metadata":{
    "datalore":{
     "node_id":"KM861IWqPaf2QnpMDnEGI9",
     "type":"CODE",
     "hide_input_from_viewers":false,
     "hide_output_from_viewers":false
    }
   }
  },
  {
   "cell_type":"code",
   "source":[
    "#Creating Pandas Series\n",
    "s = pd.Series([1,2,3,4,5])"
   ],
   "execution_count":5,
   "outputs":[
    
   ],
   "metadata":{
    "datalore":{
     "node_id":"5cac2w4J6JeecGJPXFyGvu",
     "type":"CODE",
     "hide_input_from_viewers":false,
     "hide_output_from_viewers":false
    }
   }
  },
  {
   "cell_type":"code",
   "source":[
    "type(s)"
   ],
   "execution_count":6,
   "outputs":[
    {
     "data":{
      "text\/plain":[
       "pandas.core.series.Series"
      ]
     },
     "metadata":{
      
     },
     "output_type":"display_data"
    }
   ],
   "metadata":{
    "datalore":{
     "node_id":"ZOt4ByO9gVB4ocekbLEus1",
     "type":"CODE",
     "hide_input_from_viewers":false,
     "hide_output_from_viewers":false
    }
   }
  },
  {
   "cell_type":"code",
   "source":[
    "s.axes"
   ],
   "execution_count":7,
   "outputs":[
    {
     "data":{
      "text\/plain":[
       "[RangeIndex(start=0, stop=5, step=1)]"
      ]
     },
     "metadata":{
      
     },
     "output_type":"display_data"
    }
   ],
   "metadata":{
    "datalore":{
     "node_id":"5568u6chlkR1gPMRCaElXB",
     "type":"CODE",
     "hide_input_from_viewers":false,
     "hide_output_from_viewers":false
    }
   }
  },
  {
   "cell_type":"code",
   "source":[
    "s.dtype"
   ],
   "execution_count":8,
   "outputs":[
    {
     "data":{
      "text\/plain":[
       "dtype('int64')"
      ]
     },
     "metadata":{
      
     },
     "output_type":"display_data"
    }
   ],
   "metadata":{
    "datalore":{
     "node_id":"EMa4cqUSvAiRf28Va4VLso",
     "type":"CODE",
     "hide_input_from_viewers":false,
     "hide_output_from_viewers":false
    }
   }
  },
  {
   "cell_type":"code",
   "source":[
    "s.ndim"
   ],
   "execution_count":10,
   "outputs":[
    {
     "data":{
      "text\/plain":[
       "1"
      ]
     },
     "metadata":{
      
     },
     "output_type":"display_data"
    }
   ],
   "metadata":{
    "datalore":{
     "node_id":"YjeGTHy0unI44dQ7uC6xJK",
     "type":"CODE",
     "hide_input_from_viewers":false,
     "hide_output_from_viewers":false
    }
   }
  },
  {
   "cell_type":"code",
   "source":[
    "s.size"
   ],
   "execution_count":11,
   "outputs":[
    {
     "data":{
      "text\/plain":[
       "5"
      ]
     },
     "metadata":{
      
     },
     "output_type":"display_data"
    }
   ],
   "metadata":{
    "datalore":{
     "node_id":"FpxBUXz9GMydA9VTi4Glrk",
     "type":"CODE",
     "hide_input_from_viewers":false,
     "hide_output_from_viewers":false
    }
   }
  },
  {
   "cell_type":"code",
   "source":[
    "s.values"
   ],
   "execution_count":12,
   "outputs":[
    {
     "data":{
      "text\/html":[
       "<pre>array([1, 2, 3, 4, 5])<\/pre>"
      ]
     },
     "metadata":{
      
     },
     "output_type":"display_data"
    }
   ],
   "metadata":{
    "datalore":{
     "node_id":"CnydABwfjNCBRyCWvYXGTV",
     "type":"CODE",
     "hide_input_from_viewers":false,
     "hide_output_from_viewers":false
    }
   }
  },
  {
   "cell_type":"code",
   "source":[
    "s.head(2)"
   ],
   "execution_count":13,
   "outputs":[
    {
     "data":{
      "text\/html":[
       "<pre>0    1\n",
       "1    2\n",
       "dtype: int64<\/pre>"
      ]
     },
     "metadata":{
      
     },
     "output_type":"display_data"
    }
   ],
   "metadata":{
    "datalore":{
     "node_id":"qiGsTNzHkOKx9zPjs3Z8Km",
     "type":"CODE",
     "hide_input_from_viewers":false,
     "hide_output_from_viewers":false
    }
   }
  },
  {
   "cell_type":"code",
   "source":[
    "s.tail(3)"
   ],
   "execution_count":14,
   "outputs":[
    {
     "data":{
      "text\/html":[
       "<pre>2    3\n",
       "3    4\n",
       "4    5\n",
       "dtype: int64<\/pre>"
      ]
     },
     "metadata":{
      
     },
     "output_type":"display_data"
    }
   ],
   "metadata":{
    "datalore":{
     "node_id":"anO5rApu659Q8zqJvWFMQP",
     "type":"CODE",
     "hide_input_from_viewers":false,
     "hide_output_from_viewers":false
    }
   }
  },
  {
   "cell_type":"code",
   "source":[
    "s[1]"
   ],
   "execution_count":16,
   "outputs":[
    {
     "data":{
      "text\/plain":[
       "2"
      ]
     },
     "metadata":{
      
     },
     "output_type":"display_data"
    }
   ],
   "metadata":{
    "datalore":{
     "node_id":"3fUqq1ZVaQMjFsHRver6Ib",
     "type":"CODE",
     "hide_input_from_viewers":false,
     "hide_output_from_viewers":false
    }
   }
  },
  {
   "cell_type":"code",
   "source":[
    "#Changing Index Labels\n",
    "pd.Series([13,214,210,440,53])"
   ],
   "execution_count":17,
   "outputs":[
    {
     "data":{
      "text\/html":[
       "<pre>0     13\n",
       "1    214\n",
       "2    210\n",
       "3    440\n",
       "4     53\n",
       "dtype: int64<\/pre>"
      ]
     },
     "metadata":{
      
     },
     "output_type":"display_data"
    }
   ],
   "metadata":{
    "datalore":{
     "node_id":"5yTxuZHfhTOzDHx0SAHLcO",
     "type":"CODE",
     "hide_input_from_viewers":false,
     "hide_output_from_viewers":false
    }
   }
  },
  {
   "cell_type":"code",
   "source":[
    "pd.Series([13,214,210,440,53],index=[4,6,7,3,87])"
   ],
   "execution_count":18,
   "outputs":[
    {
     "data":{
      "text\/html":[
       "<pre>4      13\n",
       "6     214\n",
       "7     210\n",
       "3     440\n",
       "87     53\n",
       "dtype: int64<\/pre>"
      ]
     },
     "metadata":{
      
     },
     "output_type":"display_data"
    }
   ],
   "metadata":{
    "datalore":{
     "node_id":"40L0ixTK0lsrFwFLh9SbGK",
     "type":"CODE",
     "hide_input_from_viewers":false,
     "hide_output_from_viewers":false
    }
   }
  },
  {
   "cell_type":"code",
   "source":[
    "#Creating series with key\/value objects\n",
    "age = {\"Sathish\":31, \"Vignesh\":41,\"Swathi\":22}\n",
    "age"
   ],
   "execution_count":20,
   "outputs":[
    {
     "data":{
      "text\/plain":[
       "{'Sathish': 31, 'Vignesh': 41, 'Swathi': 22}"
      ]
     },
     "metadata":{
      
     },
     "output_type":"display_data"
    }
   ],
   "metadata":{
    "datalore":{
     "node_id":"RvPFC7xZdxz9PyRt0Izrji",
     "type":"CODE",
     "hide_input_from_viewers":false,
     "hide_output_from_viewers":false
    }
   }
  },
  {
   "cell_type":"code",
   "source":[
    "pd.Series(age)"
   ],
   "execution_count":21,
   "outputs":[
    {
     "data":{
      "text\/html":[
       "<pre>Sathish    31\n",
       "Vignesh    41\n",
       "Swathi     22\n",
       "dtype: int64<\/pre>"
      ]
     },
     "metadata":{
      
     },
     "output_type":"display_data"
    }
   ],
   "metadata":{
    "datalore":{
     "node_id":"6J0ih4e3CPvZM3V6ThdbX5",
     "type":"CODE",
     "hide_input_from_viewers":false,
     "hide_output_from_viewers":false
    }
   }
  },
  {
   "cell_type":"code",
   "source":[
    "#Merging two different Series\n",
    "s1 = pd.Series([2,3,55,2,6,44])\n",
    "s2 = pd.Series([431,653,2435,2,1,87,3])\n",
    "pd.concat([s1,s2])"
   ],
   "execution_count":22,
   "outputs":[
    {
     "data":{
      "text\/html":[
       "<pre>0       2\n",
       "1       3\n",
       "2      55\n",
       "3       2\n",
       "4       6\n",
       "5      44\n",
       "0     431\n",
       "1     653\n",
       "2    2435\n",
       "3       2\n",
       "4       1\n",
       "5      87\n",
       "6       3\n",
       "dtype: int64<\/pre>"
      ]
     },
     "metadata":{
      
     },
     "output_type":"display_data"
    }
   ],
   "metadata":{
    "datalore":{
     "node_id":"0XA6UdhGBcjp3atipYqUxu",
     "type":"CODE",
     "hide_input_from_viewers":false,
     "hide_output_from_viewers":false
    }
   }
  },
  {
   "cell_type":"code",
   "source":[
    "s1[1]"
   ],
   "execution_count":23,
   "outputs":[
    {
     "data":{
      "text\/plain":[
       "3"
      ]
     },
     "metadata":{
      
     },
     "output_type":"display_data"
    }
   ],
   "metadata":{
    "datalore":{
     "node_id":"AX7Drwutmi9SALdZ5Ulx6x",
     "type":"CODE",
     "hide_input_from_viewers":false,
     "hide_output_from_viewers":false
    }
   }
  },
  {
   "cell_type":"code",
   "source":[
    "s2[0:4]"
   ],
   "execution_count":24,
   "outputs":[
    {
     "data":{
      "text\/html":[
       "<pre>0     431\n",
       "1     653\n",
       "2    2435\n",
       "3       2\n",
       "dtype: int64<\/pre>"
      ]
     },
     "metadata":{
      
     },
     "output_type":"display_data"
    }
   ],
   "metadata":{
    "datalore":{
     "node_id":"o9QiQMkcLnoP4LIb0vIyGr",
     "type":"CODE",
     "hide_input_from_viewers":false,
     "hide_output_from_viewers":false
    }
   }
  },
  {
   "cell_type":"code",
   "source":[
    "#Queries in Pandas Series\n",
    "3 in s1"
   ],
   "execution_count":25,
   "outputs":[
    {
     "data":{
      "text\/plain":[
       "True"
      ]
     },
     "metadata":{
      
     },
     "output_type":"display_data"
    }
   ],
   "metadata":{
    "datalore":{
     "node_id":"mz1hVmt7SuKenNWDS8juzV",
     "type":"CODE",
     "hide_input_from_viewers":false,
     "hide_output_from_viewers":false
    }
   }
  },
  {
   "cell_type":"code",
   "source":[
    "#Data Frames\n",
    "dataframe = pd.DataFrame({'Name':[\"Ajay\",\"Faizal\",\"Mani\"],'Age':[23,53,12]})"
   ],
   "execution_count":31,
   "outputs":[
    
   ],
   "metadata":{
    "datalore":{
     "node_id":"mG6lDQGVphlNICsWFNMend",
     "type":"CODE",
     "hide_input_from_viewers":false,
     "hide_output_from_viewers":false
    }
   }
  },
  {
   "cell_type":"code",
   "source":[
    "dataframe[\"Age\"]"
   ],
   "execution_count":32,
   "outputs":[
    {
     "data":{
      "text\/html":[
       "<pre>0    23\n",
       "1    53\n",
       "2    12\n",
       "Name: Age, dtype: int64<\/pre>"
      ]
     },
     "metadata":{
      
     },
     "output_type":"display_data"
    }
   ],
   "metadata":{
    "datalore":{
     "node_id":"MuXx8Jei9kYNccyHEJ3zIl",
     "type":"CODE",
     "hide_input_from_viewers":false,
     "hide_output_from_viewers":false
    }
   }
  },
  {
   "cell_type":"code",
   "source":[
    "dataframe.Age"
   ],
   "execution_count":33,
   "outputs":[
    {
     "data":{
      "text\/html":[
       "<pre>0    23\n",
       "1    53\n",
       "2    12\n",
       "Name: Age, dtype: int64<\/pre>"
      ]
     },
     "metadata":{
      
     },
     "output_type":"display_data"
    }
   ],
   "metadata":{
    "datalore":{
     "node_id":"WnpiJAUmCHf5qZFrCGLyhV",
     "type":"CODE",
     "hide_input_from_viewers":false,
     "hide_output_from_viewers":false
    }
   }
  },
  {
   "cell_type":"code",
   "source":[
    "import numpy as np\n",
    "arr = np.array([5,4,2,7,1,8,6,4,3]).reshape(3,3,)\n",
    "arr"
   ],
   "execution_count":37,
   "outputs":[
    {
     "data":{
      "text\/html":[
       "<pre>array([[5, 4, 2],\n",
       "       [7, 1, 8],\n",
       "       [6, 4, 3]])<\/pre>"
      ]
     },
     "metadata":{
      
     },
     "output_type":"display_data"
    }
   ],
   "metadata":{
    "datalore":{
     "node_id":"4IvydveYap6WSn2042ewsP",
     "type":"CODE",
     "hide_input_from_viewers":false,
     "hide_output_from_viewers":false
    }
   }
  },
  {
   "cell_type":"code",
   "source":[
    "df = pd.DataFrame(arr,columns=[\"variable1\",\"variable2\",\"variable3\"])"
   ],
   "execution_count":42,
   "outputs":[
    
   ],
   "metadata":{
    "datalore":{
     "node_id":"VExELX1R4nKqFkKTh1P2GD",
     "type":"CODE",
     "hide_input_from_viewers":false,
     "hide_output_from_viewers":false
    }
   }
  },
  {
   "cell_type":"code",
   "source":[
    "#changing column names\n",
    "df.columns=(\"Var1\",\"Var2\",\"Var3\")\n",
    "df"
   ],
   "execution_count":44,
   "outputs":[
    {
     "data":{
      "text\/html":[
       "<div>\n",
       "<style scoped>\n",
       "    .dataframe tbody tr th:only-of-type {\n",
       "        vertical-align: middle;\n",
       "    }\n",
       "\n",
       "    .dataframe tbody tr th {\n",
       "        vertical-align: top;\n",
       "    }\n",
       "\n",
       "    .dataframe thead th {\n",
       "        text-align: right;\n",
       "    }\n",
       "<\/style>\n",
       "<table border=\"1\" class=\"dataframe\">\n",
       "  <thead>\n",
       "    <tr style=\"text-align: right;\">\n",
       "      <th><\/th>\n",
       "      <th>Var1<\/th>\n",
       "      <th>Var2<\/th>\n",
       "      <th>Var3<\/th>\n",
       "    <\/tr>\n",
       "  <\/thead>\n",
       "  <tbody>\n",
       "    <tr>\n",
       "      <th>0<\/th>\n",
       "      <td>5<\/td>\n",
       "      <td>4<\/td>\n",
       "      <td>2<\/td>\n",
       "    <\/tr>\n",
       "    <tr>\n",
       "      <th>1<\/th>\n",
       "      <td>7<\/td>\n",
       "      <td>1<\/td>\n",
       "      <td>8<\/td>\n",
       "    <\/tr>\n",
       "    <tr>\n",
       "      <th>2<\/th>\n",
       "      <td>6<\/td>\n",
       "      <td>4<\/td>\n",
       "      <td>3<\/td>\n",
       "    <\/tr>\n",
       "  <\/tbody>\n",
       "<\/table>\n",
       "<\/div>"
      ]
     },
     "metadata":{
      
     },
     "output_type":"display_data"
    }
   ],
   "metadata":{
    "datalore":{
     "node_id":"qe873pBb5JKtPYoXRmH8No",
     "type":"CODE",
     "hide_input_from_viewers":false,
     "hide_output_from_viewers":false
    }
   }
  },
  {
   "cell_type":"code",
   "source":[
    "df = pd.DataFrame({'Name':[\"Ajay\",\"Faizal\",\"Mani\"],'Income':[7445432,324325,463523],'Age':[23,53,12]})\n",
    "df"
   ],
   "execution_count":45,
   "outputs":[
    {
     "data":{
      "text\/html":[
       "<div>\n",
       "<style scoped>\n",
       "    .dataframe tbody tr th:only-of-type {\n",
       "        vertical-align: middle;\n",
       "    }\n",
       "\n",
       "    .dataframe tbody tr th {\n",
       "        vertical-align: top;\n",
       "    }\n",
       "\n",
       "    .dataframe thead th {\n",
       "        text-align: right;\n",
       "    }\n",
       "<\/style>\n",
       "<table border=\"1\" class=\"dataframe\">\n",
       "  <thead>\n",
       "    <tr style=\"text-align: right;\">\n",
       "      <th><\/th>\n",
       "      <th>Name<\/th>\n",
       "      <th>Income<\/th>\n",
       "      <th>Age<\/th>\n",
       "    <\/tr>\n",
       "  <\/thead>\n",
       "  <tbody>\n",
       "    <tr>\n",
       "      <th>0<\/th>\n",
       "      <td>Ajay<\/td>\n",
       "      <td>7445432<\/td>\n",
       "      <td>23<\/td>\n",
       "    <\/tr>\n",
       "    <tr>\n",
       "      <th>1<\/th>\n",
       "      <td>Faizal<\/td>\n",
       "      <td>324325<\/td>\n",
       "      <td>53<\/td>\n",
       "    <\/tr>\n",
       "    <tr>\n",
       "      <th>2<\/th>\n",
       "      <td>Mani<\/td>\n",
       "      <td>463523<\/td>\n",
       "      <td>12<\/td>\n",
       "    <\/tr>\n",
       "  <\/tbody>\n",
       "<\/table>\n",
       "<\/div>"
      ]
     },
     "metadata":{
      
     },
     "output_type":"display_data"
    }
   ],
   "metadata":{
    "datalore":{
     "node_id":"wtWqO3ETgwkQSzoSu7DhQE",
     "type":"CODE",
     "hide_input_from_viewers":false,
     "hide_output_from_viewers":false
    }
   }
  },
  {
   "cell_type":"code",
   "source":[
    "df.iloc[0]"
   ],
   "execution_count":46,
   "outputs":[
    {
     "data":{
      "text\/html":[
       "<pre>Name         Ajay\n",
       "Income    7445432\n",
       "Age            23\n",
       "Name: 0, dtype: object<\/pre>"
      ]
     },
     "metadata":{
      
     },
     "output_type":"display_data"
    }
   ],
   "metadata":{
    "datalore":{
     "node_id":"kAUtCenclL60A8KfSO6ny4",
     "type":"CODE",
     "hide_input_from_viewers":false,
     "hide_output_from_viewers":false
    }
   }
  },
  {
   "cell_type":"code",
   "source":[
    "df.iloc[[0,2]]"
   ],
   "execution_count":47,
   "outputs":[
    {
     "data":{
      "text\/html":[
       "<div>\n",
       "<style scoped>\n",
       "    .dataframe tbody tr th:only-of-type {\n",
       "        vertical-align: middle;\n",
       "    }\n",
       "\n",
       "    .dataframe tbody tr th {\n",
       "        vertical-align: top;\n",
       "    }\n",
       "\n",
       "    .dataframe thead th {\n",
       "        text-align: right;\n",
       "    }\n",
       "<\/style>\n",
       "<table border=\"1\" class=\"dataframe\">\n",
       "  <thead>\n",
       "    <tr style=\"text-align: right;\">\n",
       "      <th><\/th>\n",
       "      <th>Name<\/th>\n",
       "      <th>Income<\/th>\n",
       "      <th>Age<\/th>\n",
       "    <\/tr>\n",
       "  <\/thead>\n",
       "  <tbody>\n",
       "    <tr>\n",
       "      <th>0<\/th>\n",
       "      <td>Ajay<\/td>\n",
       "      <td>7445432<\/td>\n",
       "      <td>23<\/td>\n",
       "    <\/tr>\n",
       "    <tr>\n",
       "      <th>2<\/th>\n",
       "      <td>Mani<\/td>\n",
       "      <td>463523<\/td>\n",
       "      <td>12<\/td>\n",
       "    <\/tr>\n",
       "  <\/tbody>\n",
       "<\/table>\n",
       "<\/div>"
      ]
     },
     "metadata":{
      
     },
     "output_type":"display_data"
    }
   ],
   "metadata":{
    "datalore":{
     "node_id":"jjm1AlF2h3IW5iNgH8Kq6y",
     "type":"CODE",
     "hide_input_from_viewers":false,
     "hide_output_from_viewers":false
    }
   }
  },
  {
   "cell_type":"code",
   "source":[
    "#Merging Dataframes\n",
    "#concat fn\n",
    "import pandas as pd\n",
    "emp = pd.DataFrame({\"Name\":[\"Sathish\",\"Suresh\",\"Dilli\",\"Vijay\"],\n",
    "                    \"Dep\":[\"IT\",\"Finance\",\"HR\",\"Delivery\"],\n",
    "                    \"Salary\":[34666,234211,53422,124232],\n",
    "                    \"Age\":[24,29,54,31]})\n",
    "emp"
   ],
   "execution_count":3,
   "outputs":[
    {
     "data":{
      "text\/html":[
       "<div>\n",
       "<style scoped>\n",
       "    .dataframe tbody tr th:only-of-type {\n",
       "        vertical-align: middle;\n",
       "    }\n",
       "\n",
       "    .dataframe tbody tr th {\n",
       "        vertical-align: top;\n",
       "    }\n",
       "\n",
       "    .dataframe thead th {\n",
       "        text-align: right;\n",
       "    }\n",
       "<\/style>\n",
       "<table border=\"1\" class=\"dataframe\">\n",
       "  <thead>\n",
       "    <tr style=\"text-align: right;\">\n",
       "      <th><\/th>\n",
       "      <th>Name<\/th>\n",
       "      <th>Dep<\/th>\n",
       "      <th>Salary<\/th>\n",
       "      <th>Age<\/th>\n",
       "    <\/tr>\n",
       "  <\/thead>\n",
       "  <tbody>\n",
       "    <tr>\n",
       "      <th>0<\/th>\n",
       "      <td>Sathish<\/td>\n",
       "      <td>IT<\/td>\n",
       "      <td>34666<\/td>\n",
       "      <td>24<\/td>\n",
       "    <\/tr>\n",
       "    <tr>\n",
       "      <th>1<\/th>\n",
       "      <td>Suresh<\/td>\n",
       "      <td>Finance<\/td>\n",
       "      <td>234211<\/td>\n",
       "      <td>29<\/td>\n",
       "    <\/tr>\n",
       "    <tr>\n",
       "      <th>2<\/th>\n",
       "      <td>Dilli<\/td>\n",
       "      <td>HR<\/td>\n",
       "      <td>53422<\/td>\n",
       "      <td>54<\/td>\n",
       "    <\/tr>\n",
       "    <tr>\n",
       "      <th>3<\/th>\n",
       "      <td>Vijay<\/td>\n",
       "      <td>Delivery<\/td>\n",
       "      <td>124232<\/td>\n",
       "      <td>31<\/td>\n",
       "    <\/tr>\n",
       "  <\/tbody>\n",
       "<\/table>\n",
       "<\/div>"
      ]
     },
     "metadata":{
      
     },
     "output_type":"display_data"
    }
   ],
   "metadata":{
    "datalore":{
     "node_id":"4JGRkMMktMWEhqVAl2WUv9",
     "type":"CODE",
     "hide_input_from_viewers":false,
     "hide_output_from_viewers":false
    }
   }
  },
  {
   "cell_type":"code",
   "source":[
    "emp1 = pd.DataFrame({\"Name\":[\"Jeessy\",\"Kalki\",\"Diya\",\"Abinaya\"],\n",
    "                    \"Dep\":[\"IT\",\"Finance\",\"HR\",\"Delivery\"],\n",
    "                    \"Salary\":[23465,234341,53345,163663],\n",
    "                    \"Age\":[23,27,32,21]})\n",
    "emp1"
   ],
   "execution_count":4,
   "outputs":[
    {
     "data":{
      "text\/html":[
       "<div>\n",
       "<style scoped>\n",
       "    .dataframe tbody tr th:only-of-type {\n",
       "        vertical-align: middle;\n",
       "    }\n",
       "\n",
       "    .dataframe tbody tr th {\n",
       "        vertical-align: top;\n",
       "    }\n",
       "\n",
       "    .dataframe thead th {\n",
       "        text-align: right;\n",
       "    }\n",
       "<\/style>\n",
       "<table border=\"1\" class=\"dataframe\">\n",
       "  <thead>\n",
       "    <tr style=\"text-align: right;\">\n",
       "      <th><\/th>\n",
       "      <th>Name<\/th>\n",
       "      <th>Dep<\/th>\n",
       "      <th>Salary<\/th>\n",
       "      <th>Age<\/th>\n",
       "    <\/tr>\n",
       "  <\/thead>\n",
       "  <tbody>\n",
       "    <tr>\n",
       "      <th>0<\/th>\n",
       "      <td>Jeessy<\/td>\n",
       "      <td>IT<\/td>\n",
       "      <td>23465<\/td>\n",
       "      <td>23<\/td>\n",
       "    <\/tr>\n",
       "    <tr>\n",
       "      <th>1<\/th>\n",
       "      <td>Kalki<\/td>\n",
       "      <td>Finance<\/td>\n",
       "      <td>234341<\/td>\n",
       "      <td>27<\/td>\n",
       "    <\/tr>\n",
       "    <tr>\n",
       "      <th>2<\/th>\n",
       "      <td>Diya<\/td>\n",
       "      <td>HR<\/td>\n",
       "      <td>53345<\/td>\n",
       "      <td>32<\/td>\n",
       "    <\/tr>\n",
       "    <tr>\n",
       "      <th>3<\/th>\n",
       "      <td>Abinaya<\/td>\n",
       "      <td>Delivery<\/td>\n",
       "      <td>163663<\/td>\n",
       "      <td>21<\/td>\n",
       "    <\/tr>\n",
       "  <\/tbody>\n",
       "<\/table>\n",
       "<\/div>"
      ]
     },
     "metadata":{
      
     },
     "output_type":"display_data"
    }
   ],
   "metadata":{
    "datalore":{
     "node_id":"0cMix8rmZL1ZweKdA3Z6CX",
     "type":"CODE",
     "hide_input_from_viewers":false,
     "hide_output_from_viewers":false
    }
   }
  },
  {
   "cell_type":"code",
   "source":[
    "pd.concat([emp,emp1])"
   ],
   "execution_count":5,
   "outputs":[
    {
     "data":{
      "text\/html":[
       "<div>\n",
       "<style scoped>\n",
       "    .dataframe tbody tr th:only-of-type {\n",
       "        vertical-align: middle;\n",
       "    }\n",
       "\n",
       "    .dataframe tbody tr th {\n",
       "        vertical-align: top;\n",
       "    }\n",
       "\n",
       "    .dataframe thead th {\n",
       "        text-align: right;\n",
       "    }\n",
       "<\/style>\n",
       "<table border=\"1\" class=\"dataframe\">\n",
       "  <thead>\n",
       "    <tr style=\"text-align: right;\">\n",
       "      <th><\/th>\n",
       "      <th>Name<\/th>\n",
       "      <th>Dep<\/th>\n",
       "      <th>Salary<\/th>\n",
       "      <th>Age<\/th>\n",
       "    <\/tr>\n",
       "  <\/thead>\n",
       "  <tbody>\n",
       "    <tr>\n",
       "      <th>0<\/th>\n",
       "      <td>Sathish<\/td>\n",
       "      <td>IT<\/td>\n",
       "      <td>34666<\/td>\n",
       "      <td>24<\/td>\n",
       "    <\/tr>\n",
       "    <tr>\n",
       "      <th>1<\/th>\n",
       "      <td>Suresh<\/td>\n",
       "      <td>Finance<\/td>\n",
       "      <td>234211<\/td>\n",
       "      <td>29<\/td>\n",
       "    <\/tr>\n",
       "    <tr>\n",
       "      <th>2<\/th>\n",
       "      <td>Dilli<\/td>\n",
       "      <td>HR<\/td>\n",
       "      <td>53422<\/td>\n",
       "      <td>54<\/td>\n",
       "    <\/tr>\n",
       "    <tr>\n",
       "      <th>3<\/th>\n",
       "      <td>Vijay<\/td>\n",
       "      <td>Delivery<\/td>\n",
       "      <td>124232<\/td>\n",
       "      <td>31<\/td>\n",
       "    <\/tr>\n",
       "    <tr>\n",
       "      <th>0<\/th>\n",
       "      <td>Jeessy<\/td>\n",
       "      <td>IT<\/td>\n",
       "      <td>23465<\/td>\n",
       "      <td>23<\/td>\n",
       "    <\/tr>\n",
       "    <tr>\n",
       "      <th>1<\/th>\n",
       "      <td>Kalki<\/td>\n",
       "      <td>Finance<\/td>\n",
       "      <td>234341<\/td>\n",
       "      <td>27<\/td>\n",
       "    <\/tr>\n",
       "    <tr>\n",
       "      <th>2<\/th>\n",
       "      <td>Diya<\/td>\n",
       "      <td>HR<\/td>\n",
       "      <td>53345<\/td>\n",
       "      <td>32<\/td>\n",
       "    <\/tr>\n",
       "    <tr>\n",
       "      <th>3<\/th>\n",
       "      <td>Abinaya<\/td>\n",
       "      <td>Delivery<\/td>\n",
       "      <td>163663<\/td>\n",
       "      <td>21<\/td>\n",
       "    <\/tr>\n",
       "  <\/tbody>\n",
       "<\/table>\n",
       "<\/div>"
      ]
     },
     "metadata":{
      
     },
     "output_type":"display_data"
    }
   ],
   "metadata":{
    "datalore":{
     "node_id":"9TkjDa6N4H98148rAidJZi",
     "type":"CODE",
     "hide_input_from_viewers":false,
     "hide_output_from_viewers":false
    }
   }
  },
  {
   "cell_type":"code",
   "source":[
    "pd.concat([emp,emp1],ignore_index=True)"
   ],
   "execution_count":6,
   "outputs":[
    {
     "data":{
      "text\/html":[
       "<div>\n",
       "<style scoped>\n",
       "    .dataframe tbody tr th:only-of-type {\n",
       "        vertical-align: middle;\n",
       "    }\n",
       "\n",
       "    .dataframe tbody tr th {\n",
       "        vertical-align: top;\n",
       "    }\n",
       "\n",
       "    .dataframe thead th {\n",
       "        text-align: right;\n",
       "    }\n",
       "<\/style>\n",
       "<table border=\"1\" class=\"dataframe\">\n",
       "  <thead>\n",
       "    <tr style=\"text-align: right;\">\n",
       "      <th><\/th>\n",
       "      <th>Name<\/th>\n",
       "      <th>Dep<\/th>\n",
       "      <th>Salary<\/th>\n",
       "      <th>Age<\/th>\n",
       "    <\/tr>\n",
       "  <\/thead>\n",
       "  <tbody>\n",
       "    <tr>\n",
       "      <th>0<\/th>\n",
       "      <td>Sathish<\/td>\n",
       "      <td>IT<\/td>\n",
       "      <td>34666<\/td>\n",
       "      <td>24<\/td>\n",
       "    <\/tr>\n",
       "    <tr>\n",
       "      <th>1<\/th>\n",
       "      <td>Suresh<\/td>\n",
       "      <td>Finance<\/td>\n",
       "      <td>234211<\/td>\n",
       "      <td>29<\/td>\n",
       "    <\/tr>\n",
       "    <tr>\n",
       "      <th>2<\/th>\n",
       "      <td>Dilli<\/td>\n",
       "      <td>HR<\/td>\n",
       "      <td>53422<\/td>\n",
       "      <td>54<\/td>\n",
       "    <\/tr>\n",
       "    <tr>\n",
       "      <th>3<\/th>\n",
       "      <td>Vijay<\/td>\n",
       "      <td>Delivery<\/td>\n",
       "      <td>124232<\/td>\n",
       "      <td>31<\/td>\n",
       "    <\/tr>\n",
       "    <tr>\n",
       "      <th>4<\/th>\n",
       "      <td>Jeessy<\/td>\n",
       "      <td>IT<\/td>\n",
       "      <td>23465<\/td>\n",
       "      <td>23<\/td>\n",
       "    <\/tr>\n",
       "    <tr>\n",
       "      <th>5<\/th>\n",
       "      <td>Kalki<\/td>\n",
       "      <td>Finance<\/td>\n",
       "      <td>234341<\/td>\n",
       "      <td>27<\/td>\n",
       "    <\/tr>\n",
       "    <tr>\n",
       "      <th>6<\/th>\n",
       "      <td>Diya<\/td>\n",
       "      <td>HR<\/td>\n",
       "      <td>53345<\/td>\n",
       "      <td>32<\/td>\n",
       "    <\/tr>\n",
       "    <tr>\n",
       "      <th>7<\/th>\n",
       "      <td>Abinaya<\/td>\n",
       "      <td>Delivery<\/td>\n",
       "      <td>163663<\/td>\n",
       "      <td>21<\/td>\n",
       "    <\/tr>\n",
       "  <\/tbody>\n",
       "<\/table>\n",
       "<\/div>"
      ]
     },
     "metadata":{
      
     },
     "output_type":"display_data"
    }
   ],
   "metadata":{
    "datalore":{
     "node_id":"i4KUSFydqc0GJoSIMcfXGY",
     "type":"CODE",
     "hide_input_from_viewers":false,
     "hide_output_from_viewers":false
    }
   }
  },
  {
   "cell_type":"code",
   "source":[
    "pd.concat([emp,emp1],join=\"inner\")"
   ],
   "execution_count":8,
   "outputs":[
    {
     "data":{
      "text\/html":[
       "<div>\n",
       "<style scoped>\n",
       "    .dataframe tbody tr th:only-of-type {\n",
       "        vertical-align: middle;\n",
       "    }\n",
       "\n",
       "    .dataframe tbody tr th {\n",
       "        vertical-align: top;\n",
       "    }\n",
       "\n",
       "    .dataframe thead th {\n",
       "        text-align: right;\n",
       "    }\n",
       "<\/style>\n",
       "<table border=\"1\" class=\"dataframe\">\n",
       "  <thead>\n",
       "    <tr style=\"text-align: right;\">\n",
       "      <th><\/th>\n",
       "      <th>Name<\/th>\n",
       "      <th>Dep<\/th>\n",
       "      <th>Salary<\/th>\n",
       "      <th>Age<\/th>\n",
       "    <\/tr>\n",
       "  <\/thead>\n",
       "  <tbody>\n",
       "    <tr>\n",
       "      <th>0<\/th>\n",
       "      <td>Sathish<\/td>\n",
       "      <td>IT<\/td>\n",
       "      <td>34666<\/td>\n",
       "      <td>24<\/td>\n",
       "    <\/tr>\n",
       "    <tr>\n",
       "      <th>1<\/th>\n",
       "      <td>Suresh<\/td>\n",
       "      <td>Finance<\/td>\n",
       "      <td>234211<\/td>\n",
       "      <td>29<\/td>\n",
       "    <\/tr>\n",
       "    <tr>\n",
       "      <th>2<\/th>\n",
       "      <td>Dilli<\/td>\n",
       "      <td>HR<\/td>\n",
       "      <td>53422<\/td>\n",
       "      <td>54<\/td>\n",
       "    <\/tr>\n",
       "    <tr>\n",
       "      <th>3<\/th>\n",
       "      <td>Vijay<\/td>\n",
       "      <td>Delivery<\/td>\n",
       "      <td>124232<\/td>\n",
       "      <td>31<\/td>\n",
       "    <\/tr>\n",
       "    <tr>\n",
       "      <th>0<\/th>\n",
       "      <td>Jeessy<\/td>\n",
       "      <td>IT<\/td>\n",
       "      <td>23465<\/td>\n",
       "      <td>23<\/td>\n",
       "    <\/tr>\n",
       "    <tr>\n",
       "      <th>1<\/th>\n",
       "      <td>Kalki<\/td>\n",
       "      <td>Finance<\/td>\n",
       "      <td>234341<\/td>\n",
       "      <td>27<\/td>\n",
       "    <\/tr>\n",
       "    <tr>\n",
       "      <th>2<\/th>\n",
       "      <td>Diya<\/td>\n",
       "      <td>HR<\/td>\n",
       "      <td>53345<\/td>\n",
       "      <td>32<\/td>\n",
       "    <\/tr>\n",
       "    <tr>\n",
       "      <th>3<\/th>\n",
       "      <td>Abinaya<\/td>\n",
       "      <td>Delivery<\/td>\n",
       "      <td>163663<\/td>\n",
       "      <td>21<\/td>\n",
       "    <\/tr>\n",
       "  <\/tbody>\n",
       "<\/table>\n",
       "<\/div>"
      ]
     },
     "metadata":{
      
     },
     "output_type":"display_data"
    }
   ],
   "metadata":{
    "datalore":{
     "node_id":"KGzEkjQqnUQbika3JrG0hu",
     "type":"CODE",
     "hide_input_from_viewers":false,
     "hide_output_from_viewers":false
    }
   }
  },
  {
   "cell_type":"code",
   "source":[
    "class1= pd.DataFrame({\"Name\":[\"Mike\",\"Ana\",\"Janiel\"],\"Student Number\":[32212354,9364859,847937250],\"GPA\":[3.40,2.78,3.01]})\n",
    "class1"
   ],
   "execution_count":11,
   "outputs":[
    {
     "data":{
      "text\/html":[
       "<div>\n",
       "<style scoped>\n",
       "    .dataframe tbody tr th:only-of-type {\n",
       "        vertical-align: middle;\n",
       "    }\n",
       "\n",
       "    .dataframe tbody tr th {\n",
       "        vertical-align: top;\n",
       "    }\n",
       "\n",
       "    .dataframe thead th {\n",
       "        text-align: right;\n",
       "    }\n",
       "<\/style>\n",
       "<table border=\"1\" class=\"dataframe\">\n",
       "  <thead>\n",
       "    <tr style=\"text-align: right;\">\n",
       "      <th><\/th>\n",
       "      <th>Name<\/th>\n",
       "      <th>Student Number<\/th>\n",
       "      <th>GPA<\/th>\n",
       "    <\/tr>\n",
       "  <\/thead>\n",
       "  <tbody>\n",
       "    <tr>\n",
       "      <th>0<\/th>\n",
       "      <td>Mike<\/td>\n",
       "      <td>32212354<\/td>\n",
       "      <td>3.40<\/td>\n",
       "    <\/tr>\n",
       "    <tr>\n",
       "      <th>1<\/th>\n",
       "      <td>Ana<\/td>\n",
       "      <td>9364859<\/td>\n",
       "      <td>2.78<\/td>\n",
       "    <\/tr>\n",
       "    <tr>\n",
       "      <th>2<\/th>\n",
       "      <td>Janiel<\/td>\n",
       "      <td>847937250<\/td>\n",
       "      <td>3.01<\/td>\n",
       "    <\/tr>\n",
       "  <\/tbody>\n",
       "<\/table>\n",
       "<\/div>"
      ]
     },
     "metadata":{
      
     },
     "output_type":"display_data"
    }
   ],
   "metadata":{
    "datalore":{
     "node_id":"SOeM0EuVCj7jQfmjOW3fGP",
     "type":"CODE",
     "hide_input_from_viewers":false,
     "hide_output_from_viewers":false
    }
   }
  },
  {
   "cell_type":"code",
   "source":[
    "class2= pd.DataFrame({\"Name\":[\"Kristina\",\"Michael\",\"Arhun\"],\"Student Number\":[738273948,422413342,938674938],\"Age\":[21,24,19]})\n",
    "class2"
   ],
   "execution_count":15,
   "outputs":[
    {
     "data":{
      "text\/html":[
       "<div>\n",
       "<style scoped>\n",
       "    .dataframe tbody tr th:only-of-type {\n",
       "        vertical-align: middle;\n",
       "    }\n",
       "\n",
       "    .dataframe tbody tr th {\n",
       "        vertical-align: top;\n",
       "    }\n",
       "\n",
       "    .dataframe thead th {\n",
       "        text-align: right;\n",
       "    }\n",
       "<\/style>\n",
       "<table border=\"1\" class=\"dataframe\">\n",
       "  <thead>\n",
       "    <tr style=\"text-align: right;\">\n",
       "      <th><\/th>\n",
       "      <th>Name<\/th>\n",
       "      <th>Student Number<\/th>\n",
       "      <th>Age<\/th>\n",
       "    <\/tr>\n",
       "  <\/thead>\n",
       "  <tbody>\n",
       "    <tr>\n",
       "      <th>0<\/th>\n",
       "      <td>Kristina<\/td>\n",
       "      <td>738273948<\/td>\n",
       "      <td>21<\/td>\n",
       "    <\/tr>\n",
       "    <tr>\n",
       "      <th>1<\/th>\n",
       "      <td>Michael<\/td>\n",
       "      <td>422413342<\/td>\n",
       "      <td>24<\/td>\n",
       "    <\/tr>\n",
       "    <tr>\n",
       "      <th>2<\/th>\n",
       "      <td>Arhun<\/td>\n",
       "      <td>938674938<\/td>\n",
       "      <td>19<\/td>\n",
       "    <\/tr>\n",
       "  <\/tbody>\n",
       "<\/table>\n",
       "<\/div>"
      ]
     },
     "metadata":{
      
     },
     "output_type":"display_data"
    }
   ],
   "metadata":{
    "datalore":{
     "node_id":"31DnMdPBhnc7ba2fEmXVFH",
     "type":"CODE",
     "hide_input_from_viewers":false,
     "hide_output_from_viewers":false
    }
   }
  },
  {
   "cell_type":"code",
   "source":[
    "pd.concat([class1,class2],join=\"inner\")"
   ],
   "execution_count":16,
   "outputs":[
    {
     "data":{
      "text\/html":[
       "<div>\n",
       "<style scoped>\n",
       "    .dataframe tbody tr th:only-of-type {\n",
       "        vertical-align: middle;\n",
       "    }\n",
       "\n",
       "    .dataframe tbody tr th {\n",
       "        vertical-align: top;\n",
       "    }\n",
       "\n",
       "    .dataframe thead th {\n",
       "        text-align: right;\n",
       "    }\n",
       "<\/style>\n",
       "<table border=\"1\" class=\"dataframe\">\n",
       "  <thead>\n",
       "    <tr style=\"text-align: right;\">\n",
       "      <th><\/th>\n",
       "      <th>Name<\/th>\n",
       "      <th>Student Number<\/th>\n",
       "    <\/tr>\n",
       "  <\/thead>\n",
       "  <tbody>\n",
       "    <tr>\n",
       "      <th>0<\/th>\n",
       "      <td>Mike<\/td>\n",
       "      <td>32212354<\/td>\n",
       "    <\/tr>\n",
       "    <tr>\n",
       "      <th>1<\/th>\n",
       "      <td>Ana<\/td>\n",
       "      <td>9364859<\/td>\n",
       "    <\/tr>\n",
       "    <tr>\n",
       "      <th>2<\/th>\n",
       "      <td>Janiel<\/td>\n",
       "      <td>847937250<\/td>\n",
       "    <\/tr>\n",
       "    <tr>\n",
       "      <th>0<\/th>\n",
       "      <td>Kristina<\/td>\n",
       "      <td>738273948<\/td>\n",
       "    <\/tr>\n",
       "    <tr>\n",
       "      <th>1<\/th>\n",
       "      <td>Michael<\/td>\n",
       "      <td>422413342<\/td>\n",
       "    <\/tr>\n",
       "    <tr>\n",
       "      <th>2<\/th>\n",
       "      <td>Arhun<\/td>\n",
       "      <td>938674938<\/td>\n",
       "    <\/tr>\n",
       "  <\/tbody>\n",
       "<\/table>\n",
       "<\/div>"
      ]
     },
     "metadata":{
      
     },
     "output_type":"display_data"
    }
   ],
   "metadata":{
    "datalore":{
     "node_id":"gZCpDmMYVWCVa2oGNMT2ok",
     "type":"CODE",
     "hide_input_from_viewers":false,
     "hide_output_from_viewers":false
    }
   }
  },
  {
   "cell_type":"code",
   "source":[
    "pd.concat([class1,class2],join=\"outer\")"
   ],
   "execution_count":17,
   "outputs":[
    {
     "data":{
      "text\/html":[
       "<div>\n",
       "<style scoped>\n",
       "    .dataframe tbody tr th:only-of-type {\n",
       "        vertical-align: middle;\n",
       "    }\n",
       "\n",
       "    .dataframe tbody tr th {\n",
       "        vertical-align: top;\n",
       "    }\n",
       "\n",
       "    .dataframe thead th {\n",
       "        text-align: right;\n",
       "    }\n",
       "<\/style>\n",
       "<table border=\"1\" class=\"dataframe\">\n",
       "  <thead>\n",
       "    <tr style=\"text-align: right;\">\n",
       "      <th><\/th>\n",
       "      <th>Name<\/th>\n",
       "      <th>Student Number<\/th>\n",
       "      <th>GPA<\/th>\n",
       "      <th>Age<\/th>\n",
       "    <\/tr>\n",
       "  <\/thead>\n",
       "  <tbody>\n",
       "    <tr>\n",
       "      <th>0<\/th>\n",
       "      <td>Mike<\/td>\n",
       "      <td>32212354<\/td>\n",
       "      <td>3.40<\/td>\n",
       "      <td>NaN<\/td>\n",
       "    <\/tr>\n",
       "    <tr>\n",
       "      <th>1<\/th>\n",
       "      <td>Ana<\/td>\n",
       "      <td>9364859<\/td>\n",
       "      <td>2.78<\/td>\n",
       "      <td>NaN<\/td>\n",
       "    <\/tr>\n",
       "    <tr>\n",
       "      <th>2<\/th>\n",
       "      <td>Janiel<\/td>\n",
       "      <td>847937250<\/td>\n",
       "      <td>3.01<\/td>\n",
       "      <td>NaN<\/td>\n",
       "    <\/tr>\n",
       "    <tr>\n",
       "      <th>0<\/th>\n",
       "      <td>Kristina<\/td>\n",
       "      <td>738273948<\/td>\n",
       "      <td>NaN<\/td>\n",
       "      <td>21.0<\/td>\n",
       "    <\/tr>\n",
       "    <tr>\n",
       "      <th>1<\/th>\n",
       "      <td>Michael<\/td>\n",
       "      <td>422413342<\/td>\n",
       "      <td>NaN<\/td>\n",
       "      <td>24.0<\/td>\n",
       "    <\/tr>\n",
       "    <tr>\n",
       "      <th>2<\/th>\n",
       "      <td>Arhun<\/td>\n",
       "      <td>938674938<\/td>\n",
       "      <td>NaN<\/td>\n",
       "      <td>19.0<\/td>\n",
       "    <\/tr>\n",
       "  <\/tbody>\n",
       "<\/table>\n",
       "<\/div>"
      ]
     },
     "metadata":{
      
     },
     "output_type":"display_data"
    }
   ],
   "metadata":{
    "datalore":{
     "node_id":"dIXdZfNx1RS0ozjZRnKoyu",
     "type":"CODE",
     "hide_input_from_viewers":false,
     "hide_output_from_viewers":false
    }
   }
  },
  {
   "cell_type":"code",
   "source":[
    "pd.merge(class1,class2,how=\"left\")"
   ],
   "execution_count":18,
   "outputs":[
    {
     "data":{
      "text\/html":[
       "<div>\n",
       "<style scoped>\n",
       "    .dataframe tbody tr th:only-of-type {\n",
       "        vertical-align: middle;\n",
       "    }\n",
       "\n",
       "    .dataframe tbody tr th {\n",
       "        vertical-align: top;\n",
       "    }\n",
       "\n",
       "    .dataframe thead th {\n",
       "        text-align: right;\n",
       "    }\n",
       "<\/style>\n",
       "<table border=\"1\" class=\"dataframe\">\n",
       "  <thead>\n",
       "    <tr style=\"text-align: right;\">\n",
       "      <th><\/th>\n",
       "      <th>Name<\/th>\n",
       "      <th>Student Number<\/th>\n",
       "      <th>GPA<\/th>\n",
       "      <th>Age<\/th>\n",
       "    <\/tr>\n",
       "  <\/thead>\n",
       "  <tbody>\n",
       "    <tr>\n",
       "      <th>0<\/th>\n",
       "      <td>Mike<\/td>\n",
       "      <td>32212354<\/td>\n",
       "      <td>3.40<\/td>\n",
       "      <td>NaN<\/td>\n",
       "    <\/tr>\n",
       "    <tr>\n",
       "      <th>1<\/th>\n",
       "      <td>Ana<\/td>\n",
       "      <td>9364859<\/td>\n",
       "      <td>2.78<\/td>\n",
       "      <td>NaN<\/td>\n",
       "    <\/tr>\n",
       "    <tr>\n",
       "      <th>2<\/th>\n",
       "      <td>Janiel<\/td>\n",
       "      <td>847937250<\/td>\n",
       "      <td>3.01<\/td>\n",
       "      <td>NaN<\/td>\n",
       "    <\/tr>\n",
       "  <\/tbody>\n",
       "<\/table>\n",
       "<\/div>"
      ]
     },
     "metadata":{
      
     },
     "output_type":"display_data"
    }
   ],
   "metadata":{
    "datalore":{
     "node_id":"WaQJ7kvranyd3jwtdjoD9Y",
     "type":"CODE",
     "hide_input_from_viewers":false,
     "hide_output_from_viewers":false
    }
   }
  },
  {
   "cell_type":"code",
   "source":[
    "pd.merge(class1,class2,how=\"right\")"
   ],
   "execution_count":19,
   "outputs":[
    {
     "data":{
      "text\/html":[
       "<div>\n",
       "<style scoped>\n",
       "    .dataframe tbody tr th:only-of-type {\n",
       "        vertical-align: middle;\n",
       "    }\n",
       "\n",
       "    .dataframe tbody tr th {\n",
       "        vertical-align: top;\n",
       "    }\n",
       "\n",
       "    .dataframe thead th {\n",
       "        text-align: right;\n",
       "    }\n",
       "<\/style>\n",
       "<table border=\"1\" class=\"dataframe\">\n",
       "  <thead>\n",
       "    <tr style=\"text-align: right;\">\n",
       "      <th><\/th>\n",
       "      <th>Name<\/th>\n",
       "      <th>Student Number<\/th>\n",
       "      <th>GPA<\/th>\n",
       "      <th>Age<\/th>\n",
       "    <\/tr>\n",
       "  <\/thead>\n",
       "  <tbody>\n",
       "    <tr>\n",
       "      <th>0<\/th>\n",
       "      <td>Kristina<\/td>\n",
       "      <td>738273948<\/td>\n",
       "      <td>NaN<\/td>\n",
       "      <td>21<\/td>\n",
       "    <\/tr>\n",
       "    <tr>\n",
       "      <th>1<\/th>\n",
       "      <td>Michael<\/td>\n",
       "      <td>422413342<\/td>\n",
       "      <td>NaN<\/td>\n",
       "      <td>24<\/td>\n",
       "    <\/tr>\n",
       "    <tr>\n",
       "      <th>2<\/th>\n",
       "      <td>Arhun<\/td>\n",
       "      <td>938674938<\/td>\n",
       "      <td>NaN<\/td>\n",
       "      <td>19<\/td>\n",
       "    <\/tr>\n",
       "  <\/tbody>\n",
       "<\/table>\n",
       "<\/div>"
      ]
     },
     "metadata":{
      
     },
     "output_type":"display_data"
    }
   ],
   "metadata":{
    "datalore":{
     "node_id":"I0bkWi9gXv00zpqulvdHuS",
     "type":"CODE",
     "hide_input_from_viewers":false,
     "hide_output_from_viewers":false
    }
   }
  },
  {
   "cell_type":"code",
   "source":[
    "#Append\n",
    "class1.append(class2,ignore_index=True)"
   ],
   "execution_count":20,
   "outputs":[
    {
     "data":{
      "text\/html":[
       "<div>\n",
       "<style scoped>\n",
       "    .dataframe tbody tr th:only-of-type {\n",
       "        vertical-align: middle;\n",
       "    }\n",
       "\n",
       "    .dataframe tbody tr th {\n",
       "        vertical-align: top;\n",
       "    }\n",
       "\n",
       "    .dataframe thead th {\n",
       "        text-align: right;\n",
       "    }\n",
       "<\/style>\n",
       "<table border=\"1\" class=\"dataframe\">\n",
       "  <thead>\n",
       "    <tr style=\"text-align: right;\">\n",
       "      <th><\/th>\n",
       "      <th>Name<\/th>\n",
       "      <th>Student Number<\/th>\n",
       "      <th>GPA<\/th>\n",
       "      <th>Age<\/th>\n",
       "    <\/tr>\n",
       "  <\/thead>\n",
       "  <tbody>\n",
       "    <tr>\n",
       "      <th>0<\/th>\n",
       "      <td>Mike<\/td>\n",
       "      <td>32212354<\/td>\n",
       "      <td>3.40<\/td>\n",
       "      <td>NaN<\/td>\n",
       "    <\/tr>\n",
       "    <tr>\n",
       "      <th>1<\/th>\n",
       "      <td>Ana<\/td>\n",
       "      <td>9364859<\/td>\n",
       "      <td>2.78<\/td>\n",
       "      <td>NaN<\/td>\n",
       "    <\/tr>\n",
       "    <tr>\n",
       "      <th>2<\/th>\n",
       "      <td>Janiel<\/td>\n",
       "      <td>847937250<\/td>\n",
       "      <td>3.01<\/td>\n",
       "      <td>NaN<\/td>\n",
       "    <\/tr>\n",
       "    <tr>\n",
       "      <th>3<\/th>\n",
       "      <td>Kristina<\/td>\n",
       "      <td>738273948<\/td>\n",
       "      <td>NaN<\/td>\n",
       "      <td>21.0<\/td>\n",
       "    <\/tr>\n",
       "    <tr>\n",
       "      <th>4<\/th>\n",
       "      <td>Michael<\/td>\n",
       "      <td>422413342<\/td>\n",
       "      <td>NaN<\/td>\n",
       "      <td>24.0<\/td>\n",
       "    <\/tr>\n",
       "    <tr>\n",
       "      <th>5<\/th>\n",
       "      <td>Arhun<\/td>\n",
       "      <td>938674938<\/td>\n",
       "      <td>NaN<\/td>\n",
       "      <td>19.0<\/td>\n",
       "    <\/tr>\n",
       "  <\/tbody>\n",
       "<\/table>\n",
       "<\/div>"
      ]
     },
     "metadata":{
      
     },
     "output_type":"display_data"
    }
   ],
   "metadata":{
    "datalore":{
     "node_id":"Yd5RdkeMuwyBSsUesDDkGy",
     "type":"CODE",
     "hide_input_from_viewers":false,
     "hide_output_from_viewers":false
    }
   }
  },
  {
   "cell_type":"code",
   "source":[
    "#Sorting\n",
    "class1.sort_values(by=\"Name\")"
   ],
   "execution_count":21,
   "outputs":[
    {
     "data":{
      "text\/html":[
       "<div>\n",
       "<style scoped>\n",
       "    .dataframe tbody tr th:only-of-type {\n",
       "        vertical-align: middle;\n",
       "    }\n",
       "\n",
       "    .dataframe tbody tr th {\n",
       "        vertical-align: top;\n",
       "    }\n",
       "\n",
       "    .dataframe thead th {\n",
       "        text-align: right;\n",
       "    }\n",
       "<\/style>\n",
       "<table border=\"1\" class=\"dataframe\">\n",
       "  <thead>\n",
       "    <tr style=\"text-align: right;\">\n",
       "      <th><\/th>\n",
       "      <th>Name<\/th>\n",
       "      <th>Student Number<\/th>\n",
       "      <th>GPA<\/th>\n",
       "    <\/tr>\n",
       "  <\/thead>\n",
       "  <tbody>\n",
       "    <tr>\n",
       "      <th>1<\/th>\n",
       "      <td>Ana<\/td>\n",
       "      <td>9364859<\/td>\n",
       "      <td>2.78<\/td>\n",
       "    <\/tr>\n",
       "    <tr>\n",
       "      <th>2<\/th>\n",
       "      <td>Janiel<\/td>\n",
       "      <td>847937250<\/td>\n",
       "      <td>3.01<\/td>\n",
       "    <\/tr>\n",
       "    <tr>\n",
       "      <th>0<\/th>\n",
       "      <td>Mike<\/td>\n",
       "      <td>32212354<\/td>\n",
       "      <td>3.40<\/td>\n",
       "    <\/tr>\n",
       "  <\/tbody>\n",
       "<\/table>\n",
       "<\/div>"
      ]
     },
     "metadata":{
      
     },
     "output_type":"display_data"
    }
   ],
   "metadata":{
    "datalore":{
     "node_id":"R1TTgweOXTspk9Y0wwPDSs",
     "type":"CODE",
     "hide_input_from_viewers":false,
     "hide_output_from_viewers":false
    }
   }
  },
  {
   "cell_type":"code",
   "source":[
    "#Aggreagation Functions\n",
    "employees = pd.DataFrame({\"Name\":[\"Josh\",\"Mike\",\"Julia\",\"Sergio\",\"Julia\",\"Michael\",\"Sarath\",\"Jakub\",\"Chris\"],\n",
    "                          \"Department\":[\"IT\",\"Human Resources\",\"Finance\",\"Supply Chain\",\"Finance\",\"Marketing\",\"IT\",\"Human Resources\",\"Law\"],\n",
    "                          \"Income\":[4800,5200,6600,5700,7200,8400,7700,4200,9400],\n",
    "                          \"Age\":[24,28,33,41,22,46,31,27,39],\n",
    "                          \"Experience\":[2,5,9,17,1,24,10,6,13]})\n",
    "employees"
   ],
   "execution_count":22,
   "outputs":[
    {
     "data":{
      "text\/html":[
       "<div>\n",
       "<style scoped>\n",
       "    .dataframe tbody tr th:only-of-type {\n",
       "        vertical-align: middle;\n",
       "    }\n",
       "\n",
       "    .dataframe tbody tr th {\n",
       "        vertical-align: top;\n",
       "    }\n",
       "\n",
       "    .dataframe thead th {\n",
       "        text-align: right;\n",
       "    }\n",
       "<\/style>\n",
       "<table border=\"1\" class=\"dataframe\">\n",
       "  <thead>\n",
       "    <tr style=\"text-align: right;\">\n",
       "      <th><\/th>\n",
       "      <th>Name<\/th>\n",
       "      <th>Department<\/th>\n",
       "      <th>Income<\/th>\n",
       "      <th>Age<\/th>\n",
       "      <th>Experience<\/th>\n",
       "    <\/tr>\n",
       "  <\/thead>\n",
       "  <tbody>\n",
       "    <tr>\n",
       "      <th>0<\/th>\n",
       "      <td>Josh<\/td>\n",
       "      <td>IT<\/td>\n",
       "      <td>4800<\/td>\n",
       "      <td>24<\/td>\n",
       "      <td>2<\/td>\n",
       "    <\/tr>\n",
       "    <tr>\n",
       "      <th>1<\/th>\n",
       "      <td>Mike<\/td>\n",
       "      <td>Human Resources<\/td>\n",
       "      <td>5200<\/td>\n",
       "      <td>28<\/td>\n",
       "      <td>5<\/td>\n",
       "    <\/tr>\n",
       "    <tr>\n",
       "      <th>2<\/th>\n",
       "      <td>Julia<\/td>\n",
       "      <td>Finance<\/td>\n",
       "      <td>6600<\/td>\n",
       "      <td>33<\/td>\n",
       "      <td>9<\/td>\n",
       "    <\/tr>\n",
       "    <tr>\n",
       "      <th>3<\/th>\n",
       "      <td>Sergio<\/td>\n",
       "      <td>Supply Chain<\/td>\n",
       "      <td>5700<\/td>\n",
       "      <td>41<\/td>\n",
       "      <td>17<\/td>\n",
       "    <\/tr>\n",
       "    <tr>\n",
       "      <th>4<\/th>\n",
       "      <td>Julia<\/td>\n",
       "      <td>Finance<\/td>\n",
       "      <td>7200<\/td>\n",
       "      <td>22<\/td>\n",
       "      <td>1<\/td>\n",
       "    <\/tr>\n",
       "    <tr>\n",
       "      <th>5<\/th>\n",
       "      <td>Michael<\/td>\n",
       "      <td>Marketing<\/td>\n",
       "      <td>8400<\/td>\n",
       "      <td>46<\/td>\n",
       "      <td>24<\/td>\n",
       "    <\/tr>\n",
       "    <tr>\n",
       "      <th>6<\/th>\n",
       "      <td>Sarath<\/td>\n",
       "      <td>IT<\/td>\n",
       "      <td>7700<\/td>\n",
       "      <td>31<\/td>\n",
       "      <td>10<\/td>\n",
       "    <\/tr>\n",
       "    <tr>\n",
       "      <th>7<\/th>\n",
       "      <td>Jakub<\/td>\n",
       "      <td>Human Resources<\/td>\n",
       "      <td>4200<\/td>\n",
       "      <td>27<\/td>\n",
       "      <td>6<\/td>\n",
       "    <\/tr>\n",
       "    <tr>\n",
       "      <th>8<\/th>\n",
       "      <td>Chris<\/td>\n",
       "      <td>Law<\/td>\n",
       "      <td>9400<\/td>\n",
       "      <td>39<\/td>\n",
       "      <td>13<\/td>\n",
       "    <\/tr>\n",
       "  <\/tbody>\n",
       "<\/table>\n",
       "<\/div>"
      ]
     },
     "metadata":{
      
     },
     "output_type":"display_data"
    }
   ],
   "metadata":{
    "datalore":{
     "node_id":"07Ua5yeNuGBgvrZee4g6qE",
     "type":"CODE",
     "hide_input_from_viewers":false,
     "hide_output_from_viewers":false
    }
   }
  },
  {
   "cell_type":"code",
   "source":[
    "employees.count()"
   ],
   "execution_count":23,
   "outputs":[
    {
     "data":{
      "text\/html":[
       "<pre>Name          9\n",
       "Department    9\n",
       "Income        9\n",
       "Age           9\n",
       "Experience    9\n",
       "dtype: int64<\/pre>"
      ]
     },
     "metadata":{
      
     },
     "output_type":"display_data"
    }
   ],
   "metadata":{
    "datalore":{
     "node_id":"7aV3iBMOaDPaQtIrMi05Cs",
     "type":"CODE",
     "hide_input_from_viewers":false,
     "hide_output_from_viewers":false
    }
   }
  },
  {
   "cell_type":"code",
   "source":[
    "employees[\"Department\"].value_counts()"
   ],
   "execution_count":26,
   "outputs":[
    {
     "data":{
      "text\/html":[
       "<pre>IT                 2\n",
       "Human Resources    2\n",
       "Finance            2\n",
       "Supply Chain       1\n",
       "Marketing          1\n",
       "Law                1\n",
       "Name: Department, dtype: int64<\/pre>"
      ]
     },
     "metadata":{
      
     },
     "output_type":"display_data"
    }
   ],
   "metadata":{
    "datalore":{
     "node_id":"hLbIORkAO0cmg1AYYRkz7f",
     "type":"CODE",
     "hide_input_from_viewers":false,
     "hide_output_from_viewers":false
    }
   }
  },
  {
   "cell_type":"code",
   "source":[
    "employees.mean()"
   ],
   "execution_count":27,
   "outputs":[
    {
     "name":"stderr",
     "text":[
      "<ipython-input-27-54586efc808d>:1: FutureWarning: Dropping of nuisance columns in DataFrame reductions (with 'numeric_only=None') is deprecated; in a future version this will raise TypeError.  Select only valid columns before calling the reduction.\n",
      "  employees.mean()\n"
     ],
     "output_type":"stream"
    },
    {
     "data":{
      "text\/html":[
       "<pre>Income        6577.777778\n",
       "Age             32.333333\n",
       "Experience       9.666667\n",
       "dtype: float64<\/pre>"
      ]
     },
     "metadata":{
      
     },
     "output_type":"display_data"
    }
   ],
   "metadata":{
    "datalore":{
     "node_id":"zo71EmPWYNnTB5NBkj1tJg",
     "type":"CODE",
     "hide_input_from_viewers":false,
     "hide_output_from_viewers":false
    }
   }
  },
  {
   "cell_type":"code",
   "source":[
    "employees.median()"
   ],
   "execution_count":28,
   "outputs":[
    {
     "name":"stderr",
     "text":[
      "<ipython-input-28-8010e1878e06>:1: FutureWarning: Dropping of nuisance columns in DataFrame reductions (with 'numeric_only=None') is deprecated; in a future version this will raise TypeError.  Select only valid columns before calling the reduction.\n",
      "  employees.median()\n"
     ],
     "output_type":"stream"
    },
    {
     "data":{
      "text\/html":[
       "<pre>Income        6600.0\n",
       "Age             31.0\n",
       "Experience       9.0\n",
       "dtype: float64<\/pre>"
      ]
     },
     "metadata":{
      
     },
     "output_type":"display_data"
    }
   ],
   "metadata":{
    "datalore":{
     "node_id":"KbTrpjVOZEY8nIslVCGTNf",
     "type":"CODE",
     "hide_input_from_viewers":false,
     "hide_output_from_viewers":false
    }
   }
  },
  {
   "cell_type":"code",
   "source":[
    "employees.sum()"
   ],
   "execution_count":29,
   "outputs":[
    {
     "data":{
      "text\/html":[
       "<pre>Name            JoshMikeJuliaSergioJuliaMichaelSarathJakubChris\n",
       "Department    ITHuman ResourcesFinanceSupply ChainFinanceMar...\n",
       "Income                                                    59200\n",
       "Age                                                         291\n",
       "Experience                                                   87\n",
       "dtype: object<\/pre>"
      ]
     },
     "metadata":{
      
     },
     "output_type":"display_data"
    }
   ],
   "metadata":{
    "datalore":{
     "node_id":"qmVnAJEXkhfCexOPK9hWVj",
     "type":"CODE",
     "hide_input_from_viewers":false,
     "hide_output_from_viewers":false
    }
   }
  },
  {
   "cell_type":"code",
   "source":[
    "employees.min()"
   ],
   "execution_count":30,
   "outputs":[
    {
     "data":{
      "text\/html":[
       "<pre>Name            Chris\n",
       "Department    Finance\n",
       "Income           4200\n",
       "Age                22\n",
       "Experience          1\n",
       "dtype: object<\/pre>"
      ]
     },
     "metadata":{
      
     },
     "output_type":"display_data"
    }
   ],
   "metadata":{
    "datalore":{
     "node_id":"ILD2pWwDff8ZcHSmBuORjZ",
     "type":"CODE",
     "hide_input_from_viewers":false,
     "hide_output_from_viewers":false
    }
   }
  },
  {
   "cell_type":"code",
   "source":[
    "employees.max()"
   ],
   "execution_count":31,
   "outputs":[
    {
     "data":{
      "text\/html":[
       "<pre>Name                Sergio\n",
       "Department    Supply Chain\n",
       "Income                9400\n",
       "Age                     46\n",
       "Experience              24\n",
       "dtype: object<\/pre>"
      ]
     },
     "metadata":{
      
     },
     "output_type":"display_data"
    }
   ],
   "metadata":{
    "datalore":{
     "node_id":"ZLfYVAcrQGZnHI4CPS4b4G",
     "type":"CODE",
     "hide_input_from_viewers":false,
     "hide_output_from_viewers":false
    }
   }
  },
  {
   "cell_type":"code",
   "source":[
    "employees.std()"
   ],
   "execution_count":32,
   "outputs":[
    {
     "name":"stderr",
     "text":[
      "<ipython-input-32-561b13b4ed81>:1: FutureWarning: Dropping of nuisance columns in DataFrame reductions (with 'numeric_only=None') is deprecated; in a future version this will raise TypeError.  Select only valid columns before calling the reduction.\n",
      "  employees.std()\n"
     ],
     "output_type":"stream"
    },
    {
     "data":{
      "text\/html":[
       "<pre>Income        1746.981524\n",
       "Age              8.154753\n",
       "Experience       7.416198\n",
       "dtype: float64<\/pre>"
      ]
     },
     "metadata":{
      
     },
     "output_type":"display_data"
    }
   ],
   "metadata":{
    "datalore":{
     "node_id":"se1Z0mcgr3Q101WqrMPk9c",
     "type":"CODE",
     "hide_input_from_viewers":false,
     "hide_output_from_viewers":false
    }
   }
  },
  {
   "cell_type":"code",
   "source":[
    "employees.var()"
   ],
   "execution_count":33,
   "outputs":[
    {
     "name":"stderr",
     "text":[
      "<ipython-input-33-c383542361dd>:1: FutureWarning: Dropping of nuisance columns in DataFrame reductions (with 'numeric_only=None') is deprecated; in a future version this will raise TypeError.  Select only valid columns before calling the reduction.\n",
      "  employees.var()\n"
     ],
     "output_type":"stream"
    },
    {
     "data":{
      "text\/html":[
       "<pre>Income        3.051944e+06\n",
       "Age           6.650000e+01\n",
       "Experience    5.500000e+01\n",
       "dtype: float64<\/pre>"
      ]
     },
     "metadata":{
      
     },
     "output_type":"display_data"
    }
   ],
   "metadata":{
    "datalore":{
     "node_id":"CePzy4JSzFc1gYJq8fG8l8",
     "type":"CODE",
     "hide_input_from_viewers":false,
     "hide_output_from_viewers":false
    }
   }
  },
  {
   "cell_type":"code",
   "source":[
    "employees.describe()"
   ],
   "execution_count":34,
   "outputs":[
    {
     "data":{
      "text\/html":[
       "<div>\n",
       "<style scoped>\n",
       "    .dataframe tbody tr th:only-of-type {\n",
       "        vertical-align: middle;\n",
       "    }\n",
       "\n",
       "    .dataframe tbody tr th {\n",
       "        vertical-align: top;\n",
       "    }\n",
       "\n",
       "    .dataframe thead th {\n",
       "        text-align: right;\n",
       "    }\n",
       "<\/style>\n",
       "<table border=\"1\" class=\"dataframe\">\n",
       "  <thead>\n",
       "    <tr style=\"text-align: right;\">\n",
       "      <th><\/th>\n",
       "      <th>Income<\/th>\n",
       "      <th>Age<\/th>\n",
       "      <th>Experience<\/th>\n",
       "    <\/tr>\n",
       "  <\/thead>\n",
       "  <tbody>\n",
       "    <tr>\n",
       "      <th>count<\/th>\n",
       "      <td>9.000000<\/td>\n",
       "      <td>9.000000<\/td>\n",
       "      <td>9.000000<\/td>\n",
       "    <\/tr>\n",
       "    <tr>\n",
       "      <th>mean<\/th>\n",
       "      <td>6577.777778<\/td>\n",
       "      <td>32.333333<\/td>\n",
       "      <td>9.666667<\/td>\n",
       "    <\/tr>\n",
       "    <tr>\n",
       "      <th>std<\/th>\n",
       "      <td>1746.981524<\/td>\n",
       "      <td>8.154753<\/td>\n",
       "      <td>7.416198<\/td>\n",
       "    <\/tr>\n",
       "    <tr>\n",
       "      <th>min<\/th>\n",
       "      <td>4200.000000<\/td>\n",
       "      <td>22.000000<\/td>\n",
       "      <td>1.000000<\/td>\n",
       "    <\/tr>\n",
       "    <tr>\n",
       "      <th>25%<\/th>\n",
       "      <td>5200.000000<\/td>\n",
       "      <td>27.000000<\/td>\n",
       "      <td>5.000000<\/td>\n",
       "    <\/tr>\n",
       "    <tr>\n",
       "      <th>50%<\/th>\n",
       "      <td>6600.000000<\/td>\n",
       "      <td>31.000000<\/td>\n",
       "      <td>9.000000<\/td>\n",
       "    <\/tr>\n",
       "    <tr>\n",
       "      <th>75%<\/th>\n",
       "      <td>7700.000000<\/td>\n",
       "      <td>39.000000<\/td>\n",
       "      <td>13.000000<\/td>\n",
       "    <\/tr>\n",
       "    <tr>\n",
       "      <th>max<\/th>\n",
       "      <td>9400.000000<\/td>\n",
       "      <td>46.000000<\/td>\n",
       "      <td>24.000000<\/td>\n",
       "    <\/tr>\n",
       "  <\/tbody>\n",
       "<\/table>\n",
       "<\/div>"
      ]
     },
     "metadata":{
      
     },
     "output_type":"display_data"
    }
   ],
   "metadata":{
    "datalore":{
     "node_id":"2jQc4yyMqCHxpOnpa3CYwY",
     "type":"CODE",
     "hide_input_from_viewers":false,
     "hide_output_from_viewers":false
    }
   }
  },
  {
   "cell_type":"code",
   "source":[
    "employees.describe().T"
   ],
   "execution_count":35,
   "outputs":[
    {
     "data":{
      "text\/html":[
       "<div>\n",
       "<style scoped>\n",
       "    .dataframe tbody tr th:only-of-type {\n",
       "        vertical-align: middle;\n",
       "    }\n",
       "\n",
       "    .dataframe tbody tr th {\n",
       "        vertical-align: top;\n",
       "    }\n",
       "\n",
       "    .dataframe thead th {\n",
       "        text-align: right;\n",
       "    }\n",
       "<\/style>\n",
       "<table border=\"1\" class=\"dataframe\">\n",
       "  <thead>\n",
       "    <tr style=\"text-align: right;\">\n",
       "      <th><\/th>\n",
       "      <th>count<\/th>\n",
       "      <th>mean<\/th>\n",
       "      <th>std<\/th>\n",
       "      <th>min<\/th>\n",
       "      <th>25%<\/th>\n",
       "      <th>50%<\/th>\n",
       "      <th>75%<\/th>\n",
       "      <th>max<\/th>\n",
       "    <\/tr>\n",
       "  <\/thead>\n",
       "  <tbody>\n",
       "    <tr>\n",
       "      <th>Income<\/th>\n",
       "      <td>9.0<\/td>\n",
       "      <td>6577.777778<\/td>\n",
       "      <td>1746.981524<\/td>\n",
       "      <td>4200.0<\/td>\n",
       "      <td>5200.0<\/td>\n",
       "      <td>6600.0<\/td>\n",
       "      <td>7700.0<\/td>\n",
       "      <td>9400.0<\/td>\n",
       "    <\/tr>\n",
       "    <tr>\n",
       "      <th>Age<\/th>\n",
       "      <td>9.0<\/td>\n",
       "      <td>32.333333<\/td>\n",
       "      <td>8.154753<\/td>\n",
       "      <td>22.0<\/td>\n",
       "      <td>27.0<\/td>\n",
       "      <td>31.0<\/td>\n",
       "      <td>39.0<\/td>\n",
       "      <td>46.0<\/td>\n",
       "    <\/tr>\n",
       "    <tr>\n",
       "      <th>Experience<\/th>\n",
       "      <td>9.0<\/td>\n",
       "      <td>9.666667<\/td>\n",
       "      <td>7.416198<\/td>\n",
       "      <td>1.0<\/td>\n",
       "      <td>5.0<\/td>\n",
       "      <td>9.0<\/td>\n",
       "      <td>13.0<\/td>\n",
       "      <td>24.0<\/td>\n",
       "    <\/tr>\n",
       "  <\/tbody>\n",
       "<\/table>\n",
       "<\/div>"
      ]
     },
     "metadata":{
      
     },
     "output_type":"display_data"
    }
   ],
   "metadata":{
    "datalore":{
     "node_id":"2NCkkrJOVJ9ngtsSSfxILP",
     "type":"CODE",
     "hide_input_from_viewers":false,
     "hide_output_from_viewers":false
    }
   }
  },
  {
   "cell_type":"code",
   "source":[
    "employees.sem()"
   ],
   "execution_count":36,
   "outputs":[
    {
     "name":"stderr",
     "text":[
      "<ipython-input-36-c34e3d6562b9>:1: FutureWarning: Dropping of nuisance columns in DataFrame reductions (with 'numeric_only=None') is deprecated; in a future version this will raise TypeError.  Select only valid columns before calling the reduction.\n",
      "  employees.sem()\n"
     ],
     "output_type":"stream"
    },
    {
     "data":{
      "text\/html":[
       "<pre>Income        582.327175\n",
       "Age             2.718251\n",
       "Experience      2.472066\n",
       "dtype: float64<\/pre>"
      ]
     },
     "metadata":{
      
     },
     "output_type":"display_data"
    }
   ],
   "metadata":{
    "datalore":{
     "node_id":"JbmYnpJMLma2dob6HNCQPK",
     "type":"CODE",
     "hide_input_from_viewers":false,
     "hide_output_from_viewers":false
    }
   }
  },
  {
   "cell_type":"code",
   "source":[
    "#Groupings\n",
    "employees = pd.DataFrame({\"Name\":[\"Josh\",\"Mike\",\"Julia\",\"Sergio\",\"Julia\",\"Michael\",\"Sarath\",\"Jakub\",\"Chris\"],\n",
    "                          \"Department\":[\"IT\",\"Human Resources\",\"Finance\",\"Supply Chain\",\"Finance\",\"Marketing\",\"IT\",\"Human Resources\",\"Law\"],\n",
    "                          \"Income\":[4800,5200,6600,5700,7200,8400,7700,4200,9400],\n",
    "                          \"Age\":[24,28,33,41,22,46,31,27,39],\n",
    "                          \"Experience\":[2,5,9,17,1,24,10,6,13]})\n",
    "employees"
   ],
   "execution_count":37,
   "outputs":[
    {
     "data":{
      "text\/html":[
       "<div>\n",
       "<style scoped>\n",
       "    .dataframe tbody tr th:only-of-type {\n",
       "        vertical-align: middle;\n",
       "    }\n",
       "\n",
       "    .dataframe tbody tr th {\n",
       "        vertical-align: top;\n",
       "    }\n",
       "\n",
       "    .dataframe thead th {\n",
       "        text-align: right;\n",
       "    }\n",
       "<\/style>\n",
       "<table border=\"1\" class=\"dataframe\">\n",
       "  <thead>\n",
       "    <tr style=\"text-align: right;\">\n",
       "      <th><\/th>\n",
       "      <th>Name<\/th>\n",
       "      <th>Department<\/th>\n",
       "      <th>Income<\/th>\n",
       "      <th>Age<\/th>\n",
       "      <th>Experience<\/th>\n",
       "    <\/tr>\n",
       "  <\/thead>\n",
       "  <tbody>\n",
       "    <tr>\n",
       "      <th>0<\/th>\n",
       "      <td>Josh<\/td>\n",
       "      <td>IT<\/td>\n",
       "      <td>4800<\/td>\n",
       "      <td>24<\/td>\n",
       "      <td>2<\/td>\n",
       "    <\/tr>\n",
       "    <tr>\n",
       "      <th>1<\/th>\n",
       "      <td>Mike<\/td>\n",
       "      <td>Human Resources<\/td>\n",
       "      <td>5200<\/td>\n",
       "      <td>28<\/td>\n",
       "      <td>5<\/td>\n",
       "    <\/tr>\n",
       "    <tr>\n",
       "      <th>2<\/th>\n",
       "      <td>Julia<\/td>\n",
       "      <td>Finance<\/td>\n",
       "      <td>6600<\/td>\n",
       "      <td>33<\/td>\n",
       "      <td>9<\/td>\n",
       "    <\/tr>\n",
       "    <tr>\n",
       "      <th>3<\/th>\n",
       "      <td>Sergio<\/td>\n",
       "      <td>Supply Chain<\/td>\n",
       "      <td>5700<\/td>\n",
       "      <td>41<\/td>\n",
       "      <td>17<\/td>\n",
       "    <\/tr>\n",
       "    <tr>\n",
       "      <th>4<\/th>\n",
       "      <td>Julia<\/td>\n",
       "      <td>Finance<\/td>\n",
       "      <td>7200<\/td>\n",
       "      <td>22<\/td>\n",
       "      <td>1<\/td>\n",
       "    <\/tr>\n",
       "    <tr>\n",
       "      <th>5<\/th>\n",
       "      <td>Michael<\/td>\n",
       "      <td>Marketing<\/td>\n",
       "      <td>8400<\/td>\n",
       "      <td>46<\/td>\n",
       "      <td>24<\/td>\n",
       "    <\/tr>\n",
       "    <tr>\n",
       "      <th>6<\/th>\n",
       "      <td>Sarath<\/td>\n",
       "      <td>IT<\/td>\n",
       "      <td>7700<\/td>\n",
       "      <td>31<\/td>\n",
       "      <td>10<\/td>\n",
       "    <\/tr>\n",
       "    <tr>\n",
       "      <th>7<\/th>\n",
       "      <td>Jakub<\/td>\n",
       "      <td>Human Resources<\/td>\n",
       "      <td>4200<\/td>\n",
       "      <td>27<\/td>\n",
       "      <td>6<\/td>\n",
       "    <\/tr>\n",
       "    <tr>\n",
       "      <th>8<\/th>\n",
       "      <td>Chris<\/td>\n",
       "      <td>Law<\/td>\n",
       "      <td>9400<\/td>\n",
       "      <td>39<\/td>\n",
       "      <td>13<\/td>\n",
       "    <\/tr>\n",
       "  <\/tbody>\n",
       "<\/table>\n",
       "<\/div>"
      ]
     },
     "metadata":{
      
     },
     "output_type":"display_data"
    }
   ],
   "metadata":{
    "datalore":{
     "node_id":"hH3OA0KGLzhhiI3OM2XtBO",
     "type":"CODE",
     "hide_input_from_viewers":false,
     "hide_output_from_viewers":false
    }
   }
  },
  {
   "cell_type":"code",
   "source":[
    "employees.groupby(\"Department\")"
   ],
   "execution_count":38,
   "outputs":[
    {
     "data":{
      "text\/plain":[
       "<pandas.core.groupby.generic.DataFrameGroupBy object at 0x7f44cb482790>"
      ]
     },
     "metadata":{
      
     },
     "output_type":"display_data"
    }
   ],
   "metadata":{
    "datalore":{
     "node_id":"YjpuJ9f65DDcp8rBlOKahe",
     "type":"CODE",
     "hide_input_from_viewers":false,
     "hide_output_from_viewers":false
    }
   }
  },
  {
   "cell_type":"code",
   "source":[
    "emp_dep = employees.groupby(\"Department\")\n",
    "emp_dep.get_group(\"IT\")"
   ],
   "execution_count":39,
   "outputs":[
    {
     "data":{
      "text\/html":[
       "<div>\n",
       "<style scoped>\n",
       "    .dataframe tbody tr th:only-of-type {\n",
       "        vertical-align: middle;\n",
       "    }\n",
       "\n",
       "    .dataframe tbody tr th {\n",
       "        vertical-align: top;\n",
       "    }\n",
       "\n",
       "    .dataframe thead th {\n",
       "        text-align: right;\n",
       "    }\n",
       "<\/style>\n",
       "<table border=\"1\" class=\"dataframe\">\n",
       "  <thead>\n",
       "    <tr style=\"text-align: right;\">\n",
       "      <th><\/th>\n",
       "      <th>Name<\/th>\n",
       "      <th>Department<\/th>\n",
       "      <th>Income<\/th>\n",
       "      <th>Age<\/th>\n",
       "      <th>Experience<\/th>\n",
       "    <\/tr>\n",
       "  <\/thead>\n",
       "  <tbody>\n",
       "    <tr>\n",
       "      <th>0<\/th>\n",
       "      <td>Josh<\/td>\n",
       "      <td>IT<\/td>\n",
       "      <td>4800<\/td>\n",
       "      <td>24<\/td>\n",
       "      <td>2<\/td>\n",
       "    <\/tr>\n",
       "    <tr>\n",
       "      <th>6<\/th>\n",
       "      <td>Sarath<\/td>\n",
       "      <td>IT<\/td>\n",
       "      <td>7700<\/td>\n",
       "      <td>31<\/td>\n",
       "      <td>10<\/td>\n",
       "    <\/tr>\n",
       "  <\/tbody>\n",
       "<\/table>\n",
       "<\/div>"
      ]
     },
     "metadata":{
      
     },
     "output_type":"display_data"
    }
   ],
   "metadata":{
    "datalore":{
     "node_id":"vnJiJiGc0NIixU9zXX49o0",
     "type":"CODE",
     "hide_input_from_viewers":false,
     "hide_output_from_viewers":false
    }
   }
  },
  {
   "cell_type":"code",
   "source":[
    "employees.groupby(\"Department\").sum()"
   ],
   "execution_count":40,
   "outputs":[
    {
     "data":{
      "text\/html":[
       "<div>\n",
       "<style scoped>\n",
       "    .dataframe tbody tr th:only-of-type {\n",
       "        vertical-align: middle;\n",
       "    }\n",
       "\n",
       "    .dataframe tbody tr th {\n",
       "        vertical-align: top;\n",
       "    }\n",
       "\n",
       "    .dataframe thead th {\n",
       "        text-align: right;\n",
       "    }\n",
       "<\/style>\n",
       "<table border=\"1\" class=\"dataframe\">\n",
       "  <thead>\n",
       "    <tr style=\"text-align: right;\">\n",
       "      <th><\/th>\n",
       "      <th>Income<\/th>\n",
       "      <th>Age<\/th>\n",
       "      <th>Experience<\/th>\n",
       "    <\/tr>\n",
       "    <tr>\n",
       "      <th>Department<\/th>\n",
       "      <th><\/th>\n",
       "      <th><\/th>\n",
       "      <th><\/th>\n",
       "    <\/tr>\n",
       "  <\/thead>\n",
       "  <tbody>\n",
       "    <tr>\n",
       "      <th>Finance<\/th>\n",
       "      <td>13800<\/td>\n",
       "      <td>55<\/td>\n",
       "      <td>10<\/td>\n",
       "    <\/tr>\n",
       "    <tr>\n",
       "      <th>Human Resources<\/th>\n",
       "      <td>9400<\/td>\n",
       "      <td>55<\/td>\n",
       "      <td>11<\/td>\n",
       "    <\/tr>\n",
       "    <tr>\n",
       "      <th>IT<\/th>\n",
       "      <td>12500<\/td>\n",
       "      <td>55<\/td>\n",
       "      <td>12<\/td>\n",
       "    <\/tr>\n",
       "    <tr>\n",
       "      <th>Law<\/th>\n",
       "      <td>9400<\/td>\n",
       "      <td>39<\/td>\n",
       "      <td>13<\/td>\n",
       "    <\/tr>\n",
       "    <tr>\n",
       "      <th>Marketing<\/th>\n",
       "      <td>8400<\/td>\n",
       "      <td>46<\/td>\n",
       "      <td>24<\/td>\n",
       "    <\/tr>\n",
       "    <tr>\n",
       "      <th>Supply Chain<\/th>\n",
       "      <td>5700<\/td>\n",
       "      <td>41<\/td>\n",
       "      <td>17<\/td>\n",
       "    <\/tr>\n",
       "  <\/tbody>\n",
       "<\/table>\n",
       "<\/div>"
      ]
     },
     "metadata":{
      
     },
     "output_type":"display_data"
    }
   ],
   "metadata":{
    "datalore":{
     "node_id":"oaegpGtXCXKAHxKZ3NZsuu",
     "type":"CODE",
     "hide_input_from_viewers":false,
     "hide_output_from_viewers":false
    }
   }
  },
  {
   "cell_type":"code",
   "source":[
    "employees.groupby(\"Department\").mean()[\"Income\"]"
   ],
   "execution_count":42,
   "outputs":[
    {
     "data":{
      "text\/html":[
       "<pre>Department\n",
       "Finance            6900.0\n",
       "Human Resources    4700.0\n",
       "IT                 6250.0\n",
       "Law                9400.0\n",
       "Marketing          8400.0\n",
       "Supply Chain       5700.0\n",
       "Name: Income, dtype: float64<\/pre>"
      ]
     },
     "metadata":{
      
     },
     "output_type":"display_data"
    }
   ],
   "metadata":{
    "datalore":{
     "node_id":"UhLzl67M6tCUlst4YJkCyR",
     "type":"CODE",
     "hide_input_from_viewers":false,
     "hide_output_from_viewers":false
    }
   }
  },
  {
   "cell_type":"code",
   "source":[
    "employees.groupby(\"Department\")[\"Income\"].agg([\"mean\",\"max\",\"median\"])"
   ],
   "execution_count":43,
   "outputs":[
    {
     "data":{
      "text\/html":[
       "<div>\n",
       "<style scoped>\n",
       "    .dataframe tbody tr th:only-of-type {\n",
       "        vertical-align: middle;\n",
       "    }\n",
       "\n",
       "    .dataframe tbody tr th {\n",
       "        vertical-align: top;\n",
       "    }\n",
       "\n",
       "    .dataframe thead th {\n",
       "        text-align: right;\n",
       "    }\n",
       "<\/style>\n",
       "<table border=\"1\" class=\"dataframe\">\n",
       "  <thead>\n",
       "    <tr style=\"text-align: right;\">\n",
       "      <th><\/th>\n",
       "      <th>mean<\/th>\n",
       "      <th>max<\/th>\n",
       "      <th>median<\/th>\n",
       "    <\/tr>\n",
       "    <tr>\n",
       "      <th>Department<\/th>\n",
       "      <th><\/th>\n",
       "      <th><\/th>\n",
       "      <th><\/th>\n",
       "    <\/tr>\n",
       "  <\/thead>\n",
       "  <tbody>\n",
       "    <tr>\n",
       "      <th>Finance<\/th>\n",
       "      <td>6900.0<\/td>\n",
       "      <td>7200<\/td>\n",
       "      <td>6900.0<\/td>\n",
       "    <\/tr>\n",
       "    <tr>\n",
       "      <th>Human Resources<\/th>\n",
       "      <td>4700.0<\/td>\n",
       "      <td>5200<\/td>\n",
       "      <td>4700.0<\/td>\n",
       "    <\/tr>\n",
       "    <tr>\n",
       "      <th>IT<\/th>\n",
       "      <td>6250.0<\/td>\n",
       "      <td>7700<\/td>\n",
       "      <td>6250.0<\/td>\n",
       "    <\/tr>\n",
       "    <tr>\n",
       "      <th>Law<\/th>\n",
       "      <td>9400.0<\/td>\n",
       "      <td>9400<\/td>\n",
       "      <td>9400.0<\/td>\n",
       "    <\/tr>\n",
       "    <tr>\n",
       "      <th>Marketing<\/th>\n",
       "      <td>8400.0<\/td>\n",
       "      <td>8400<\/td>\n",
       "      <td>8400.0<\/td>\n",
       "    <\/tr>\n",
       "    <tr>\n",
       "      <th>Supply Chain<\/th>\n",
       "      <td>5700.0<\/td>\n",
       "      <td>5700<\/td>\n",
       "      <td>5700.0<\/td>\n",
       "    <\/tr>\n",
       "  <\/tbody>\n",
       "<\/table>\n",
       "<\/div>"
      ]
     },
     "metadata":{
      
     },
     "output_type":"display_data"
    }
   ],
   "metadata":{
    "datalore":{
     "node_id":"xzjHwvLLHZaQ8qoe43bz5B",
     "type":"CODE",
     "hide_input_from_viewers":false,
     "hide_output_from_viewers":false
    }
   }
  },
  {
   "cell_type":"code",
   "source":[
    "def salary_increase(x):\n",
    "    return x+10000"
   ],
   "execution_count":44,
   "outputs":[
    
   ],
   "metadata":{
    "datalore":{
     "node_id":"Qgp4UkS2QfGQU6zJp1xq0S",
     "type":"CODE",
     "hide_input_from_viewers":false,
     "hide_output_from_viewers":false
    }
   }
  },
  {
   "cell_type":"code",
   "source":[
    "employees[\"Income\"]"
   ],
   "execution_count":45,
   "outputs":[
    {
     "data":{
      "text\/html":[
       "<pre>0    4800\n",
       "1    5200\n",
       "2    6600\n",
       "3    5700\n",
       "4    7200\n",
       "5    8400\n",
       "6    7700\n",
       "7    4200\n",
       "8    9400\n",
       "Name: Income, dtype: int64<\/pre>"
      ]
     },
     "metadata":{
      
     },
     "output_type":"display_data"
    }
   ],
   "metadata":{
    "datalore":{
     "node_id":"qyu8BnMZNO0SbmE9qK6uai",
     "type":"CODE",
     "hide_input_from_viewers":false,
     "hide_output_from_viewers":false
    }
   }
  },
  {
   "cell_type":"code",
   "source":[
    "employees[\"Income\"].transform(salary_increase)"
   ],
   "execution_count":47,
   "outputs":[
    {
     "data":{
      "text\/html":[
       "<pre>0    14800\n",
       "1    15200\n",
       "2    16600\n",
       "3    15700\n",
       "4    17200\n",
       "5    18400\n",
       "6    17700\n",
       "7    14200\n",
       "8    19400\n",
       "Name: Income, dtype: int64<\/pre>"
      ]
     },
     "metadata":{
      
     },
     "output_type":"display_data"
    }
   ],
   "metadata":{
    "datalore":{
     "node_id":"QnOhAYoDw0WJXN5BljFUPX",
     "type":"CODE",
     "hide_input_from_viewers":false,
     "hide_output_from_viewers":false
    }
   }
  },
  {
   "cell_type":"code",
   "source":[
    "employees[\"Name\"].apply(len)"
   ],
   "execution_count":48,
   "outputs":[
    {
     "data":{
      "text\/html":[
       "<pre>0    4\n",
       "1    4\n",
       "2    5\n",
       "3    6\n",
       "4    5\n",
       "5    7\n",
       "6    6\n",
       "7    5\n",
       "8    5\n",
       "Name: Name, dtype: int64<\/pre>"
      ]
     },
     "metadata":{
      
     },
     "output_type":"display_data"
    }
   ],
   "metadata":{
    "datalore":{
     "node_id":"HJp5NRn4XqfZG3EhH6JvxL",
     "type":"CODE",
     "hide_input_from_viewers":false,
     "hide_output_from_viewers":false
    }
   }
  },
  {
   "cell_type":"code",
   "source":[
    "def age(x):\n",
    "    return x+1"
   ],
   "execution_count":49,
   "outputs":[
    
   ],
   "metadata":{
    "datalore":{
     "node_id":"FakPKPnN3iORIAoMxbHEie",
     "type":"CODE",
     "hide_input_from_viewers":false,
     "hide_output_from_viewers":false
    }
   }
  },
  {
   "cell_type":"code",
   "source":[
    "employees[\"Age\"].apply(age)"
   ],
   "execution_count":50,
   "outputs":[
    {
     "data":{
      "text\/html":[
       "<pre>0    25\n",
       "1    29\n",
       "2    34\n",
       "3    42\n",
       "4    23\n",
       "5    47\n",
       "6    32\n",
       "7    28\n",
       "8    40\n",
       "Name: Age, dtype: int64<\/pre>"
      ]
     },
     "metadata":{
      
     },
     "output_type":"display_data"
    }
   ],
   "metadata":{
    "datalore":{
     "node_id":"EtoWxMlkMQvYX5532pEMeX",
     "type":"CODE",
     "hide_input_from_viewers":false,
     "hide_output_from_viewers":false
    }
   }
  },
  {
   "cell_type":"code",
   "source":[
    "employees[\"Department\"].replace({\"IT\":\"Information Technology\"},inplace=True)\n",
    "employees"
   ],
   "execution_count":52,
   "outputs":[
    {
     "data":{
      "text\/html":[
       "<div>\n",
       "<style scoped>\n",
       "    .dataframe tbody tr th:only-of-type {\n",
       "        vertical-align: middle;\n",
       "    }\n",
       "\n",
       "    .dataframe tbody tr th {\n",
       "        vertical-align: top;\n",
       "    }\n",
       "\n",
       "    .dataframe thead th {\n",
       "        text-align: right;\n",
       "    }\n",
       "<\/style>\n",
       "<table border=\"1\" class=\"dataframe\">\n",
       "  <thead>\n",
       "    <tr style=\"text-align: right;\">\n",
       "      <th><\/th>\n",
       "      <th>Name<\/th>\n",
       "      <th>Department<\/th>\n",
       "      <th>Income<\/th>\n",
       "      <th>Age<\/th>\n",
       "      <th>Experience<\/th>\n",
       "    <\/tr>\n",
       "  <\/thead>\n",
       "  <tbody>\n",
       "    <tr>\n",
       "      <th>0<\/th>\n",
       "      <td>Josh<\/td>\n",
       "      <td>Information Technology<\/td>\n",
       "      <td>4800<\/td>\n",
       "      <td>24<\/td>\n",
       "      <td>2<\/td>\n",
       "    <\/tr>\n",
       "    <tr>\n",
       "      <th>1<\/th>\n",
       "      <td>Mike<\/td>\n",
       "      <td>Human Resources<\/td>\n",
       "      <td>5200<\/td>\n",
       "      <td>28<\/td>\n",
       "      <td>5<\/td>\n",
       "    <\/tr>\n",
       "    <tr>\n",
       "      <th>2<\/th>\n",
       "      <td>Julia<\/td>\n",
       "      <td>Finance<\/td>\n",
       "      <td>6600<\/td>\n",
       "      <td>33<\/td>\n",
       "      <td>9<\/td>\n",
       "    <\/tr>\n",
       "    <tr>\n",
       "      <th>3<\/th>\n",
       "      <td>Sergio<\/td>\n",
       "      <td>Supply Chain<\/td>\n",
       "      <td>5700<\/td>\n",
       "      <td>41<\/td>\n",
       "      <td>17<\/td>\n",
       "    <\/tr>\n",
       "    <tr>\n",
       "      <th>4<\/th>\n",
       "      <td>Julia<\/td>\n",
       "      <td>Finance<\/td>\n",
       "      <td>7200<\/td>\n",
       "      <td>22<\/td>\n",
       "      <td>1<\/td>\n",
       "    <\/tr>\n",
       "    <tr>\n",
       "      <th>5<\/th>\n",
       "      <td>Michael<\/td>\n",
       "      <td>Marketing<\/td>\n",
       "      <td>8400<\/td>\n",
       "      <td>46<\/td>\n",
       "      <td>24<\/td>\n",
       "    <\/tr>\n",
       "    <tr>\n",
       "      <th>6<\/th>\n",
       "      <td>Sarath<\/td>\n",
       "      <td>Information Technology<\/td>\n",
       "      <td>7700<\/td>\n",
       "      <td>31<\/td>\n",
       "      <td>10<\/td>\n",
       "    <\/tr>\n",
       "    <tr>\n",
       "      <th>7<\/th>\n",
       "      <td>Jakub<\/td>\n",
       "      <td>Human Resources<\/td>\n",
       "      <td>4200<\/td>\n",
       "      <td>27<\/td>\n",
       "      <td>6<\/td>\n",
       "    <\/tr>\n",
       "    <tr>\n",
       "      <th>8<\/th>\n",
       "      <td>Chris<\/td>\n",
       "      <td>Law<\/td>\n",
       "      <td>9400<\/td>\n",
       "      <td>39<\/td>\n",
       "      <td>13<\/td>\n",
       "    <\/tr>\n",
       "  <\/tbody>\n",
       "<\/table>\n",
       "<\/div>"
      ]
     },
     "metadata":{
      
     },
     "output_type":"display_data"
    }
   ],
   "metadata":{
    "datalore":{
     "node_id":"49beu21ikYhr7CaNULELYb",
     "type":"CODE",
     "hide_input_from_viewers":false,
     "hide_output_from_viewers":false
    }
   }
  },
  {
   "cell_type":"code",
   "source":[
    "nba = pd.read_csv(\"nba.csv\")"
   ],
   "execution_count":11,
   "outputs":[
    
   ],
   "metadata":{
    "datalore":{
     "node_id":"91vqCR4c4ewHUBn2cWJmBU",
     "type":"CODE",
     "hide_input_from_viewers":false,
     "hide_output_from_viewers":false
    }
   }
  },
  {
   "cell_type":"code",
   "source":[
    
   ],
   "execution_count":null,
   "outputs":[
    
   ],
   "metadata":{
    "datalore":{
     "node_id":"gSUvNa5DeBU1hAUwIlJMzn",
     "type":"CODE",
     "hide_input_from_viewers":false,
     "hide_output_from_viewers":false
    }
   }
  },
  {
   "cell_type":"code",
   "source":[
    "nba.head()"
   ],
   "execution_count":55,
   "outputs":[
    {
     "data":{
      "text\/html":[
       "<div>\n",
       "<style scoped>\n",
       "    .dataframe tbody tr th:only-of-type {\n",
       "        vertical-align: middle;\n",
       "    }\n",
       "\n",
       "    .dataframe tbody tr th {\n",
       "        vertical-align: top;\n",
       "    }\n",
       "\n",
       "    .dataframe thead th {\n",
       "        text-align: right;\n",
       "    }\n",
       "<\/style>\n",
       "<table border=\"1\" class=\"dataframe\">\n",
       "  <thead>\n",
       "    <tr style=\"text-align: right;\">\n",
       "      <th><\/th>\n",
       "      <th>Name<\/th>\n",
       "      <th>Team<\/th>\n",
       "      <th>Number<\/th>\n",
       "      <th>Position<\/th>\n",
       "      <th>Age<\/th>\n",
       "      <th>Height<\/th>\n",
       "      <th>Weight<\/th>\n",
       "      <th>College<\/th>\n",
       "      <th>Salary<\/th>\n",
       "    <\/tr>\n",
       "  <\/thead>\n",
       "  <tbody>\n",
       "    <tr>\n",
       "      <th>0<\/th>\n",
       "      <td>Avery Bradley<\/td>\n",
       "      <td>Boston Celtics<\/td>\n",
       "      <td>0.0<\/td>\n",
       "      <td>PG<\/td>\n",
       "      <td>25.0<\/td>\n",
       "      <td>6-2<\/td>\n",
       "      <td>180.0<\/td>\n",
       "      <td>Texas<\/td>\n",
       "      <td>7730337.0<\/td>\n",
       "    <\/tr>\n",
       "    <tr>\n",
       "      <th>1<\/th>\n",
       "      <td>Jae Crowder<\/td>\n",
       "      <td>Boston Celtics<\/td>\n",
       "      <td>99.0<\/td>\n",
       "      <td>SF<\/td>\n",
       "      <td>25.0<\/td>\n",
       "      <td>6-6<\/td>\n",
       "      <td>235.0<\/td>\n",
       "      <td>Marquette<\/td>\n",
       "      <td>6796117.0<\/td>\n",
       "    <\/tr>\n",
       "    <tr>\n",
       "      <th>2<\/th>\n",
       "      <td>John Holland<\/td>\n",
       "      <td>Boston Celtics<\/td>\n",
       "      <td>30.0<\/td>\n",
       "      <td>SG<\/td>\n",
       "      <td>27.0<\/td>\n",
       "      <td>6-5<\/td>\n",
       "      <td>205.0<\/td>\n",
       "      <td>Boston University<\/td>\n",
       "      <td>NaN<\/td>\n",
       "    <\/tr>\n",
       "    <tr>\n",
       "      <th>3<\/th>\n",
       "      <td>R.J. Hunter<\/td>\n",
       "      <td>Boston Celtics<\/td>\n",
       "      <td>28.0<\/td>\n",
       "      <td>SG<\/td>\n",
       "      <td>22.0<\/td>\n",
       "      <td>6-5<\/td>\n",
       "      <td>185.0<\/td>\n",
       "      <td>Georgia State<\/td>\n",
       "      <td>1148640.0<\/td>\n",
       "    <\/tr>\n",
       "    <tr>\n",
       "      <th>4<\/th>\n",
       "      <td>Jonas Jerebko<\/td>\n",
       "      <td>Boston Celtics<\/td>\n",
       "      <td>8.0<\/td>\n",
       "      <td>PF<\/td>\n",
       "      <td>29.0<\/td>\n",
       "      <td>6-10<\/td>\n",
       "      <td>231.0<\/td>\n",
       "      <td>NaN<\/td>\n",
       "      <td>5000000.0<\/td>\n",
       "    <\/tr>\n",
       "  <\/tbody>\n",
       "<\/table>\n",
       "<\/div>"
      ]
     },
     "metadata":{
      
     },
     "output_type":"display_data"
    }
   ],
   "metadata":{
    "datalore":{
     "node_id":"y73frzeYdvWpPr6x54CcCZ",
     "type":"CODE",
     "hide_input_from_viewers":false,
     "hide_output_from_viewers":false
    }
   }
  },
  {
   "cell_type":"code",
   "source":[
    "nba.shape"
   ],
   "execution_count":57,
   "outputs":[
    {
     "data":{
      "text\/plain":[
       "(458, 9)"
      ]
     },
     "metadata":{
      
     },
     "output_type":"display_data"
    }
   ],
   "metadata":{
    "datalore":{
     "node_id":"qhX0FiyS44j49Dz2OvN55e",
     "type":"CODE",
     "hide_input_from_viewers":false,
     "hide_output_from_viewers":false
    }
   }
  },
  {
   "cell_type":"code",
   "source":[
    "nba.info"
   ],
   "execution_count":58,
   "outputs":[
    {
     "data":{
      "text\/plain":[
       "<bound method DataFrame.info of               Name            Team  Number Position   Age Height  Weight  \\\n",
       "0    Avery Bradley  Boston Celtics     0.0       PG  25.0    6-2   180.0   \n",
       "1      Jae Crowder  Boston Celtics    99.0       SF  25.0    6-6   235.0   \n",
       "2     John Holland  Boston Celtics    30.0       SG  27.0    6-5   205.0   \n",
       "3      R.J. Hunter  Boston Celtics    28.0       SG  22.0    6-5   185.0   \n",
       "4    Jonas Jerebko  Boston Celtics     8.0       PF  29.0   6-10   231.0   \n",
       "..             ...             ...     ...      ...   ...    ...     ...   \n",
       "453   Shelvin Mack       Utah Jazz     8.0       PG  26.0    6-3   203.0   \n",
       "454      Raul Neto       Utah Jazz    25.0       PG  24.0    6-1   179.0   \n",
       "455   Tibor Pleiss       Utah Jazz    21.0        C  26.0    7-3   256.0   \n",
       "456    Jeff Withey       Utah Jazz    24.0        C  26.0    7-0   231.0   \n",
       "457            NaN             NaN     NaN      NaN   NaN    NaN     NaN   \n",
       "\n",
       "               College     Salary  \n",
       "0                Texas  7730337.0  \n",
       "1            Marquette  6796117.0  \n",
       "2    Boston University        NaN  \n",
       "3        Georgia State  1148640.0  \n",
       "4                  NaN  5000000.0  \n",
       "..                 ...        ...  \n",
       "453             Butler  2433333.0  \n",
       "454                NaN   900000.0  \n",
       "455                NaN  2900000.0  \n",
       "456             Kansas   947276.0  \n",
       "457                NaN        NaN  \n",
       "\n",
       "[458 rows x 9 columns]>"
      ]
     },
     "metadata":{
      
     },
     "output_type":"display_data"
    }
   ],
   "metadata":{
    "datalore":{
     "node_id":"WqVsFkmSvJcbfuyDdLdYY0",
     "type":"CODE",
     "hide_input_from_viewers":false,
     "hide_output_from_viewers":false
    }
   }
  },
  {
   "cell_type":"code",
   "source":[
    "nba.describe()"
   ],
   "execution_count":59,
   "outputs":[
    {
     "data":{
      "text\/html":[
       "<div>\n",
       "<style scoped>\n",
       "    .dataframe tbody tr th:only-of-type {\n",
       "        vertical-align: middle;\n",
       "    }\n",
       "\n",
       "    .dataframe tbody tr th {\n",
       "        vertical-align: top;\n",
       "    }\n",
       "\n",
       "    .dataframe thead th {\n",
       "        text-align: right;\n",
       "    }\n",
       "<\/style>\n",
       "<table border=\"1\" class=\"dataframe\">\n",
       "  <thead>\n",
       "    <tr style=\"text-align: right;\">\n",
       "      <th><\/th>\n",
       "      <th>Number<\/th>\n",
       "      <th>Age<\/th>\n",
       "      <th>Weight<\/th>\n",
       "      <th>Salary<\/th>\n",
       "    <\/tr>\n",
       "  <\/thead>\n",
       "  <tbody>\n",
       "    <tr>\n",
       "      <th>count<\/th>\n",
       "      <td>457.000000<\/td>\n",
       "      <td>457.000000<\/td>\n",
       "      <td>457.000000<\/td>\n",
       "      <td>4.460000e+02<\/td>\n",
       "    <\/tr>\n",
       "    <tr>\n",
       "      <th>mean<\/th>\n",
       "      <td>17.678337<\/td>\n",
       "      <td>26.938731<\/td>\n",
       "      <td>221.522976<\/td>\n",
       "      <td>4.842684e+06<\/td>\n",
       "    <\/tr>\n",
       "    <tr>\n",
       "      <th>std<\/th>\n",
       "      <td>15.966090<\/td>\n",
       "      <td>4.404016<\/td>\n",
       "      <td>26.368343<\/td>\n",
       "      <td>5.229238e+06<\/td>\n",
       "    <\/tr>\n",
       "    <tr>\n",
       "      <th>min<\/th>\n",
       "      <td>0.000000<\/td>\n",
       "      <td>19.000000<\/td>\n",
       "      <td>161.000000<\/td>\n",
       "      <td>3.088800e+04<\/td>\n",
       "    <\/tr>\n",
       "    <tr>\n",
       "      <th>25%<\/th>\n",
       "      <td>5.000000<\/td>\n",
       "      <td>24.000000<\/td>\n",
       "      <td>200.000000<\/td>\n",
       "      <td>1.044792e+06<\/td>\n",
       "    <\/tr>\n",
       "    <tr>\n",
       "      <th>50%<\/th>\n",
       "      <td>13.000000<\/td>\n",
       "      <td>26.000000<\/td>\n",
       "      <td>220.000000<\/td>\n",
       "      <td>2.839073e+06<\/td>\n",
       "    <\/tr>\n",
       "    <tr>\n",
       "      <th>75%<\/th>\n",
       "      <td>25.000000<\/td>\n",
       "      <td>30.000000<\/td>\n",
       "      <td>240.000000<\/td>\n",
       "      <td>6.500000e+06<\/td>\n",
       "    <\/tr>\n",
       "    <tr>\n",
       "      <th>max<\/th>\n",
       "      <td>99.000000<\/td>\n",
       "      <td>40.000000<\/td>\n",
       "      <td>307.000000<\/td>\n",
       "      <td>2.500000e+07<\/td>\n",
       "    <\/tr>\n",
       "  <\/tbody>\n",
       "<\/table>\n",
       "<\/div>"
      ]
     },
     "metadata":{
      
     },
     "output_type":"display_data"
    }
   ],
   "metadata":{
    "datalore":{
     "node_id":"3pCjcn5956LdiQscQIY2Lv",
     "type":"CODE",
     "hide_input_from_viewers":false,
     "hide_output_from_viewers":false
    }
   }
  },
  {
   "cell_type":"code",
   "source":[
    "nba.columns"
   ],
   "execution_count":60,
   "outputs":[
    {
     "data":{
      "text\/plain":[
       "Index(['Name', 'Team', 'Number', 'Position', 'Age', 'Height', 'Weight',\n",
       "       'College', 'Salary'],\n",
       "      dtype='object')"
      ]
     },
     "metadata":{
      
     },
     "output_type":"display_data"
    }
   ],
   "metadata":{
    "datalore":{
     "node_id":"BuVyEbiHmAPEwlve0LCF7b",
     "type":"CODE",
     "hide_input_from_viewers":false,
     "hide_output_from_viewers":false
    }
   }
  },
  {
   "cell_type":"code",
   "source":[
    "nba.nunique()"
   ],
   "execution_count":61,
   "outputs":[
    {
     "data":{
      "text\/html":[
       "<pre>Name        457\n",
       "Team         30\n",
       "Number       53\n",
       "Position      5\n",
       "Age          22\n",
       "Height       18\n",
       "Weight       87\n",
       "College     118\n",
       "Salary      309\n",
       "dtype: int64<\/pre>"
      ]
     },
     "metadata":{
      
     },
     "output_type":"display_data"
    }
   ],
   "metadata":{
    "datalore":{
     "node_id":"Sg2h3qSSBYgOlJTMTkVYyz",
     "type":"CODE",
     "hide_input_from_viewers":false,
     "hide_output_from_viewers":false
    }
   }
  },
  {
   "cell_type":"code",
   "source":[
    "nba[nba[\"Position\"]==\"PG\"]"
   ],
   "execution_count":64,
   "outputs":[
    {
     "data":{
      "text\/html":[
       "<div>\n",
       "<style scoped>\n",
       "    .dataframe tbody tr th:only-of-type {\n",
       "        vertical-align: middle;\n",
       "    }\n",
       "\n",
       "    .dataframe tbody tr th {\n",
       "        vertical-align: top;\n",
       "    }\n",
       "\n",
       "    .dataframe thead th {\n",
       "        text-align: right;\n",
       "    }\n",
       "<\/style>\n",
       "<table border=\"1\" class=\"dataframe\">\n",
       "  <thead>\n",
       "    <tr style=\"text-align: right;\">\n",
       "      <th><\/th>\n",
       "      <th>Name<\/th>\n",
       "      <th>Team<\/th>\n",
       "      <th>Number<\/th>\n",
       "      <th>Position<\/th>\n",
       "      <th>Age<\/th>\n",
       "      <th>Height<\/th>\n",
       "      <th>Weight<\/th>\n",
       "      <th>College<\/th>\n",
       "      <th>Salary<\/th>\n",
       "    <\/tr>\n",
       "  <\/thead>\n",
       "  <tbody>\n",
       "    <tr>\n",
       "      <th>0<\/th>\n",
       "      <td>Avery Bradley<\/td>\n",
       "      <td>Boston Celtics<\/td>\n",
       "      <td>0.0<\/td>\n",
       "      <td>PG<\/td>\n",
       "      <td>25.0<\/td>\n",
       "      <td>6-2<\/td>\n",
       "      <td>180.0<\/td>\n",
       "      <td>Texas<\/td>\n",
       "      <td>7730337.0<\/td>\n",
       "    <\/tr>\n",
       "    <tr>\n",
       "      <th>8<\/th>\n",
       "      <td>Terry Rozier<\/td>\n",
       "      <td>Boston Celtics<\/td>\n",
       "      <td>12.0<\/td>\n",
       "      <td>PG<\/td>\n",
       "      <td>22.0<\/td>\n",
       "      <td>6-2<\/td>\n",
       "      <td>190.0<\/td>\n",
       "      <td>Louisville<\/td>\n",
       "      <td>1824360.0<\/td>\n",
       "    <\/tr>\n",
       "    <tr>\n",
       "      <th>9<\/th>\n",
       "      <td>Marcus Smart<\/td>\n",
       "      <td>Boston Celtics<\/td>\n",
       "      <td>36.0<\/td>\n",
       "      <td>PG<\/td>\n",
       "      <td>22.0<\/td>\n",
       "      <td>6-4<\/td>\n",
       "      <td>220.0<\/td>\n",
       "      <td>Oklahoma State<\/td>\n",
       "      <td>3431040.0<\/td>\n",
       "    <\/tr>\n",
       "    <tr>\n",
       "      <th>11<\/th>\n",
       "      <td>Isaiah Thomas<\/td>\n",
       "      <td>Boston Celtics<\/td>\n",
       "      <td>4.0<\/td>\n",
       "      <td>PG<\/td>\n",
       "      <td>27.0<\/td>\n",
       "      <td>5-9<\/td>\n",
       "      <td>185.0<\/td>\n",
       "      <td>Washington<\/td>\n",
       "      <td>6912869.0<\/td>\n",
       "    <\/tr>\n",
       "    <tr>\n",
       "      <th>19<\/th>\n",
       "      <td>Jarrett Jack<\/td>\n",
       "      <td>Brooklyn Nets<\/td>\n",
       "      <td>2.0<\/td>\n",
       "      <td>PG<\/td>\n",
       "      <td>32.0<\/td>\n",
       "      <td>6-3<\/td>\n",
       "      <td>200.0<\/td>\n",
       "      <td>Georgia Tech<\/td>\n",
       "      <td>6300000.0<\/td>\n",
       "    <\/tr>\n",
       "    <tr>\n",
       "      <th>...<\/th>\n",
       "      <td>...<\/td>\n",
       "      <td>...<\/td>\n",
       "      <td>...<\/td>\n",
       "      <td>...<\/td>\n",
       "      <td>...<\/td>\n",
       "      <td>...<\/td>\n",
       "      <td>...<\/td>\n",
       "      <td>...<\/td>\n",
       "      <td>...<\/td>\n",
       "    <\/tr>\n",
       "    <tr>\n",
       "      <th>440<\/th>\n",
       "      <td>Brian Roberts<\/td>\n",
       "      <td>Portland Trail Blazers<\/td>\n",
       "      <td>2.0<\/td>\n",
       "      <td>PG<\/td>\n",
       "      <td>30.0<\/td>\n",
       "      <td>6-1<\/td>\n",
       "      <td>173.0<\/td>\n",
       "      <td>Dayton<\/td>\n",
       "      <td>2854940.0<\/td>\n",
       "    <\/tr>\n",
       "    <tr>\n",
       "      <th>443<\/th>\n",
       "      <td>Trey Burke<\/td>\n",
       "      <td>Utah Jazz<\/td>\n",
       "      <td>3.0<\/td>\n",
       "      <td>PG<\/td>\n",
       "      <td>23.0<\/td>\n",
       "      <td>6-1<\/td>\n",
       "      <td>191.0<\/td>\n",
       "      <td>Michigan<\/td>\n",
       "      <td>2658240.0<\/td>\n",
       "    <\/tr>\n",
       "    <tr>\n",
       "      <th>445<\/th>\n",
       "      <td>Dante Exum<\/td>\n",
       "      <td>Utah Jazz<\/td>\n",
       "      <td>11.0<\/td>\n",
       "      <td>PG<\/td>\n",
       "      <td>20.0<\/td>\n",
       "      <td>6-6<\/td>\n",
       "      <td>190.0<\/td>\n",
       "      <td>NaN<\/td>\n",
       "      <td>3777720.0<\/td>\n",
       "    <\/tr>\n",
       "    <tr>\n",
       "      <th>453<\/th>\n",
       "      <td>Shelvin Mack<\/td>\n",
       "      <td>Utah Jazz<\/td>\n",
       "      <td>8.0<\/td>\n",
       "      <td>PG<\/td>\n",
       "      <td>26.0<\/td>\n",
       "      <td>6-3<\/td>\n",
       "      <td>203.0<\/td>\n",
       "      <td>Butler<\/td>\n",
       "      <td>2433333.0<\/td>\n",
       "    <\/tr>\n",
       "    <tr>\n",
       "      <th>454<\/th>\n",
       "      <td>Raul Neto<\/td>\n",
       "      <td>Utah Jazz<\/td>\n",
       "      <td>25.0<\/td>\n",
       "      <td>PG<\/td>\n",
       "      <td>24.0<\/td>\n",
       "      <td>6-1<\/td>\n",
       "      <td>179.0<\/td>\n",
       "      <td>NaN<\/td>\n",
       "      <td>900000.0<\/td>\n",
       "    <\/tr>\n",
       "  <\/tbody>\n",
       "<\/table>\n",
       "<p>92 rows × 9 columns<\/p>\n",
       "<\/div>"
      ]
     },
     "metadata":{
      
     },
     "output_type":"display_data"
    }
   ],
   "metadata":{
    "datalore":{
     "node_id":"e235h7XmvhiJkFVsMRBd0B",
     "type":"CODE",
     "hide_input_from_viewers":false,
     "hide_output_from_viewers":false
    }
   }
  },
  {
   "cell_type":"code",
   "source":[
    "#Data Processing\n",
    "import pandas as pd\n",
    "import numpy as np\n",
    "import math\n",
    "import seaborn as sns\n",
    "import matplotlib.pyplot as plt\n",
    "from sklearn.neighbors import LocalOutlierFactor\n",
    "import missingno as msno\n",
    "from ycimpute.imputer import knnimput\n",
    "from ycimpute.imputer import iterforest\n",
    "from ycimpute.imputer import EM\n",
    "from sklearn import preprocessing\n",
    "from sklearn.preprocessing import LabelEncoder\n",
    "from sklearn.preprocessing import OneHotEncoder"
   ],
   "execution_count":2,
   "outputs":[
    
   ],
   "metadata":{
    "datalore":{
     "node_id":"Y30U3mr2p8HgrSiO3TZnGA",
     "type":"CODE",
     "hide_input_from_viewers":false,
     "hide_output_from_viewers":false
    }
   }
  },
  {
   "cell_type":"code",
   "source":[
    "df = sns.load_dataset(\"diamonds\")\n",
    "df = df.select_dtypes(include=[\"float64\",\"int64\"])\n",
    "df.dropna(inplace=True)\n",
    "df.head()"
   ],
   "execution_count":3,
   "outputs":[
    {
     "data":{
      "text\/html":[
       "<div>\n",
       "<style scoped>\n",
       "    .dataframe tbody tr th:only-of-type {\n",
       "        vertical-align: middle;\n",
       "    }\n",
       "\n",
       "    .dataframe tbody tr th {\n",
       "        vertical-align: top;\n",
       "    }\n",
       "\n",
       "    .dataframe thead th {\n",
       "        text-align: right;\n",
       "    }\n",
       "<\/style>\n",
       "<table border=\"1\" class=\"dataframe\">\n",
       "  <thead>\n",
       "    <tr style=\"text-align: right;\">\n",
       "      <th><\/th>\n",
       "      <th>carat<\/th>\n",
       "      <th>depth<\/th>\n",
       "      <th>table<\/th>\n",
       "      <th>price<\/th>\n",
       "      <th>x<\/th>\n",
       "      <th>y<\/th>\n",
       "      <th>z<\/th>\n",
       "    <\/tr>\n",
       "  <\/thead>\n",
       "  <tbody>\n",
       "    <tr>\n",
       "      <th>0<\/th>\n",
       "      <td>0.23<\/td>\n",
       "      <td>61.5<\/td>\n",
       "      <td>55.0<\/td>\n",
       "      <td>326<\/td>\n",
       "      <td>3.95<\/td>\n",
       "      <td>3.98<\/td>\n",
       "      <td>2.43<\/td>\n",
       "    <\/tr>\n",
       "    <tr>\n",
       "      <th>1<\/th>\n",
       "      <td>0.21<\/td>\n",
       "      <td>59.8<\/td>\n",
       "      <td>61.0<\/td>\n",
       "      <td>326<\/td>\n",
       "      <td>3.89<\/td>\n",
       "      <td>3.84<\/td>\n",
       "      <td>2.31<\/td>\n",
       "    <\/tr>\n",
       "    <tr>\n",
       "      <th>2<\/th>\n",
       "      <td>0.23<\/td>\n",
       "      <td>56.9<\/td>\n",
       "      <td>65.0<\/td>\n",
       "      <td>327<\/td>\n",
       "      <td>4.05<\/td>\n",
       "      <td>4.07<\/td>\n",
       "      <td>2.31<\/td>\n",
       "    <\/tr>\n",
       "    <tr>\n",
       "      <th>3<\/th>\n",
       "      <td>0.29<\/td>\n",
       "      <td>62.4<\/td>\n",
       "      <td>58.0<\/td>\n",
       "      <td>334<\/td>\n",
       "      <td>4.20<\/td>\n",
       "      <td>4.23<\/td>\n",
       "      <td>2.63<\/td>\n",
       "    <\/tr>\n",
       "    <tr>\n",
       "      <th>4<\/th>\n",
       "      <td>0.31<\/td>\n",
       "      <td>63.3<\/td>\n",
       "      <td>58.0<\/td>\n",
       "      <td>335<\/td>\n",
       "      <td>4.34<\/td>\n",
       "      <td>4.35<\/td>\n",
       "      <td>2.75<\/td>\n",
       "    <\/tr>\n",
       "  <\/tbody>\n",
       "<\/table>\n",
       "<\/div>"
      ]
     },
     "metadata":{
      
     },
     "output_type":"display_data"
    }
   ],
   "metadata":{
    "datalore":{
     "node_id":"mmexx457Xs8doCudTKgAZp",
     "type":"CODE",
     "hide_input_from_viewers":false,
     "hide_output_from_viewers":false
    }
   }
  },
  {
   "cell_type":"code",
   "source":[
    "df.shape"
   ],
   "execution_count":5,
   "outputs":[
    {
     "data":{
      "text\/plain":[
       "(53940, 7)"
      ]
     },
     "metadata":{
      
     },
     "output_type":"display_data"
    }
   ],
   "metadata":{
    "datalore":{
     "node_id":"1WSiFLgwxhytIt83sICoEA",
     "type":"CODE",
     "hide_input_from_viewers":false,
     "hide_output_from_viewers":false
    }
   }
  },
  {
   "cell_type":"code",
   "source":[
    "df.describe()"
   ],
   "execution_count":6,
   "outputs":[
    {
     "data":{
      "text\/html":[
       "<div>\n",
       "<style scoped>\n",
       "    .dataframe tbody tr th:only-of-type {\n",
       "        vertical-align: middle;\n",
       "    }\n",
       "\n",
       "    .dataframe tbody tr th {\n",
       "        vertical-align: top;\n",
       "    }\n",
       "\n",
       "    .dataframe thead th {\n",
       "        text-align: right;\n",
       "    }\n",
       "<\/style>\n",
       "<table border=\"1\" class=\"dataframe\">\n",
       "  <thead>\n",
       "    <tr style=\"text-align: right;\">\n",
       "      <th><\/th>\n",
       "      <th>carat<\/th>\n",
       "      <th>depth<\/th>\n",
       "      <th>table<\/th>\n",
       "      <th>price<\/th>\n",
       "      <th>x<\/th>\n",
       "      <th>y<\/th>\n",
       "      <th>z<\/th>\n",
       "    <\/tr>\n",
       "  <\/thead>\n",
       "  <tbody>\n",
       "    <tr>\n",
       "      <th>count<\/th>\n",
       "      <td>53940.000000<\/td>\n",
       "      <td>53940.000000<\/td>\n",
       "      <td>53940.000000<\/td>\n",
       "      <td>53940.000000<\/td>\n",
       "      <td>53940.000000<\/td>\n",
       "      <td>53940.000000<\/td>\n",
       "      <td>53940.000000<\/td>\n",
       "    <\/tr>\n",
       "    <tr>\n",
       "      <th>mean<\/th>\n",
       "      <td>0.797940<\/td>\n",
       "      <td>61.749405<\/td>\n",
       "      <td>57.457184<\/td>\n",
       "      <td>3932.799722<\/td>\n",
       "      <td>5.731157<\/td>\n",
       "      <td>5.734526<\/td>\n",
       "      <td>3.538734<\/td>\n",
       "    <\/tr>\n",
       "    <tr>\n",
       "      <th>std<\/th>\n",
       "      <td>0.474011<\/td>\n",
       "      <td>1.432621<\/td>\n",
       "      <td>2.234491<\/td>\n",
       "      <td>3989.439738<\/td>\n",
       "      <td>1.121761<\/td>\n",
       "      <td>1.142135<\/td>\n",
       "      <td>0.705699<\/td>\n",
       "    <\/tr>\n",
       "    <tr>\n",
       "      <th>min<\/th>\n",
       "      <td>0.200000<\/td>\n",
       "      <td>43.000000<\/td>\n",
       "      <td>43.000000<\/td>\n",
       "      <td>326.000000<\/td>\n",
       "      <td>0.000000<\/td>\n",
       "      <td>0.000000<\/td>\n",
       "      <td>0.000000<\/td>\n",
       "    <\/tr>\n",
       "    <tr>\n",
       "      <th>25%<\/th>\n",
       "      <td>0.400000<\/td>\n",
       "      <td>61.000000<\/td>\n",
       "      <td>56.000000<\/td>\n",
       "      <td>950.000000<\/td>\n",
       "      <td>4.710000<\/td>\n",
       "      <td>4.720000<\/td>\n",
       "      <td>2.910000<\/td>\n",
       "    <\/tr>\n",
       "    <tr>\n",
       "      <th>50%<\/th>\n",
       "      <td>0.700000<\/td>\n",
       "      <td>61.800000<\/td>\n",
       "      <td>57.000000<\/td>\n",
       "      <td>2401.000000<\/td>\n",
       "      <td>5.700000<\/td>\n",
       "      <td>5.710000<\/td>\n",
       "      <td>3.530000<\/td>\n",
       "    <\/tr>\n",
       "    <tr>\n",
       "      <th>75%<\/th>\n",
       "      <td>1.040000<\/td>\n",
       "      <td>62.500000<\/td>\n",
       "      <td>59.000000<\/td>\n",
       "      <td>5324.250000<\/td>\n",
       "      <td>6.540000<\/td>\n",
       "      <td>6.540000<\/td>\n",
       "      <td>4.040000<\/td>\n",
       "    <\/tr>\n",
       "    <tr>\n",
       "      <th>max<\/th>\n",
       "      <td>5.010000<\/td>\n",
       "      <td>79.000000<\/td>\n",
       "      <td>95.000000<\/td>\n",
       "      <td>18823.000000<\/td>\n",
       "      <td>10.740000<\/td>\n",
       "      <td>58.900000<\/td>\n",
       "      <td>31.800000<\/td>\n",
       "    <\/tr>\n",
       "  <\/tbody>\n",
       "<\/table>\n",
       "<\/div>"
      ]
     },
     "metadata":{
      
     },
     "output_type":"display_data"
    }
   ],
   "metadata":{
    "datalore":{
     "node_id":"GaDkzKTpJFmfDex0eErTnz",
     "type":"CODE",
     "hide_input_from_viewers":false,
     "hide_output_from_viewers":false
    }
   }
  },
  {
   "cell_type":"code",
   "source":[
    "quart1 = df.quantile(0.25)\n",
    "quart2 = df.quantile(0.75)\n",
    "IQR = quart2-quart1\n",
    "print(quart1)\n",
    "print(quart2)\n",
    "print(IQR)"
   ],
   "execution_count":7,
   "outputs":[
    {
     "name":"stdout",
     "text":[
      "carat      0.40\n",
      "depth     61.00\n",
      "table     56.00\n",
      "price    950.00\n",
      "x          4.71\n",
      "y          4.72\n",
      "z          2.91\n",
      "Name: 0.25, dtype: float64\n",
      "carat       1.04\n",
      "depth      62.50\n",
      "table      59.00\n",
      "price    5324.25\n",
      "x           6.54\n",
      "y           6.54\n",
      "z           4.04\n",
      "Name: 0.75, dtype: float64\n",
      "carat       0.64\n",
      "depth       1.50\n",
      "table       3.00\n",
      "price    4374.25\n",
      "x           1.83\n",
      "y           1.82\n",
      "z           1.13\n",
      "dtype: float64\n"
     ],
     "output_type":"stream"
    }
   ],
   "metadata":{
    "datalore":{
     "node_id":"MBk2XUy9BXf1RZDjTMvSa4",
     "type":"CODE",
     "hide_input_from_viewers":false,
     "hide_output_from_viewers":false
    }
   }
  },
  {
   "cell_type":"code",
   "source":[
    "l_i_f = quart1 - 1.5*IQR \n",
    "u_i_f = quart2 + 1.5*IQR\n",
    "print(l_i_f)\n",
    "print(u_i_f)"
   ],
   "execution_count":10,
   "outputs":[
    {
     "name":"stdout",
     "text":[
      "carat      -0.560\n",
      "depth      58.750\n",
      "table      51.500\n",
      "price   -5611.375\n",
      "x           1.965\n",
      "y           1.990\n",
      "z           1.215\n",
      "dtype: float64\n",
      "carat        2.000\n",
      "depth       64.750\n",
      "table       63.500\n",
      "price    11885.625\n",
      "x            9.285\n",
      "y            9.270\n",
      "z            5.735\n",
      "dtype: float64\n"
     ],
     "output_type":"stream"
    }
   ],
   "metadata":{
    "datalore":{
     "node_id":"sH4O1Msp44bnHXwAD2zmDY",
     "type":"CODE",
     "hide_input_from_viewers":false,
     "hide_output_from_viewers":false
    }
   }
  },
  {
   "cell_type":"code",
   "source":[
    "print(\"Outliers:\",len(df[(df<l_i_f) | (df>u_i_f)]))"
   ],
   "execution_count":11,
   "outputs":[
    {
     "name":"stdout",
     "text":[
      "Outliers: 53940\n"
     ],
     "output_type":"stream"
    }
   ],
   "metadata":{
    "datalore":{
     "node_id":"Nm50tgDPxf9z5dSOvUf0ej",
     "type":"CODE",
     "hide_input_from_viewers":false,
     "hide_output_from_viewers":false
    }
   }
  },
  {
   "cell_type":"code",
   "source":[
    "df"
   ],
   "execution_count":4,
   "outputs":[
    {
     "data":{
      "text\/html":[
       "<div>\n",
       "<style scoped>\n",
       "    .dataframe tbody tr th:only-of-type {\n",
       "        vertical-align: middle;\n",
       "    }\n",
       "\n",
       "    .dataframe tbody tr th {\n",
       "        vertical-align: top;\n",
       "    }\n",
       "\n",
       "    .dataframe thead th {\n",
       "        text-align: right;\n",
       "    }\n",
       "<\/style>\n",
       "<table border=\"1\" class=\"dataframe\">\n",
       "  <thead>\n",
       "    <tr style=\"text-align: right;\">\n",
       "      <th><\/th>\n",
       "      <th>carat<\/th>\n",
       "      <th>depth<\/th>\n",
       "      <th>table<\/th>\n",
       "      <th>price<\/th>\n",
       "      <th>x<\/th>\n",
       "      <th>y<\/th>\n",
       "      <th>z<\/th>\n",
       "    <\/tr>\n",
       "  <\/thead>\n",
       "  <tbody>\n",
       "    <tr>\n",
       "      <th>0<\/th>\n",
       "      <td>0.23<\/td>\n",
       "      <td>61.5<\/td>\n",
       "      <td>55.0<\/td>\n",
       "      <td>326<\/td>\n",
       "      <td>3.95<\/td>\n",
       "      <td>3.98<\/td>\n",
       "      <td>2.43<\/td>\n",
       "    <\/tr>\n",
       "    <tr>\n",
       "      <th>1<\/th>\n",
       "      <td>0.21<\/td>\n",
       "      <td>59.8<\/td>\n",
       "      <td>61.0<\/td>\n",
       "      <td>326<\/td>\n",
       "      <td>3.89<\/td>\n",
       "      <td>3.84<\/td>\n",
       "      <td>2.31<\/td>\n",
       "    <\/tr>\n",
       "    <tr>\n",
       "      <th>2<\/th>\n",
       "      <td>0.23<\/td>\n",
       "      <td>56.9<\/td>\n",
       "      <td>65.0<\/td>\n",
       "      <td>327<\/td>\n",
       "      <td>4.05<\/td>\n",
       "      <td>4.07<\/td>\n",
       "      <td>2.31<\/td>\n",
       "    <\/tr>\n",
       "    <tr>\n",
       "      <th>3<\/th>\n",
       "      <td>0.29<\/td>\n",
       "      <td>62.4<\/td>\n",
       "      <td>58.0<\/td>\n",
       "      <td>334<\/td>\n",
       "      <td>4.20<\/td>\n",
       "      <td>4.23<\/td>\n",
       "      <td>2.63<\/td>\n",
       "    <\/tr>\n",
       "    <tr>\n",
       "      <th>4<\/th>\n",
       "      <td>0.31<\/td>\n",
       "      <td>63.3<\/td>\n",
       "      <td>58.0<\/td>\n",
       "      <td>335<\/td>\n",
       "      <td>4.34<\/td>\n",
       "      <td>4.35<\/td>\n",
       "      <td>2.75<\/td>\n",
       "    <\/tr>\n",
       "    <tr>\n",
       "      <th>...<\/th>\n",
       "      <td>...<\/td>\n",
       "      <td>...<\/td>\n",
       "      <td>...<\/td>\n",
       "      <td>...<\/td>\n",
       "      <td>...<\/td>\n",
       "      <td>...<\/td>\n",
       "      <td>...<\/td>\n",
       "    <\/tr>\n",
       "    <tr>\n",
       "      <th>53935<\/th>\n",
       "      <td>0.72<\/td>\n",
       "      <td>60.8<\/td>\n",
       "      <td>57.0<\/td>\n",
       "      <td>2757<\/td>\n",
       "      <td>5.75<\/td>\n",
       "      <td>5.76<\/td>\n",
       "      <td>3.50<\/td>\n",
       "    <\/tr>\n",
       "    <tr>\n",
       "      <th>53936<\/th>\n",
       "      <td>0.72<\/td>\n",
       "      <td>63.1<\/td>\n",
       "      <td>55.0<\/td>\n",
       "      <td>2757<\/td>\n",
       "      <td>5.69<\/td>\n",
       "      <td>5.75<\/td>\n",
       "      <td>3.61<\/td>\n",
       "    <\/tr>\n",
       "    <tr>\n",
       "      <th>53937<\/th>\n",
       "      <td>0.70<\/td>\n",
       "      <td>62.8<\/td>\n",
       "      <td>60.0<\/td>\n",
       "      <td>2757<\/td>\n",
       "      <td>5.66<\/td>\n",
       "      <td>5.68<\/td>\n",
       "      <td>3.56<\/td>\n",
       "    <\/tr>\n",
       "    <tr>\n",
       "      <th>53938<\/th>\n",
       "      <td>0.86<\/td>\n",
       "      <td>61.0<\/td>\n",
       "      <td>58.0<\/td>\n",
       "      <td>2757<\/td>\n",
       "      <td>6.15<\/td>\n",
       "      <td>6.12<\/td>\n",
       "      <td>3.74<\/td>\n",
       "    <\/tr>\n",
       "    <tr>\n",
       "      <th>53939<\/th>\n",
       "      <td>0.75<\/td>\n",
       "      <td>62.2<\/td>\n",
       "      <td>55.0<\/td>\n",
       "      <td>2757<\/td>\n",
       "      <td>5.83<\/td>\n",
       "      <td>5.87<\/td>\n",
       "      <td>3.64<\/td>\n",
       "    <\/tr>\n",
       "  <\/tbody>\n",
       "<\/table>\n",
       "<p>53940 rows × 7 columns<\/p>\n",
       "<\/div>"
      ]
     },
     "metadata":{
      
     },
     "output_type":"display_data"
    }
   ],
   "metadata":{
    "datalore":{
     "node_id":"dh28fHcMDH1G0wAS05rkeg",
     "type":"CODE",
     "hide_input_from_viewers":false,
     "hide_output_from_viewers":false
    }
   }
  },
  {
   "cell_type":"code",
   "source":[
    "df.isnull()"
   ],
   "execution_count":5,
   "outputs":[
    {
     "data":{
      "text\/html":[
       "<div>\n",
       "<style scoped>\n",
       "    .dataframe tbody tr th:only-of-type {\n",
       "        vertical-align: middle;\n",
       "    }\n",
       "\n",
       "    .dataframe tbody tr th {\n",
       "        vertical-align: top;\n",
       "    }\n",
       "\n",
       "    .dataframe thead th {\n",
       "        text-align: right;\n",
       "    }\n",
       "<\/style>\n",
       "<table border=\"1\" class=\"dataframe\">\n",
       "  <thead>\n",
       "    <tr style=\"text-align: right;\">\n",
       "      <th><\/th>\n",
       "      <th>carat<\/th>\n",
       "      <th>depth<\/th>\n",
       "      <th>table<\/th>\n",
       "      <th>price<\/th>\n",
       "      <th>x<\/th>\n",
       "      <th>y<\/th>\n",
       "      <th>z<\/th>\n",
       "    <\/tr>\n",
       "  <\/thead>\n",
       "  <tbody>\n",
       "    <tr>\n",
       "      <th>0<\/th>\n",
       "      <td>False<\/td>\n",
       "      <td>False<\/td>\n",
       "      <td>False<\/td>\n",
       "      <td>False<\/td>\n",
       "      <td>False<\/td>\n",
       "      <td>False<\/td>\n",
       "      <td>False<\/td>\n",
       "    <\/tr>\n",
       "    <tr>\n",
       "      <th>1<\/th>\n",
       "      <td>False<\/td>\n",
       "      <td>False<\/td>\n",
       "      <td>False<\/td>\n",
       "      <td>False<\/td>\n",
       "      <td>False<\/td>\n",
       "      <td>False<\/td>\n",
       "      <td>False<\/td>\n",
       "    <\/tr>\n",
       "    <tr>\n",
       "      <th>2<\/th>\n",
       "      <td>False<\/td>\n",
       "      <td>False<\/td>\n",
       "      <td>False<\/td>\n",
       "      <td>False<\/td>\n",
       "      <td>False<\/td>\n",
       "      <td>False<\/td>\n",
       "      <td>False<\/td>\n",
       "    <\/tr>\n",
       "    <tr>\n",
       "      <th>3<\/th>\n",
       "      <td>False<\/td>\n",
       "      <td>False<\/td>\n",
       "      <td>False<\/td>\n",
       "      <td>False<\/td>\n",
       "      <td>False<\/td>\n",
       "      <td>False<\/td>\n",
       "      <td>False<\/td>\n",
       "    <\/tr>\n",
       "    <tr>\n",
       "      <th>4<\/th>\n",
       "      <td>False<\/td>\n",
       "      <td>False<\/td>\n",
       "      <td>False<\/td>\n",
       "      <td>False<\/td>\n",
       "      <td>False<\/td>\n",
       "      <td>False<\/td>\n",
       "      <td>False<\/td>\n",
       "    <\/tr>\n",
       "    <tr>\n",
       "      <th>...<\/th>\n",
       "      <td>...<\/td>\n",
       "      <td>...<\/td>\n",
       "      <td>...<\/td>\n",
       "      <td>...<\/td>\n",
       "      <td>...<\/td>\n",
       "      <td>...<\/td>\n",
       "      <td>...<\/td>\n",
       "    <\/tr>\n",
       "    <tr>\n",
       "      <th>53935<\/th>\n",
       "      <td>False<\/td>\n",
       "      <td>False<\/td>\n",
       "      <td>False<\/td>\n",
       "      <td>False<\/td>\n",
       "      <td>False<\/td>\n",
       "      <td>False<\/td>\n",
       "      <td>False<\/td>\n",
       "    <\/tr>\n",
       "    <tr>\n",
       "      <th>53936<\/th>\n",
       "      <td>False<\/td>\n",
       "      <td>False<\/td>\n",
       "      <td>False<\/td>\n",
       "      <td>False<\/td>\n",
       "      <td>False<\/td>\n",
       "      <td>False<\/td>\n",
       "      <td>False<\/td>\n",
       "    <\/tr>\n",
       "    <tr>\n",
       "      <th>53937<\/th>\n",
       "      <td>False<\/td>\n",
       "      <td>False<\/td>\n",
       "      <td>False<\/td>\n",
       "      <td>False<\/td>\n",
       "      <td>False<\/td>\n",
       "      <td>False<\/td>\n",
       "      <td>False<\/td>\n",
       "    <\/tr>\n",
       "    <tr>\n",
       "      <th>53938<\/th>\n",
       "      <td>False<\/td>\n",
       "      <td>False<\/td>\n",
       "      <td>False<\/td>\n",
       "      <td>False<\/td>\n",
       "      <td>False<\/td>\n",
       "      <td>False<\/td>\n",
       "      <td>False<\/td>\n",
       "    <\/tr>\n",
       "    <tr>\n",
       "      <th>53939<\/th>\n",
       "      <td>False<\/td>\n",
       "      <td>False<\/td>\n",
       "      <td>False<\/td>\n",
       "      <td>False<\/td>\n",
       "      <td>False<\/td>\n",
       "      <td>False<\/td>\n",
       "      <td>False<\/td>\n",
       "    <\/tr>\n",
       "  <\/tbody>\n",
       "<\/table>\n",
       "<p>53940 rows × 7 columns<\/p>\n",
       "<\/div>"
      ]
     },
     "metadata":{
      
     },
     "output_type":"display_data"
    }
   ],
   "metadata":{
    "datalore":{
     "node_id":"2PKpoh2cmuKHgjNNIHlTyl",
     "type":"CODE",
     "hide_input_from_viewers":false,
     "hide_output_from_viewers":false
    }
   }
  },
  {
   "cell_type":"code",
   "source":[
    "df.isna()"
   ],
   "execution_count":6,
   "outputs":[
    {
     "data":{
      "text\/html":[
       "<div>\n",
       "<style scoped>\n",
       "    .dataframe tbody tr th:only-of-type {\n",
       "        vertical-align: middle;\n",
       "    }\n",
       "\n",
       "    .dataframe tbody tr th {\n",
       "        vertical-align: top;\n",
       "    }\n",
       "\n",
       "    .dataframe thead th {\n",
       "        text-align: right;\n",
       "    }\n",
       "<\/style>\n",
       "<table border=\"1\" class=\"dataframe\">\n",
       "  <thead>\n",
       "    <tr style=\"text-align: right;\">\n",
       "      <th><\/th>\n",
       "      <th>carat<\/th>\n",
       "      <th>depth<\/th>\n",
       "      <th>table<\/th>\n",
       "      <th>price<\/th>\n",
       "      <th>x<\/th>\n",
       "      <th>y<\/th>\n",
       "      <th>z<\/th>\n",
       "    <\/tr>\n",
       "  <\/thead>\n",
       "  <tbody>\n",
       "    <tr>\n",
       "      <th>0<\/th>\n",
       "      <td>False<\/td>\n",
       "      <td>False<\/td>\n",
       "      <td>False<\/td>\n",
       "      <td>False<\/td>\n",
       "      <td>False<\/td>\n",
       "      <td>False<\/td>\n",
       "      <td>False<\/td>\n",
       "    <\/tr>\n",
       "    <tr>\n",
       "      <th>1<\/th>\n",
       "      <td>False<\/td>\n",
       "      <td>False<\/td>\n",
       "      <td>False<\/td>\n",
       "      <td>False<\/td>\n",
       "      <td>False<\/td>\n",
       "      <td>False<\/td>\n",
       "      <td>False<\/td>\n",
       "    <\/tr>\n",
       "    <tr>\n",
       "      <th>2<\/th>\n",
       "      <td>False<\/td>\n",
       "      <td>False<\/td>\n",
       "      <td>False<\/td>\n",
       "      <td>False<\/td>\n",
       "      <td>False<\/td>\n",
       "      <td>False<\/td>\n",
       "      <td>False<\/td>\n",
       "    <\/tr>\n",
       "    <tr>\n",
       "      <th>3<\/th>\n",
       "      <td>False<\/td>\n",
       "      <td>False<\/td>\n",
       "      <td>False<\/td>\n",
       "      <td>False<\/td>\n",
       "      <td>False<\/td>\n",
       "      <td>False<\/td>\n",
       "      <td>False<\/td>\n",
       "    <\/tr>\n",
       "    <tr>\n",
       "      <th>4<\/th>\n",
       "      <td>False<\/td>\n",
       "      <td>False<\/td>\n",
       "      <td>False<\/td>\n",
       "      <td>False<\/td>\n",
       "      <td>False<\/td>\n",
       "      <td>False<\/td>\n",
       "      <td>False<\/td>\n",
       "    <\/tr>\n",
       "    <tr>\n",
       "      <th>...<\/th>\n",
       "      <td>...<\/td>\n",
       "      <td>...<\/td>\n",
       "      <td>...<\/td>\n",
       "      <td>...<\/td>\n",
       "      <td>...<\/td>\n",
       "      <td>...<\/td>\n",
       "      <td>...<\/td>\n",
       "    <\/tr>\n",
       "    <tr>\n",
       "      <th>53935<\/th>\n",
       "      <td>False<\/td>\n",
       "      <td>False<\/td>\n",
       "      <td>False<\/td>\n",
       "      <td>False<\/td>\n",
       "      <td>False<\/td>\n",
       "      <td>False<\/td>\n",
       "      <td>False<\/td>\n",
       "    <\/tr>\n",
       "    <tr>\n",
       "      <th>53936<\/th>\n",
       "      <td>False<\/td>\n",
       "      <td>False<\/td>\n",
       "      <td>False<\/td>\n",
       "      <td>False<\/td>\n",
       "      <td>False<\/td>\n",
       "      <td>False<\/td>\n",
       "      <td>False<\/td>\n",
       "    <\/tr>\n",
       "    <tr>\n",
       "      <th>53937<\/th>\n",
       "      <td>False<\/td>\n",
       "      <td>False<\/td>\n",
       "      <td>False<\/td>\n",
       "      <td>False<\/td>\n",
       "      <td>False<\/td>\n",
       "      <td>False<\/td>\n",
       "      <td>False<\/td>\n",
       "    <\/tr>\n",
       "    <tr>\n",
       "      <th>53938<\/th>\n",
       "      <td>False<\/td>\n",
       "      <td>False<\/td>\n",
       "      <td>False<\/td>\n",
       "      <td>False<\/td>\n",
       "      <td>False<\/td>\n",
       "      <td>False<\/td>\n",
       "      <td>False<\/td>\n",
       "    <\/tr>\n",
       "    <tr>\n",
       "      <th>53939<\/th>\n",
       "      <td>False<\/td>\n",
       "      <td>False<\/td>\n",
       "      <td>False<\/td>\n",
       "      <td>False<\/td>\n",
       "      <td>False<\/td>\n",
       "      <td>False<\/td>\n",
       "      <td>False<\/td>\n",
       "    <\/tr>\n",
       "  <\/tbody>\n",
       "<\/table>\n",
       "<p>53940 rows × 7 columns<\/p>\n",
       "<\/div>"
      ]
     },
     "metadata":{
      
     },
     "output_type":"display_data"
    }
   ],
   "metadata":{
    "datalore":{
     "node_id":"MtSgwuIrqPoUozMGDDxGKX",
     "type":"CODE",
     "hide_input_from_viewers":false,
     "hide_output_from_viewers":false
    }
   }
  },
  {
   "cell_type":"code",
   "source":[
    "nba.isnull()"
   ],
   "execution_count":8,
   "outputs":[
    {
     "data":{
      "text\/html":[
       "<div>\n",
       "<style scoped>\n",
       "    .dataframe tbody tr th:only-of-type {\n",
       "        vertical-align: middle;\n",
       "    }\n",
       "\n",
       "    .dataframe tbody tr th {\n",
       "        vertical-align: top;\n",
       "    }\n",
       "\n",
       "    .dataframe thead th {\n",
       "        text-align: right;\n",
       "    }\n",
       "<\/style>\n",
       "<table border=\"1\" class=\"dataframe\">\n",
       "  <thead>\n",
       "    <tr style=\"text-align: right;\">\n",
       "      <th><\/th>\n",
       "      <th>Name<\/th>\n",
       "      <th>Team<\/th>\n",
       "      <th>Number<\/th>\n",
       "      <th>Position<\/th>\n",
       "      <th>Age<\/th>\n",
       "      <th>Height<\/th>\n",
       "      <th>Weight<\/th>\n",
       "      <th>College<\/th>\n",
       "      <th>Salary<\/th>\n",
       "    <\/tr>\n",
       "  <\/thead>\n",
       "  <tbody>\n",
       "    <tr>\n",
       "      <th>0<\/th>\n",
       "      <td>False<\/td>\n",
       "      <td>False<\/td>\n",
       "      <td>False<\/td>\n",
       "      <td>False<\/td>\n",
       "      <td>False<\/td>\n",
       "      <td>False<\/td>\n",
       "      <td>False<\/td>\n",
       "      <td>False<\/td>\n",
       "      <td>False<\/td>\n",
       "    <\/tr>\n",
       "    <tr>\n",
       "      <th>1<\/th>\n",
       "      <td>False<\/td>\n",
       "      <td>False<\/td>\n",
       "      <td>False<\/td>\n",
       "      <td>False<\/td>\n",
       "      <td>False<\/td>\n",
       "      <td>False<\/td>\n",
       "      <td>False<\/td>\n",
       "      <td>False<\/td>\n",
       "      <td>False<\/td>\n",
       "    <\/tr>\n",
       "    <tr>\n",
       "      <th>2<\/th>\n",
       "      <td>False<\/td>\n",
       "      <td>False<\/td>\n",
       "      <td>False<\/td>\n",
       "      <td>False<\/td>\n",
       "      <td>False<\/td>\n",
       "      <td>False<\/td>\n",
       "      <td>False<\/td>\n",
       "      <td>False<\/td>\n",
       "      <td>True<\/td>\n",
       "    <\/tr>\n",
       "    <tr>\n",
       "      <th>3<\/th>\n",
       "      <td>False<\/td>\n",
       "      <td>False<\/td>\n",
       "      <td>False<\/td>\n",
       "      <td>False<\/td>\n",
       "      <td>False<\/td>\n",
       "      <td>False<\/td>\n",
       "      <td>False<\/td>\n",
       "      <td>False<\/td>\n",
       "      <td>False<\/td>\n",
       "    <\/tr>\n",
       "    <tr>\n",
       "      <th>4<\/th>\n",
       "      <td>False<\/td>\n",
       "      <td>False<\/td>\n",
       "      <td>False<\/td>\n",
       "      <td>False<\/td>\n",
       "      <td>False<\/td>\n",
       "      <td>False<\/td>\n",
       "      <td>False<\/td>\n",
       "      <td>True<\/td>\n",
       "      <td>False<\/td>\n",
       "    <\/tr>\n",
       "    <tr>\n",
       "      <th>...<\/th>\n",
       "      <td>...<\/td>\n",
       "      <td>...<\/td>\n",
       "      <td>...<\/td>\n",
       "      <td>...<\/td>\n",
       "      <td>...<\/td>\n",
       "      <td>...<\/td>\n",
       "      <td>...<\/td>\n",
       "      <td>...<\/td>\n",
       "      <td>...<\/td>\n",
       "    <\/tr>\n",
       "    <tr>\n",
       "      <th>453<\/th>\n",
       "      <td>False<\/td>\n",
       "      <td>False<\/td>\n",
       "      <td>False<\/td>\n",
       "      <td>False<\/td>\n",
       "      <td>False<\/td>\n",
       "      <td>False<\/td>\n",
       "      <td>False<\/td>\n",
       "      <td>False<\/td>\n",
       "      <td>False<\/td>\n",
       "    <\/tr>\n",
       "    <tr>\n",
       "      <th>454<\/th>\n",
       "      <td>False<\/td>\n",
       "      <td>False<\/td>\n",
       "      <td>False<\/td>\n",
       "      <td>False<\/td>\n",
       "      <td>False<\/td>\n",
       "      <td>False<\/td>\n",
       "      <td>False<\/td>\n",
       "      <td>True<\/td>\n",
       "      <td>False<\/td>\n",
       "    <\/tr>\n",
       "    <tr>\n",
       "      <th>455<\/th>\n",
       "      <td>False<\/td>\n",
       "      <td>False<\/td>\n",
       "      <td>False<\/td>\n",
       "      <td>False<\/td>\n",
       "      <td>False<\/td>\n",
       "      <td>False<\/td>\n",
       "      <td>False<\/td>\n",
       "      <td>True<\/td>\n",
       "      <td>False<\/td>\n",
       "    <\/tr>\n",
       "    <tr>\n",
       "      <th>456<\/th>\n",
       "      <td>False<\/td>\n",
       "      <td>False<\/td>\n",
       "      <td>False<\/td>\n",
       "      <td>False<\/td>\n",
       "      <td>False<\/td>\n",
       "      <td>False<\/td>\n",
       "      <td>False<\/td>\n",
       "      <td>False<\/td>\n",
       "      <td>False<\/td>\n",
       "    <\/tr>\n",
       "    <tr>\n",
       "      <th>457<\/th>\n",
       "      <td>True<\/td>\n",
       "      <td>True<\/td>\n",
       "      <td>True<\/td>\n",
       "      <td>True<\/td>\n",
       "      <td>True<\/td>\n",
       "      <td>True<\/td>\n",
       "      <td>True<\/td>\n",
       "      <td>True<\/td>\n",
       "      <td>True<\/td>\n",
       "    <\/tr>\n",
       "  <\/tbody>\n",
       "<\/table>\n",
       "<p>458 rows × 9 columns<\/p>\n",
       "<\/div>"
      ]
     },
     "metadata":{
      
     },
     "output_type":"display_data"
    }
   ],
   "metadata":{
    "datalore":{
     "node_id":"SGuLwEh8dOjVDJXpK7z5XO",
     "type":"CODE",
     "hide_input_from_viewers":false,
     "hide_output_from_viewers":false
    }
   }
  },
  {
   "cell_type":"code",
   "source":[
    "nba.dropna(inplace=True)"
   ],
   "execution_count":10,
   "outputs":[
    {
     "data":{
      "text\/html":[
       "<div>\n",
       "<style scoped>\n",
       "    .dataframe tbody tr th:only-of-type {\n",
       "        vertical-align: middle;\n",
       "    }\n",
       "\n",
       "    .dataframe tbody tr th {\n",
       "        vertical-align: top;\n",
       "    }\n",
       "\n",
       "    .dataframe thead th {\n",
       "        text-align: right;\n",
       "    }\n",
       "<\/style>\n",
       "<table border=\"1\" class=\"dataframe\">\n",
       "  <thead>\n",
       "    <tr style=\"text-align: right;\">\n",
       "      <th><\/th>\n",
       "      <th>Name<\/th>\n",
       "      <th>Team<\/th>\n",
       "      <th>Number<\/th>\n",
       "      <th>Position<\/th>\n",
       "      <th>Age<\/th>\n",
       "      <th>Height<\/th>\n",
       "      <th>Weight<\/th>\n",
       "      <th>College<\/th>\n",
       "      <th>Salary<\/th>\n",
       "    <\/tr>\n",
       "  <\/thead>\n",
       "  <tbody>\n",
       "    <tr>\n",
       "      <th>0<\/th>\n",
       "      <td>Avery Bradley<\/td>\n",
       "      <td>Boston Celtics<\/td>\n",
       "      <td>0.0<\/td>\n",
       "      <td>PG<\/td>\n",
       "      <td>25.0<\/td>\n",
       "      <td>6-2<\/td>\n",
       "      <td>180.0<\/td>\n",
       "      <td>Texas<\/td>\n",
       "      <td>7730337.0<\/td>\n",
       "    <\/tr>\n",
       "    <tr>\n",
       "      <th>1<\/th>\n",
       "      <td>Jae Crowder<\/td>\n",
       "      <td>Boston Celtics<\/td>\n",
       "      <td>99.0<\/td>\n",
       "      <td>SF<\/td>\n",
       "      <td>25.0<\/td>\n",
       "      <td>6-6<\/td>\n",
       "      <td>235.0<\/td>\n",
       "      <td>Marquette<\/td>\n",
       "      <td>6796117.0<\/td>\n",
       "    <\/tr>\n",
       "    <tr>\n",
       "      <th>3<\/th>\n",
       "      <td>R.J. Hunter<\/td>\n",
       "      <td>Boston Celtics<\/td>\n",
       "      <td>28.0<\/td>\n",
       "      <td>SG<\/td>\n",
       "      <td>22.0<\/td>\n",
       "      <td>6-5<\/td>\n",
       "      <td>185.0<\/td>\n",
       "      <td>Georgia State<\/td>\n",
       "      <td>1148640.0<\/td>\n",
       "    <\/tr>\n",
       "    <tr>\n",
       "      <th>6<\/th>\n",
       "      <td>Jordan Mickey<\/td>\n",
       "      <td>Boston Celtics<\/td>\n",
       "      <td>55.0<\/td>\n",
       "      <td>PF<\/td>\n",
       "      <td>21.0<\/td>\n",
       "      <td>6-8<\/td>\n",
       "      <td>235.0<\/td>\n",
       "      <td>LSU<\/td>\n",
       "      <td>1170960.0<\/td>\n",
       "    <\/tr>\n",
       "    <tr>\n",
       "      <th>7<\/th>\n",
       "      <td>Kelly Olynyk<\/td>\n",
       "      <td>Boston Celtics<\/td>\n",
       "      <td>41.0<\/td>\n",
       "      <td>C<\/td>\n",
       "      <td>25.0<\/td>\n",
       "      <td>7-0<\/td>\n",
       "      <td>238.0<\/td>\n",
       "      <td>Gonzaga<\/td>\n",
       "      <td>2165160.0<\/td>\n",
       "    <\/tr>\n",
       "    <tr>\n",
       "      <th>...<\/th>\n",
       "      <td>...<\/td>\n",
       "      <td>...<\/td>\n",
       "      <td>...<\/td>\n",
       "      <td>...<\/td>\n",
       "      <td>...<\/td>\n",
       "      <td>...<\/td>\n",
       "      <td>...<\/td>\n",
       "      <td>...<\/td>\n",
       "      <td>...<\/td>\n",
       "    <\/tr>\n",
       "    <tr>\n",
       "      <th>449<\/th>\n",
       "      <td>Rodney Hood<\/td>\n",
       "      <td>Utah Jazz<\/td>\n",
       "      <td>5.0<\/td>\n",
       "      <td>SG<\/td>\n",
       "      <td>23.0<\/td>\n",
       "      <td>6-8<\/td>\n",
       "      <td>206.0<\/td>\n",
       "      <td>Duke<\/td>\n",
       "      <td>1348440.0<\/td>\n",
       "    <\/tr>\n",
       "    <tr>\n",
       "      <th>451<\/th>\n",
       "      <td>Chris Johnson<\/td>\n",
       "      <td>Utah Jazz<\/td>\n",
       "      <td>23.0<\/td>\n",
       "      <td>SF<\/td>\n",
       "      <td>26.0<\/td>\n",
       "      <td>6-6<\/td>\n",
       "      <td>206.0<\/td>\n",
       "      <td>Dayton<\/td>\n",
       "      <td>981348.0<\/td>\n",
       "    <\/tr>\n",
       "    <tr>\n",
       "      <th>452<\/th>\n",
       "      <td>Trey Lyles<\/td>\n",
       "      <td>Utah Jazz<\/td>\n",
       "      <td>41.0<\/td>\n",
       "      <td>PF<\/td>\n",
       "      <td>20.0<\/td>\n",
       "      <td>6-10<\/td>\n",
       "      <td>234.0<\/td>\n",
       "      <td>Kentucky<\/td>\n",
       "      <td>2239800.0<\/td>\n",
       "    <\/tr>\n",
       "    <tr>\n",
       "      <th>453<\/th>\n",
       "      <td>Shelvin Mack<\/td>\n",
       "      <td>Utah Jazz<\/td>\n",
       "      <td>8.0<\/td>\n",
       "      <td>PG<\/td>\n",
       "      <td>26.0<\/td>\n",
       "      <td>6-3<\/td>\n",
       "      <td>203.0<\/td>\n",
       "      <td>Butler<\/td>\n",
       "      <td>2433333.0<\/td>\n",
       "    <\/tr>\n",
       "    <tr>\n",
       "      <th>456<\/th>\n",
       "      <td>Jeff Withey<\/td>\n",
       "      <td>Utah Jazz<\/td>\n",
       "      <td>24.0<\/td>\n",
       "      <td>C<\/td>\n",
       "      <td>26.0<\/td>\n",
       "      <td>7-0<\/td>\n",
       "      <td>231.0<\/td>\n",
       "      <td>Kansas<\/td>\n",
       "      <td>947276.0<\/td>\n",
       "    <\/tr>\n",
       "  <\/tbody>\n",
       "<\/table>\n",
       "<p>364 rows × 9 columns<\/p>\n",
       "<\/div>"
      ]
     },
     "metadata":{
      
     },
     "output_type":"display_data"
    }
   ],
   "metadata":{
    "datalore":{
     "node_id":"UrWqwTxkhRKq0N3by4PMrd",
     "type":"CODE",
     "hide_input_from_viewers":false,
     "hide_output_from_viewers":false
    }
   }
  },
  {
   "cell_type":"code",
   "source":[
    "nba.shape"
   ],
   "execution_count":12,
   "outputs":[
    {
     "data":{
      "text\/plain":[
       "(458, 9)"
      ]
     },
     "metadata":{
      
     },
     "output_type":"display_data"
    }
   ],
   "metadata":{
    "datalore":{
     "node_id":"xL6fcsWmAZdgaBZzueuIVF",
     "type":"CODE",
     "hide_input_from_viewers":false,
     "hide_output_from_viewers":false
    }
   }
  },
  {
   "cell_type":"code",
   "source":[
    "df_tab = nba[\"Salary\"]\n",
    "df_tab"
   ],
   "execution_count":28,
   "outputs":[
    {
     "data":{
      "text\/html":[
       "<pre>0      7730337.0\n",
       "1      6796117.0\n",
       "2            NaN\n",
       "3      1148640.0\n",
       "4      5000000.0\n",
       "         ...    \n",
       "453    2433333.0\n",
       "454     900000.0\n",
       "455    2900000.0\n",
       "456     947276.0\n",
       "457          NaN\n",
       "Name: Salary, Length: 458, dtype: float64<\/pre>"
      ]
     },
     "metadata":{
      
     },
     "output_type":"display_data"
    }
   ],
   "metadata":{
    "datalore":{
     "node_id":"ETLDE4YyFVTI44EvLL0Jwe",
     "type":"CODE",
     "hide_input_from_viewers":false,
     "hide_output_from_viewers":false
    }
   }
  },
  {
   "cell_type":"code",
   "source":[
    "sns.boxplot(x=df_table)\n",
    "plt.show()"
   ],
   "execution_count":14,
   "outputs":[
    {
     "data":{
      "image\/png":"[encoded data removed]"
     },
     "metadata":{
      "image\/png":{
       
      }
     },
     "output_type":"display_data"
    }
   ],
   "metadata":{
    "datalore":{
     "node_id":"1TlyAOaCDHR32VDWaCaTMB",
     "type":"CODE",
     "hide_input_from_viewers":false,
     "hide_output_from_viewers":false
    }
   }
  },
  {
   "cell_type":"code",
   "source":[
    "df_table.describe()"
   ],
   "execution_count":15,
   "outputs":[
    {
     "data":{
      "text\/html":[
       "<pre>count    4.460000e+02\n",
       "mean     4.842684e+06\n",
       "std      5.229238e+06\n",
       "min      3.088800e+04\n",
       "25%      1.044792e+06\n",
       "50%      2.839073e+06\n",
       "75%      6.500000e+06\n",
       "max      2.500000e+07\n",
       "Name: Salary, dtype: float64<\/pre>"
      ]
     },
     "metadata":{
      
     },
     "output_type":"display_data"
    }
   ],
   "metadata":{
    "datalore":{
     "node_id":"xAsMNTCttOqGsHy0DO7GuX",
     "type":"CODE",
     "hide_input_from_viewers":false,
     "hide_output_from_viewers":false
    }
   }
  },
  {
   "cell_type":"code",
   "source":[
    "q1 = df_table.quantile(0.25)\n",
    "q3 = df_table.quantile(0.75)\n",
    "IQR = q3-q1\n",
    "print(q1)\n",
    "print(q3)\n",
    "print(IQR)"
   ],
   "execution_count":16,
   "outputs":[
    {
     "name":"stdout",
     "text":[
      "1044792.25\n",
      "6500000.0\n",
      "5455207.75\n"
     ],
     "output_type":"stream"
    }
   ],
   "metadata":{
    "datalore":{
     "node_id":"Gs00txad26gaVqDFdPihFP",
     "type":"CODE",
     "hide_input_from_viewers":false,
     "hide_output_from_viewers":false
    }
   }
  },
  {
   "cell_type":"code",
   "source":[
    "lif = q1 - 1.5*IQR\n",
    "uif = q3 + 1.5*IQR\n",
    "print(lif)\n",
    "print(uif)"
   ],
   "execution_count":17,
   "outputs":[
    {
     "name":"stdout",
     "text":[
      "-7138019.375\n",
      "14682811.625\n"
     ],
     "output_type":"stream"
    }
   ],
   "metadata":{
    "datalore":{
     "node_id":"P4Ypirbd4TYVUcTREq7Vhv",
     "type":"CODE",
     "hide_input_from_viewers":false,
     "hide_output_from_viewers":false
    }
   }
  },
  {
   "cell_type":"code",
   "source":[
    "print(\"Outlier = \",len(df_table[(df_table<lif) | (df_table>uif)]))"
   ],
   "execution_count":20,
   "outputs":[
    {
     "name":"stdout",
     "text":[
      "Outlier =  35\n"
     ],
     "output_type":"stream"
    }
   ],
   "metadata":{
    "datalore":{
     "node_id":"NXMjQ6YFocOMrnbfU7TLzf",
     "type":"CODE",
     "hide_input_from_viewers":false,
     "hide_output_from_viewers":false
    }
   }
  },
  {
   "cell_type":"code",
   "source":[
    "df_table = pd.DataFrame(df_table)\n",
    "df_table.head()"
   ],
   "execution_count":21,
   "outputs":[
    {
     "data":{
      "text\/html":[
       "<div>\n",
       "<style scoped>\n",
       "    .dataframe tbody tr th:only-of-type {\n",
       "        vertical-align: middle;\n",
       "    }\n",
       "\n",
       "    .dataframe tbody tr th {\n",
       "        vertical-align: top;\n",
       "    }\n",
       "\n",
       "    .dataframe thead th {\n",
       "        text-align: right;\n",
       "    }\n",
       "<\/style>\n",
       "<table border=\"1\" class=\"dataframe\">\n",
       "  <thead>\n",
       "    <tr style=\"text-align: right;\">\n",
       "      <th><\/th>\n",
       "      <th>Salary<\/th>\n",
       "    <\/tr>\n",
       "  <\/thead>\n",
       "  <tbody>\n",
       "    <tr>\n",
       "      <th>0<\/th>\n",
       "      <td>7730337.0<\/td>\n",
       "    <\/tr>\n",
       "    <tr>\n",
       "      <th>1<\/th>\n",
       "      <td>6796117.0<\/td>\n",
       "    <\/tr>\n",
       "    <tr>\n",
       "      <th>2<\/th>\n",
       "      <td>NaN<\/td>\n",
       "    <\/tr>\n",
       "    <tr>\n",
       "      <th>3<\/th>\n",
       "      <td>1148640.0<\/td>\n",
       "    <\/tr>\n",
       "    <tr>\n",
       "      <th>4<\/th>\n",
       "      <td>5000000.0<\/td>\n",
       "    <\/tr>\n",
       "  <\/tbody>\n",
       "<\/table>\n",
       "<\/div>"
      ]
     },
     "metadata":{
      
     },
     "output_type":"display_data"
    }
   ],
   "metadata":{
    "datalore":{
     "node_id":"0luHyM99G3WtVa5KIqLaaj",
     "type":"CODE",
     "hide_input_from_viewers":false,
     "hide_output_from_viewers":false
    }
   }
  },
  {
   "cell_type":"code",
   "source":[
    "df_table.shape"
   ],
   "execution_count":23,
   "outputs":[
    {
     "data":{
      "text\/plain":[
       "(458, 1)"
      ]
     },
     "metadata":{
      
     },
     "output_type":"display_data"
    }
   ],
   "metadata":{
    "datalore":{
     "node_id":"qvPVHjgOpgrCKCobLwfCGs",
     "type":"CODE",
     "hide_input_from_viewers":false,
     "hide_output_from_viewers":false
    }
   }
  },
  {
   "cell_type":"code",
   "source":[
    "new_df = df_table[~((df_table<lif) | (df_table>uif)).any(axis=1)]"
   ],
   "execution_count":24,
   "outputs":[
    
   ],
   "metadata":{
    "datalore":{
     "node_id":"rSInmzkuyW912xxdvaVliv",
     "type":"CODE",
     "hide_input_from_viewers":false,
     "hide_output_from_viewers":false
    }
   }
  },
  {
   "cell_type":"code",
   "source":[
    "new_df.shape"
   ],
   "execution_count":26,
   "outputs":[
    {
     "data":{
      "text\/plain":[
       "(423, 1)"
      ]
     },
     "metadata":{
      
     },
     "output_type":"display_data"
    }
   ],
   "metadata":{
    "datalore":{
     "node_id":"Cs2Omah6P5rhiXBYfH05qY",
     "type":"CODE",
     "hide_input_from_viewers":false,
     "hide_output_from_viewers":false
    }
   }
  },
  {
   "cell_type":"code",
   "source":[
    "df_tab[(df_tab<lif) | (df_tab>uif)] = df_tab.mean()"
   ],
   "execution_count":30,
   "outputs":[
    {
     "name":"stderr",
     "text":[
      "<ipython-input-30-5750c18a9a1f>:1: SettingWithCopyWarning: \n",
      "A value is trying to be set on a copy of a slice from a DataFrame\n",
      "\n",
      "See the caveats in the documentation: https:\/\/pandas.pydata.org\/pandas-docs\/stable\/user_guide\/indexing.html#returning-a-view-versus-a-copy\n",
      "  df_tab[(df_tab<lif) | (df_tab>uif)] = df_tab.mean()\n"
     ],
     "output_type":"stream"
    }
   ],
   "metadata":{
    "datalore":{
     "node_id":"thYSUV146gagkh75QlOXEb",
     "type":"CODE",
     "hide_input_from_viewers":false,
     "hide_output_from_viewers":false
    }
   }
  },
  {
   "cell_type":"code",
   "source":[
    "df_tab[(df_tab<lif) | (df_tab>uif)]"
   ],
   "execution_count":31,
   "outputs":[
    {
     "data":{
      "text\/html":[
       "<pre>Series([], Name: Salary, dtype: float64)<\/pre>"
      ]
     },
     "metadata":{
      
     },
     "output_type":"display_data"
    }
   ],
   "metadata":{
    "datalore":{
     "node_id":"gUqjDSM5ySU4Sq22AWF7BI",
     "type":"CODE",
     "hide_input_from_viewers":false,
     "hide_output_from_viewers":false
    }
   }
  },
  {
   "cell_type":"code",
   "source":[
    "df_tab[df_tab<lif] = lif\n",
    "df_tab[df_tab>uif] = uif"
   ],
   "execution_count":32,
   "outputs":[
    {
     "name":"stderr",
     "text":[
      "<ipython-input-32-1b97505e6abe>:1: SettingWithCopyWarning: \n",
      "A value is trying to be set on a copy of a slice from a DataFrame\n",
      "\n",
      "See the caveats in the documentation: https:\/\/pandas.pydata.org\/pandas-docs\/stable\/user_guide\/indexing.html#returning-a-view-versus-a-copy\n",
      "  df_tab[df_tab<lif] = lif\n",
      "<ipython-input-32-1b97505e6abe>:2: SettingWithCopyWarning: \n",
      "A value is trying to be set on a copy of a slice from a DataFrame\n",
      "\n",
      "See the caveats in the documentation: https:\/\/pandas.pydata.org\/pandas-docs\/stable\/user_guide\/indexing.html#returning-a-view-versus-a-copy\n",
      "  df_tab[df_tab>uif] = uif\n"
     ],
     "output_type":"stream"
    }
   ],
   "metadata":{
    "datalore":{
     "node_id":"uodTrvOC0KNwRTBBwYaDMn",
     "type":"CODE",
     "hide_input_from_viewers":false,
     "hide_output_from_viewers":false
    }
   }
  },
  {
   "cell_type":"code",
   "source":[
    "lof = LocalOutlierFactor(n_neighbors=20, contamination=0.1)"
   ],
   "execution_count":33,
   "outputs":[
    
   ],
   "metadata":{
    "datalore":{
     "node_id":"IuM50qeUEueBRLQR5UGAk8",
     "type":"CODE",
     "hide_input_from_viewers":false,
     "hide_output_from_viewers":false
    }
   }
  },
  {
   "cell_type":"code",
   "source":[
    "nba"
   ],
   "execution_count":37,
   "outputs":[
    {
     "data":{
      "text\/html":[
       "<div>\n",
       "<style scoped>\n",
       "    .dataframe tbody tr th:only-of-type {\n",
       "        vertical-align: middle;\n",
       "    }\n",
       "\n",
       "    .dataframe tbody tr th {\n",
       "        vertical-align: top;\n",
       "    }\n",
       "\n",
       "    .dataframe thead th {\n",
       "        text-align: right;\n",
       "    }\n",
       "<\/style>\n",
       "<table border=\"1\" class=\"dataframe\">\n",
       "  <thead>\n",
       "    <tr style=\"text-align: right;\">\n",
       "      <th><\/th>\n",
       "      <th>Name<\/th>\n",
       "      <th>Team<\/th>\n",
       "      <th>Number<\/th>\n",
       "      <th>Position<\/th>\n",
       "      <th>Age<\/th>\n",
       "      <th>Height<\/th>\n",
       "      <th>Weight<\/th>\n",
       "      <th>College<\/th>\n",
       "      <th>Salary<\/th>\n",
       "    <\/tr>\n",
       "  <\/thead>\n",
       "  <tbody>\n",
       "    <tr>\n",
       "      <th>0<\/th>\n",
       "      <td>Avery Bradley<\/td>\n",
       "      <td>Boston Celtics<\/td>\n",
       "      <td>0.0<\/td>\n",
       "      <td>PG<\/td>\n",
       "      <td>25.0<\/td>\n",
       "      <td>6-2<\/td>\n",
       "      <td>180.0<\/td>\n",
       "      <td>Texas<\/td>\n",
       "      <td>7730337.0<\/td>\n",
       "    <\/tr>\n",
       "    <tr>\n",
       "      <th>1<\/th>\n",
       "      <td>Jae Crowder<\/td>\n",
       "      <td>Boston Celtics<\/td>\n",
       "      <td>99.0<\/td>\n",
       "      <td>SF<\/td>\n",
       "      <td>25.0<\/td>\n",
       "      <td>6-6<\/td>\n",
       "      <td>235.0<\/td>\n",
       "      <td>Marquette<\/td>\n",
       "      <td>6796117.0<\/td>\n",
       "    <\/tr>\n",
       "    <tr>\n",
       "      <th>2<\/th>\n",
       "      <td>John Holland<\/td>\n",
       "      <td>Boston Celtics<\/td>\n",
       "      <td>30.0<\/td>\n",
       "      <td>SG<\/td>\n",
       "      <td>27.0<\/td>\n",
       "      <td>6-5<\/td>\n",
       "      <td>205.0<\/td>\n",
       "      <td>Boston University<\/td>\n",
       "      <td>NaN<\/td>\n",
       "    <\/tr>\n",
       "    <tr>\n",
       "      <th>3<\/th>\n",
       "      <td>R.J. Hunter<\/td>\n",
       "      <td>Boston Celtics<\/td>\n",
       "      <td>28.0<\/td>\n",
       "      <td>SG<\/td>\n",
       "      <td>22.0<\/td>\n",
       "      <td>6-5<\/td>\n",
       "      <td>185.0<\/td>\n",
       "      <td>Georgia State<\/td>\n",
       "      <td>1148640.0<\/td>\n",
       "    <\/tr>\n",
       "    <tr>\n",
       "      <th>4<\/th>\n",
       "      <td>Jonas Jerebko<\/td>\n",
       "      <td>Boston Celtics<\/td>\n",
       "      <td>8.0<\/td>\n",
       "      <td>PF<\/td>\n",
       "      <td>29.0<\/td>\n",
       "      <td>6-10<\/td>\n",
       "      <td>231.0<\/td>\n",
       "      <td>NaN<\/td>\n",
       "      <td>5000000.0<\/td>\n",
       "    <\/tr>\n",
       "    <tr>\n",
       "      <th>...<\/th>\n",
       "      <td>...<\/td>\n",
       "      <td>...<\/td>\n",
       "      <td>...<\/td>\n",
       "      <td>...<\/td>\n",
       "      <td>...<\/td>\n",
       "      <td>...<\/td>\n",
       "      <td>...<\/td>\n",
       "      <td>...<\/td>\n",
       "      <td>...<\/td>\n",
       "    <\/tr>\n",
       "    <tr>\n",
       "      <th>453<\/th>\n",
       "      <td>Shelvin Mack<\/td>\n",
       "      <td>Utah Jazz<\/td>\n",
       "      <td>8.0<\/td>\n",
       "      <td>PG<\/td>\n",
       "      <td>26.0<\/td>\n",
       "      <td>6-3<\/td>\n",
       "      <td>203.0<\/td>\n",
       "      <td>Butler<\/td>\n",
       "      <td>2433333.0<\/td>\n",
       "    <\/tr>\n",
       "    <tr>\n",
       "      <th>454<\/th>\n",
       "      <td>Raul Neto<\/td>\n",
       "      <td>Utah Jazz<\/td>\n",
       "      <td>25.0<\/td>\n",
       "      <td>PG<\/td>\n",
       "      <td>24.0<\/td>\n",
       "      <td>6-1<\/td>\n",
       "      <td>179.0<\/td>\n",
       "      <td>NaN<\/td>\n",
       "      <td>900000.0<\/td>\n",
       "    <\/tr>\n",
       "    <tr>\n",
       "      <th>455<\/th>\n",
       "      <td>Tibor Pleiss<\/td>\n",
       "      <td>Utah Jazz<\/td>\n",
       "      <td>21.0<\/td>\n",
       "      <td>C<\/td>\n",
       "      <td>26.0<\/td>\n",
       "      <td>7-3<\/td>\n",
       "      <td>256.0<\/td>\n",
       "      <td>NaN<\/td>\n",
       "      <td>2900000.0<\/td>\n",
       "    <\/tr>\n",
       "    <tr>\n",
       "      <th>456<\/th>\n",
       "      <td>Jeff Withey<\/td>\n",
       "      <td>Utah Jazz<\/td>\n",
       "      <td>24.0<\/td>\n",
       "      <td>C<\/td>\n",
       "      <td>26.0<\/td>\n",
       "      <td>7-0<\/td>\n",
       "      <td>231.0<\/td>\n",
       "      <td>Kansas<\/td>\n",
       "      <td>947276.0<\/td>\n",
       "    <\/tr>\n",
       "    <tr>\n",
       "      <th>457<\/th>\n",
       "      <td>NaN<\/td>\n",
       "      <td>NaN<\/td>\n",
       "      <td>NaN<\/td>\n",
       "      <td>NaN<\/td>\n",
       "      <td>NaN<\/td>\n",
       "      <td>NaN<\/td>\n",
       "      <td>NaN<\/td>\n",
       "      <td>NaN<\/td>\n",
       "      <td>NaN<\/td>\n",
       "    <\/tr>\n",
       "  <\/tbody>\n",
       "<\/table>\n",
       "<p>458 rows × 9 columns<\/p>\n",
       "<\/div>"
      ]
     },
     "metadata":{
      
     },
     "output_type":"display_data"
    }
   ],
   "metadata":{
    "datalore":{
     "node_id":"m00Ze5SarkKRhmgbNpWMd4",
     "type":"CODE",
     "hide_input_from_viewers":false,
     "hide_output_from_viewers":false
    }
   }
  },
  {
   "cell_type":"code",
   "source":[
    "n1 = np.array(nba[\"Number\"])\n",
    "n2 = np.array(nba[\"Age\"])\n",
    "n3 = np.array(nba[\"Height\"])\n",
    "nba_df = pd.DataFrame({\"n1\":n1,\"n2\":n2,\"n3\":n3})"
   ],
   "execution_count":42,
   "outputs":[
    
   ],
   "metadata":{
    "datalore":{
     "node_id":"dWh22E7m2fZ4kqaRj7TDYJ",
     "type":"CODE",
     "hide_input_from_viewers":false,
     "hide_output_from_viewers":false
    }
   }
  },
  {
   "cell_type":"code",
   "source":[
    "nba_df"
   ],
   "execution_count":43,
   "outputs":[
    {
     "data":{
      "text\/html":[
       "<div>\n",
       "<style scoped>\n",
       "    .dataframe tbody tr th:only-of-type {\n",
       "        vertical-align: middle;\n",
       "    }\n",
       "\n",
       "    .dataframe tbody tr th {\n",
       "        vertical-align: top;\n",
       "    }\n",
       "\n",
       "    .dataframe thead th {\n",
       "        text-align: right;\n",
       "    }\n",
       "<\/style>\n",
       "<table border=\"1\" class=\"dataframe\">\n",
       "  <thead>\n",
       "    <tr style=\"text-align: right;\">\n",
       "      <th><\/th>\n",
       "      <th>n1<\/th>\n",
       "      <th>n2<\/th>\n",
       "      <th>n3<\/th>\n",
       "    <\/tr>\n",
       "  <\/thead>\n",
       "  <tbody>\n",
       "    <tr>\n",
       "      <th>0<\/th>\n",
       "      <td>0.0<\/td>\n",
       "      <td>25.0<\/td>\n",
       "      <td>6-2<\/td>\n",
       "    <\/tr>\n",
       "    <tr>\n",
       "      <th>1<\/th>\n",
       "      <td>99.0<\/td>\n",
       "      <td>25.0<\/td>\n",
       "      <td>6-6<\/td>\n",
       "    <\/tr>\n",
       "    <tr>\n",
       "      <th>2<\/th>\n",
       "      <td>30.0<\/td>\n",
       "      <td>27.0<\/td>\n",
       "      <td>6-5<\/td>\n",
       "    <\/tr>\n",
       "    <tr>\n",
       "      <th>3<\/th>\n",
       "      <td>28.0<\/td>\n",
       "      <td>22.0<\/td>\n",
       "      <td>6-5<\/td>\n",
       "    <\/tr>\n",
       "    <tr>\n",
       "      <th>4<\/th>\n",
       "      <td>8.0<\/td>\n",
       "      <td>29.0<\/td>\n",
       "      <td>6-10<\/td>\n",
       "    <\/tr>\n",
       "    <tr>\n",
       "      <th>...<\/th>\n",
       "      <td>...<\/td>\n",
       "      <td>...<\/td>\n",
       "      <td>...<\/td>\n",
       "    <\/tr>\n",
       "    <tr>\n",
       "      <th>453<\/th>\n",
       "      <td>8.0<\/td>\n",
       "      <td>26.0<\/td>\n",
       "      <td>6-3<\/td>\n",
       "    <\/tr>\n",
       "    <tr>\n",
       "      <th>454<\/th>\n",
       "      <td>25.0<\/td>\n",
       "      <td>24.0<\/td>\n",
       "      <td>6-1<\/td>\n",
       "    <\/tr>\n",
       "    <tr>\n",
       "      <th>455<\/th>\n",
       "      <td>21.0<\/td>\n",
       "      <td>26.0<\/td>\n",
       "      <td>7-3<\/td>\n",
       "    <\/tr>\n",
       "    <tr>\n",
       "      <th>456<\/th>\n",
       "      <td>24.0<\/td>\n",
       "      <td>26.0<\/td>\n",
       "      <td>7-0<\/td>\n",
       "    <\/tr>\n",
       "    <tr>\n",
       "      <th>457<\/th>\n",
       "      <td>NaN<\/td>\n",
       "      <td>NaN<\/td>\n",
       "      <td>NaN<\/td>\n",
       "    <\/tr>\n",
       "  <\/tbody>\n",
       "<\/table>\n",
       "<p>458 rows × 3 columns<\/p>\n",
       "<\/div>"
      ]
     },
     "metadata":{
      
     },
     "output_type":"display_data"
    }
   ],
   "metadata":{
    "datalore":{
     "node_id":"FNsvP05bClIEC8hhD4Zbn0",
     "type":"CODE",
     "hide_input_from_viewers":false,
     "hide_output_from_viewers":false
    }
   }
  },
  {
   "cell_type":"code",
   "source":[
    "nba_df.isna().sum()"
   ],
   "execution_count":44,
   "outputs":[
    {
     "data":{
      "text\/html":[
       "<pre>n1    1\n",
       "n2    1\n",
       "n3    1\n",
       "dtype: int64<\/pre>"
      ]
     },
     "metadata":{
      
     },
     "output_type":"display_data"
    }
   ],
   "metadata":{
    "datalore":{
     "node_id":"2ZDzB7ugppJoHlwaGtgWXY",
     "type":"CODE",
     "hide_input_from_viewers":false,
     "hide_output_from_viewers":false
    }
   }
  },
  {
   "cell_type":"code",
   "source":[
    "nba_df.notnull().sum()"
   ],
   "execution_count":45,
   "outputs":[
    {
     "data":{
      "text\/html":[
       "<pre>n1    457\n",
       "n2    457\n",
       "n3    457\n",
       "dtype: int64<\/pre>"
      ]
     },
     "metadata":{
      
     },
     "output_type":"display_data"
    }
   ],
   "metadata":{
    "datalore":{
     "node_id":"2Am2RhLQ3Vblal0yFtZuod",
     "type":"CODE",
     "hide_input_from_viewers":false,
     "hide_output_from_viewers":false
    }
   }
  },
  {
   "cell_type":"code",
   "source":[
    "nba_df[nba_df.isnull().any(axis=1)]"
   ],
   "execution_count":46,
   "outputs":[
    {
     "data":{
      "text\/html":[
       "<div>\n",
       "<style scoped>\n",
       "    .dataframe tbody tr th:only-of-type {\n",
       "        vertical-align: middle;\n",
       "    }\n",
       "\n",
       "    .dataframe tbody tr th {\n",
       "        vertical-align: top;\n",
       "    }\n",
       "\n",
       "    .dataframe thead th {\n",
       "        text-align: right;\n",
       "    }\n",
       "<\/style>\n",
       "<table border=\"1\" class=\"dataframe\">\n",
       "  <thead>\n",
       "    <tr style=\"text-align: right;\">\n",
       "      <th><\/th>\n",
       "      <th>n1<\/th>\n",
       "      <th>n2<\/th>\n",
       "      <th>n3<\/th>\n",
       "    <\/tr>\n",
       "  <\/thead>\n",
       "  <tbody>\n",
       "    <tr>\n",
       "      <th>457<\/th>\n",
       "      <td>NaN<\/td>\n",
       "      <td>NaN<\/td>\n",
       "      <td>NaN<\/td>\n",
       "    <\/tr>\n",
       "  <\/tbody>\n",
       "<\/table>\n",
       "<\/div>"
      ]
     },
     "metadata":{
      
     },
     "output_type":"display_data"
    }
   ],
   "metadata":{
    "datalore":{
     "node_id":"dUywkTM17poKPTN700RaVV",
     "type":"CODE",
     "hide_input_from_viewers":false,
     "hide_output_from_viewers":false
    }
   }
  },
  {
   "cell_type":"code",
   "source":[
    "nba_df.dropna()"
   ],
   "execution_count":48,
   "outputs":[
    {
     "data":{
      "text\/html":[
       "<div>\n",
       "<style scoped>\n",
       "    .dataframe tbody tr th:only-of-type {\n",
       "        vertical-align: middle;\n",
       "    }\n",
       "\n",
       "    .dataframe tbody tr th {\n",
       "        vertical-align: top;\n",
       "    }\n",
       "\n",
       "    .dataframe thead th {\n",
       "        text-align: right;\n",
       "    }\n",
       "<\/style>\n",
       "<table border=\"1\" class=\"dataframe\">\n",
       "  <thead>\n",
       "    <tr style=\"text-align: right;\">\n",
       "      <th><\/th>\n",
       "      <th>n1<\/th>\n",
       "      <th>n2<\/th>\n",
       "      <th>n3<\/th>\n",
       "    <\/tr>\n",
       "  <\/thead>\n",
       "  <tbody>\n",
       "    <tr>\n",
       "      <th>0<\/th>\n",
       "      <td>0.0<\/td>\n",
       "      <td>25.0<\/td>\n",
       "      <td>6-2<\/td>\n",
       "    <\/tr>\n",
       "    <tr>\n",
       "      <th>1<\/th>\n",
       "      <td>99.0<\/td>\n",
       "      <td>25.0<\/td>\n",
       "      <td>6-6<\/td>\n",
       "    <\/tr>\n",
       "    <tr>\n",
       "      <th>2<\/th>\n",
       "      <td>30.0<\/td>\n",
       "      <td>27.0<\/td>\n",
       "      <td>6-5<\/td>\n",
       "    <\/tr>\n",
       "    <tr>\n",
       "      <th>3<\/th>\n",
       "      <td>28.0<\/td>\n",
       "      <td>22.0<\/td>\n",
       "      <td>6-5<\/td>\n",
       "    <\/tr>\n",
       "    <tr>\n",
       "      <th>4<\/th>\n",
       "      <td>8.0<\/td>\n",
       "      <td>29.0<\/td>\n",
       "      <td>6-10<\/td>\n",
       "    <\/tr>\n",
       "    <tr>\n",
       "      <th>...<\/th>\n",
       "      <td>...<\/td>\n",
       "      <td>...<\/td>\n",
       "      <td>...<\/td>\n",
       "    <\/tr>\n",
       "    <tr>\n",
       "      <th>452<\/th>\n",
       "      <td>41.0<\/td>\n",
       "      <td>20.0<\/td>\n",
       "      <td>6-10<\/td>\n",
       "    <\/tr>\n",
       "    <tr>\n",
       "      <th>453<\/th>\n",
       "      <td>8.0<\/td>\n",
       "      <td>26.0<\/td>\n",
       "      <td>6-3<\/td>\n",
       "    <\/tr>\n",
       "    <tr>\n",
       "      <th>454<\/th>\n",
       "      <td>25.0<\/td>\n",
       "      <td>24.0<\/td>\n",
       "      <td>6-1<\/td>\n",
       "    <\/tr>\n",
       "    <tr>\n",
       "      <th>455<\/th>\n",
       "      <td>21.0<\/td>\n",
       "      <td>26.0<\/td>\n",
       "      <td>7-3<\/td>\n",
       "    <\/tr>\n",
       "    <tr>\n",
       "      <th>456<\/th>\n",
       "      <td>24.0<\/td>\n",
       "      <td>26.0<\/td>\n",
       "      <td>7-0<\/td>\n",
       "    <\/tr>\n",
       "  <\/tbody>\n",
       "<\/table>\n",
       "<p>457 rows × 3 columns<\/p>\n",
       "<\/div>"
      ]
     },
     "metadata":{
      
     },
     "output_type":"display_data"
    }
   ],
   "metadata":{
    "datalore":{
     "node_id":"g2fmXlDuLAqoSjStTyUCyt",
     "type":"CODE",
     "hide_input_from_viewers":false,
     "hide_output_from_viewers":false
    }
   }
  },
  {
   "cell_type":"code",
   "source":[
    "nba1 = nba.select_dtypes(include=[\"float64\",\"int64\"])\n",
    "nba1.head()"
   ],
   "execution_count":49,
   "outputs":[
    {
     "data":{
      "text\/html":[
       "<div>\n",
       "<style scoped>\n",
       "    .dataframe tbody tr th:only-of-type {\n",
       "        vertical-align: middle;\n",
       "    }\n",
       "\n",
       "    .dataframe tbody tr th {\n",
       "        vertical-align: top;\n",
       "    }\n",
       "\n",
       "    .dataframe thead th {\n",
       "        text-align: right;\n",
       "    }\n",
       "<\/style>\n",
       "<table border=\"1\" class=\"dataframe\">\n",
       "  <thead>\n",
       "    <tr style=\"text-align: right;\">\n",
       "      <th><\/th>\n",
       "      <th>Number<\/th>\n",
       "      <th>Age<\/th>\n",
       "      <th>Weight<\/th>\n",
       "      <th>Salary<\/th>\n",
       "    <\/tr>\n",
       "  <\/thead>\n",
       "  <tbody>\n",
       "    <tr>\n",
       "      <th>0<\/th>\n",
       "      <td>0.0<\/td>\n",
       "      <td>25.0<\/td>\n",
       "      <td>180.0<\/td>\n",
       "      <td>7730337.0<\/td>\n",
       "    <\/tr>\n",
       "    <tr>\n",
       "      <th>1<\/th>\n",
       "      <td>99.0<\/td>\n",
       "      <td>25.0<\/td>\n",
       "      <td>235.0<\/td>\n",
       "      <td>6796117.0<\/td>\n",
       "    <\/tr>\n",
       "    <tr>\n",
       "      <th>2<\/th>\n",
       "      <td>30.0<\/td>\n",
       "      <td>27.0<\/td>\n",
       "      <td>205.0<\/td>\n",
       "      <td>NaN<\/td>\n",
       "    <\/tr>\n",
       "    <tr>\n",
       "      <th>3<\/th>\n",
       "      <td>28.0<\/td>\n",
       "      <td>22.0<\/td>\n",
       "      <td>185.0<\/td>\n",
       "      <td>1148640.0<\/td>\n",
       "    <\/tr>\n",
       "    <tr>\n",
       "      <th>4<\/th>\n",
       "      <td>8.0<\/td>\n",
       "      <td>29.0<\/td>\n",
       "      <td>231.0<\/td>\n",
       "      <td>5000000.0<\/td>\n",
       "    <\/tr>\n",
       "  <\/tbody>\n",
       "<\/table>\n",
       "<\/div>"
      ]
     },
     "metadata":{
      
     },
     "output_type":"display_data"
    }
   ],
   "metadata":{
    "datalore":{
     "node_id":"J1AI7N61lwD7cNxyVx3z6z",
     "type":"CODE",
     "hide_input_from_viewers":false,
     "hide_output_from_viewers":false
    }
   }
  },
  {
   "cell_type":"code",
   "source":[
    "nba1.isnull().sum()"
   ],
   "execution_count":51,
   "outputs":[
    {
     "data":{
      "text\/html":[
       "<pre>Number     1\n",
       "Age        1\n",
       "Weight     1\n",
       "Salary    12\n",
       "dtype: int64<\/pre>"
      ]
     },
     "metadata":{
      
     },
     "output_type":"display_data"
    }
   ],
   "metadata":{
    "datalore":{
     "node_id":"rJJobEm6dkqerjP9DEwQ71",
     "type":"CODE",
     "hide_input_from_viewers":false,
     "hide_output_from_viewers":false
    }
   }
  },
  {
   "cell_type":"code",
   "source":[
    "nba1_var = list(nba1.columns)"
   ],
   "execution_count":52,
   "outputs":[
    
   ],
   "metadata":{
    "datalore":{
     "node_id":"2Jui2RTSi7xPQ6DE7nTIDC",
     "type":"CODE",
     "hide_input_from_viewers":false,
     "hide_output_from_viewers":false
    }
   }
  },
  {
   "cell_type":"code",
   "source":[
    "nba1_df = np.array(nba1_var)"
   ],
   "execution_count":53,
   "outputs":[
    
   ],
   "metadata":{
    "datalore":{
     "node_id":"F0RxO3zonnnGgJdsxpamwp",
     "type":"CODE",
     "hide_input_from_viewers":false,
     "hide_output_from_viewers":false
    }
   }
  },
  {
   "cell_type":"code",
   "source":[
    "nba1_df.shape"
   ],
   "execution_count":54,
   "outputs":[
    {
     "data":{
      "text\/plain":[
       "(4,)"
      ]
     },
     "metadata":{
      
     },
     "output_type":"display_data"
    }
   ],
   "metadata":{
    "datalore":{
     "node_id":"8cNcIgMs8olPK6UKRTAHv1",
     "type":"CODE",
     "hide_input_from_viewers":false,
     "hide_output_from_viewers":false
    }
   }
  },
  {
   "cell_type":"code",
   "source":[
    "import pandas as pd\n",
    "import numpy as np\n",
    "import math\n",
    "import seaborn as sns\n",
    "import matplotlib.pyplot as plt\n",
    "from sklearn.neighbors import LocalOutlierFactor\n",
    "import missingno as msno\n",
    "from ycimpute.imputer import knnimput\n",
    "from ycimpute.imputer import iterforest\n",
    "from ycimpute.imputer import EM\n",
    "from sklearn import preprocessing\n",
    "from sklearn.preprocessing import LabelEncoder\n",
    "from sklearn.preprocessing import OneHotEncoder"
   ],
   "execution_count":2,
   "outputs":[
    
   ],
   "metadata":{
    "datalore":{
     "node_id":"u6dJay9mg3LTA1wMFLOaLx",
     "type":"CODE",
     "hide_input_from_viewers":false,
     "hide_output_from_viewers":false
    }
   }
  },
  {
   "cell_type":"code",
   "source":[
    "#19 Feb\n",
    "tit_df = pd.read_csv(\"Titanic-Dataset.csv\")\n",
    "tit_df = tit_df.select_dtypes([\"float64\",\"int64\"])\n",
    "tit_df.head()"
   ],
   "execution_count":3,
   "outputs":[
    {
     "data":{
      "text\/html":[
       "<div>\n",
       "<style scoped>\n",
       "    .dataframe tbody tr th:only-of-type {\n",
       "        vertical-align: middle;\n",
       "    }\n",
       "\n",
       "    .dataframe tbody tr th {\n",
       "        vertical-align: top;\n",
       "    }\n",
       "\n",
       "    .dataframe thead th {\n",
       "        text-align: right;\n",
       "    }\n",
       "<\/style>\n",
       "<table border=\"1\" class=\"dataframe\">\n",
       "  <thead>\n",
       "    <tr style=\"text-align: right;\">\n",
       "      <th><\/th>\n",
       "      <th>PassengerId<\/th>\n",
       "      <th>Survived<\/th>\n",
       "      <th>Pclass<\/th>\n",
       "      <th>Age<\/th>\n",
       "      <th>SibSp<\/th>\n",
       "      <th>Parch<\/th>\n",
       "      <th>Fare<\/th>\n",
       "    <\/tr>\n",
       "  <\/thead>\n",
       "  <tbody>\n",
       "    <tr>\n",
       "      <th>0<\/th>\n",
       "      <td>1<\/td>\n",
       "      <td>0<\/td>\n",
       "      <td>3<\/td>\n",
       "      <td>22.0<\/td>\n",
       "      <td>1<\/td>\n",
       "      <td>0<\/td>\n",
       "      <td>7.2500<\/td>\n",
       "    <\/tr>\n",
       "    <tr>\n",
       "      <th>1<\/th>\n",
       "      <td>2<\/td>\n",
       "      <td>1<\/td>\n",
       "      <td>1<\/td>\n",
       "      <td>38.0<\/td>\n",
       "      <td>1<\/td>\n",
       "      <td>0<\/td>\n",
       "      <td>71.2833<\/td>\n",
       "    <\/tr>\n",
       "    <tr>\n",
       "      <th>2<\/th>\n",
       "      <td>3<\/td>\n",
       "      <td>1<\/td>\n",
       "      <td>3<\/td>\n",
       "      <td>26.0<\/td>\n",
       "      <td>0<\/td>\n",
       "      <td>0<\/td>\n",
       "      <td>7.9250<\/td>\n",
       "    <\/tr>\n",
       "    <tr>\n",
       "      <th>3<\/th>\n",
       "      <td>4<\/td>\n",
       "      <td>1<\/td>\n",
       "      <td>1<\/td>\n",
       "      <td>35.0<\/td>\n",
       "      <td>1<\/td>\n",
       "      <td>0<\/td>\n",
       "      <td>53.1000<\/td>\n",
       "    <\/tr>\n",
       "    <tr>\n",
       "      <th>4<\/th>\n",
       "      <td>5<\/td>\n",
       "      <td>0<\/td>\n",
       "      <td>3<\/td>\n",
       "      <td>35.0<\/td>\n",
       "      <td>0<\/td>\n",
       "      <td>0<\/td>\n",
       "      <td>8.0500<\/td>\n",
       "    <\/tr>\n",
       "  <\/tbody>\n",
       "<\/table>\n",
       "<\/div>"
      ]
     },
     "metadata":{
      
     },
     "output_type":"display_data"
    }
   ],
   "metadata":{
    "datalore":{
     "node_id":"j09a8VgVxZVEi6cvzA8TRN",
     "type":"CODE",
     "hide_input_from_viewers":false,
     "hide_output_from_viewers":false
    }
   }
  },
  {
   "cell_type":"code",
   "source":[
    "tit_df.isnull().sum()"
   ],
   "execution_count":4,
   "outputs":[
    {
     "data":{
      "text\/html":[
       "<pre>PassengerId      0\n",
       "Survived         0\n",
       "Pclass           0\n",
       "Age            177\n",
       "SibSp            0\n",
       "Parch            0\n",
       "Fare             0\n",
       "dtype: int64<\/pre>"
      ]
     },
     "metadata":{
      
     },
     "output_type":"display_data"
    }
   ],
   "metadata":{
    "datalore":{
     "node_id":"HCAJ2qbSqR4aIkRRAm1rH5",
     "type":"CODE",
     "hide_input_from_viewers":false,
     "hide_output_from_viewers":false
    }
   }
  },
  {
   "cell_type":"code",
   "source":[
    "tit_var = list(tit_df.columns)"
   ],
   "execution_count":5,
   "outputs":[
    
   ],
   "metadata":{
    "datalore":{
     "node_id":"tzc1keaO5pJU1xrtkzLcXf",
     "type":"CODE",
     "hide_input_from_viewers":false,
     "hide_output_from_viewers":false
    }
   }
  },
  {
   "cell_type":"code",
   "source":[
    "new_tit_df = np.array(tit_df)"
   ],
   "execution_count":6,
   "outputs":[
    
   ],
   "metadata":{
    "datalore":{
     "node_id":"UvjnMr6ibenytVvcTGdOq6",
     "type":"CODE",
     "hide_input_from_viewers":false,
     "hide_output_from_viewers":false
    }
   }
  },
  {
   "cell_type":"code",
   "source":[
    "new_tit_df.shape"
   ],
   "execution_count":7,
   "outputs":[
    {
     "data":{
      "text\/plain":[
       "(891, 7)"
      ]
     },
     "metadata":{
      
     },
     "output_type":"display_data"
    }
   ],
   "metadata":{
    "datalore":{
     "node_id":"bdQn5l8HJzwEPEZKBl8T9p",
     "type":"CODE",
     "hide_input_from_viewers":false,
     "hide_output_from_viewers":false
    }
   }
  },
  {
   "cell_type":"code",
   "source":[
    "EM_tit_df = EM().complete(new_tit_df)"
   ],
   "execution_count":8,
   "outputs":[
    
   ],
   "metadata":{
    "datalore":{
     "node_id":"pE7SEOVZGhtSCQpePnjXYj",
     "type":"CODE",
     "hide_input_from_viewers":false,
     "hide_output_from_viewers":false
    }
   }
  },
  {
   "cell_type":"code",
   "source":[
    "EM_tit_df = pd.DataFrame(EM_tit_df, columns = tit_var)"
   ],
   "execution_count":9,
   "outputs":[
    
   ],
   "metadata":{
    "datalore":{
     "node_id":"JimEouPq9rWqXGPboaIwq1",
     "type":"CODE",
     "hide_input_from_viewers":false,
     "hide_output_from_viewers":false
    }
   }
  },
  {
   "cell_type":"code",
   "source":[
    "EM_tit_df.head()"
   ],
   "execution_count":10,
   "outputs":[
    {
     "data":{
      "text\/html":[
       "<div>\n",
       "<style scoped>\n",
       "    .dataframe tbody tr th:only-of-type {\n",
       "        vertical-align: middle;\n",
       "    }\n",
       "\n",
       "    .dataframe tbody tr th {\n",
       "        vertical-align: top;\n",
       "    }\n",
       "\n",
       "    .dataframe thead th {\n",
       "        text-align: right;\n",
       "    }\n",
       "<\/style>\n",
       "<table border=\"1\" class=\"dataframe\">\n",
       "  <thead>\n",
       "    <tr style=\"text-align: right;\">\n",
       "      <th><\/th>\n",
       "      <th>PassengerId<\/th>\n",
       "      <th>Survived<\/th>\n",
       "      <th>Pclass<\/th>\n",
       "      <th>Age<\/th>\n",
       "      <th>SibSp<\/th>\n",
       "      <th>Parch<\/th>\n",
       "      <th>Fare<\/th>\n",
       "    <\/tr>\n",
       "  <\/thead>\n",
       "  <tbody>\n",
       "    <tr>\n",
       "      <th>0<\/th>\n",
       "      <td>1.0<\/td>\n",
       "      <td>0.0<\/td>\n",
       "      <td>3.0<\/td>\n",
       "      <td>22.0<\/td>\n",
       "      <td>1.0<\/td>\n",
       "      <td>0.0<\/td>\n",
       "      <td>7.2500<\/td>\n",
       "    <\/tr>\n",
       "    <tr>\n",
       "      <th>1<\/th>\n",
       "      <td>2.0<\/td>\n",
       "      <td>1.0<\/td>\n",
       "      <td>1.0<\/td>\n",
       "      <td>38.0<\/td>\n",
       "      <td>1.0<\/td>\n",
       "      <td>0.0<\/td>\n",
       "      <td>71.2833<\/td>\n",
       "    <\/tr>\n",
       "    <tr>\n",
       "      <th>2<\/th>\n",
       "      <td>3.0<\/td>\n",
       "      <td>1.0<\/td>\n",
       "      <td>3.0<\/td>\n",
       "      <td>26.0<\/td>\n",
       "      <td>0.0<\/td>\n",
       "      <td>0.0<\/td>\n",
       "      <td>7.9250<\/td>\n",
       "    <\/tr>\n",
       "    <tr>\n",
       "      <th>3<\/th>\n",
       "      <td>4.0<\/td>\n",
       "      <td>1.0<\/td>\n",
       "      <td>1.0<\/td>\n",
       "      <td>35.0<\/td>\n",
       "      <td>1.0<\/td>\n",
       "      <td>0.0<\/td>\n",
       "      <td>53.1000<\/td>\n",
       "    <\/tr>\n",
       "    <tr>\n",
       "      <th>4<\/th>\n",
       "      <td>5.0<\/td>\n",
       "      <td>0.0<\/td>\n",
       "      <td>3.0<\/td>\n",
       "      <td>35.0<\/td>\n",
       "      <td>0.0<\/td>\n",
       "      <td>0.0<\/td>\n",
       "      <td>8.0500<\/td>\n",
       "    <\/tr>\n",
       "  <\/tbody>\n",
       "<\/table>\n",
       "<\/div>"
      ]
     },
     "metadata":{
      
     },
     "output_type":"display_data"
    }
   ],
   "metadata":{
    "datalore":{
     "node_id":"Jnd7HeCIPKqX226jTtvGKW",
     "type":"CODE",
     "hide_input_from_viewers":false,
     "hide_output_from_viewers":false
    }
   }
  },
  {
   "cell_type":"code",
   "source":[
    "EM_tit_df.isnull().sum()"
   ],
   "execution_count":12,
   "outputs":[
    {
     "data":{
      "text\/html":[
       "<pre>PassengerId    0\n",
       "Survived       0\n",
       "Pclass         0\n",
       "Age            0\n",
       "SibSp          0\n",
       "Parch          0\n",
       "Fare           0\n",
       "dtype: int64<\/pre>"
      ]
     },
     "metadata":{
      
     },
     "output_type":"display_data"
    }
   ],
   "metadata":{
    "datalore":{
     "node_id":"Opdusa7We67CtO2HynsUoJ",
     "type":"CODE",
     "hide_input_from_viewers":false,
     "hide_output_from_viewers":false
    }
   }
  },
  {
   "cell_type":"code",
   "source":[
    "knn_var = list(tit_df.columns)"
   ],
   "execution_count":13,
   "outputs":[
    
   ],
   "metadata":{
    "datalore":{
     "node_id":"zVkjy2KWlKOHVPQCeoa98i",
     "type":"CODE",
     "hide_input_from_viewers":false,
     "hide_output_from_viewers":false
    }
   }
  },
  {
   "cell_type":"code",
   "source":[
    "newk_tit_df = np.array(tit_df)"
   ],
   "execution_count":14,
   "outputs":[
    
   ],
   "metadata":{
    "datalore":{
     "node_id":"0MAnLa0sNqq5ixCEPC8qrP",
     "type":"CODE",
     "hide_input_from_viewers":false,
     "hide_output_from_viewers":false
    }
   }
  },
  {
   "cell_type":"code",
   "source":[
    "newk_tit_df.shape"
   ],
   "execution_count":15,
   "outputs":[
    {
     "data":{
      "text\/plain":[
       "(891, 7)"
      ]
     },
     "metadata":{
      
     },
     "output_type":"display_data"
    }
   ],
   "metadata":{
    "datalore":{
     "node_id":"6yFRtPCuwshypg7Rs9joMi",
     "type":"CODE",
     "hide_input_from_viewers":false,
     "hide_output_from_viewers":false
    }
   }
  },
  {
   "cell_type":"code",
   "source":[
    "newk_tit_df[:10]"
   ],
   "execution_count":16,
   "outputs":[
    {
     "data":{
      "text\/html":[
       "<pre>array([[ 1.    ,  0.    ,  3.    , 22.    ,  1.    ,  0.    ,  7.25  ],\n",
       "       [ 2.    ,  1.    ,  1.    , 38.    ,  1.    ,  0.    , 71.2833],\n",
       "       [ 3.    ,  1.    ,  3.    , 26.    ,  0.    ,  0.    ,  7.925 ],\n",
       "       [ 4.    ,  1.    ,  1.    , 35.    ,  1.    ,  0.    , 53.1   ],\n",
       "       [ 5.    ,  0.    ,  3.    , 35.    ,  0.    ,  0.    ,  8.05  ],\n",
       "       [ 6.    ,  0.    ,  3.    ,     nan,  0.    ,  0.    ,  8.4583],\n",
       "       [ 7.    ,  0.    ,  1.    , 54.    ,  0.    ,  0.    , 51.8625],\n",
       "       [ 8.    ,  0.    ,  3.    ,  2.    ,  3.    ,  1.    , 21.075 ],\n",
       "       [ 9.    ,  1.    ,  3.    , 27.    ,  0.    ,  2.    , 11.1333],\n",
       "       [10.    ,  1.    ,  2.    , 14.    ,  1.    ,  0.    , 30.0708]])<\/pre>"
      ]
     },
     "metadata":{
      
     },
     "output_type":"display_data"
    }
   ],
   "metadata":{
    "datalore":{
     "node_id":"6RUa1V3eFBF9rTgjHvvQ5p",
     "type":"CODE",
     "hide_input_from_viewers":false,
     "hide_output_from_viewers":false
    }
   }
  },
  {
   "cell_type":"code",
   "source":[
    "knn_df = knnimput.KNN(k=4),complete(newk_tit_df)"
   ],
   "execution_count":null,
   "outputs":[
    
   ],
   "metadata":{
    "datalore":{
     "node_id":"YR4asDh6PJ0FNehphDMhdK",
     "type":"CODE",
     "hide_input_from_viewers":false,
     "hide_output_from_viewers":false
    }
   }
  },
  {
   "cell_type":"code",
   "source":[
    "#25 feb\n",
    "import pandas as pd\n",
    "import numpy as np\n",
    "t = pd.Series(np.random.randn(200), index=pd.date_range(\"1\/1\/2023\", periods=200))\n",
    "t = t.cumsum()\n",
    "t.plot(c=\"r\")\n",
    "plt.title(\"first graps\")\n",
    "plt.show()"
   ],
   "execution_count":8,
   "outputs":[
    {
     "ename":"NameError",
     "evalue":"NameError: name 'plt' is not defined",
     "traceback":[
      "\u001b[0;31m---------------------------------------------------------------------------",
      "Traceback (most recent call last)",
      "    at line 7 in <module>",
      "NameError: name 'plt' is not defined"
     ],
     "output_type":"error"
    },
    {
     "data":{
      "image\/png":"[encoded data removed]"
     },
     "metadata":{
      "image\/png":{
       
      }
     },
     "output_type":"display_data"
    }
   ],
   "metadata":{
    "datalore":{
     "node_id":"2ckpzDOSs72cbNAgRL64bg",
     "type":"CODE",
     "hide_input_from_viewers":false,
     "hide_output_from_viewers":false
    }
   }
  },
  {
   "cell_type":"code",
   "source":[
    "from matplotlib import pyplot as plt\n",
    "import seaborn as sns\n",
    "from matplotlib import font_manager as fm\n",
    "from datetime import datetime, timedelta"
   ],
   "execution_count":13,
   "outputs":[
    
   ],
   "metadata":{
    "datalore":{
     "node_id":"9hnwXAYQ0eItA3apvAEoGu",
     "type":"CODE",
     "hide_input_from_viewers":false,
     "hide_output_from_viewers":false
    }
   }
  },
  {
   "cell_type":"code",
   "source":[
    "exp = [1,2,3,4,5,6,7]\n",
    "IT_sal = [12234,235245,346534,75756,87586,768678,897686]\n",
    "Mech_sal = [7533,8754,7457,4235,7474,74574,74574]"
   ],
   "execution_count":39,
   "outputs":[
    
   ],
   "metadata":{
    "datalore":{
     "node_id":"PumdGBEauPtirOnQKVsZjz",
     "type":"CODE",
     "hide_input_from_viewers":false,
     "hide_output_from_viewers":false
    }
   }
  },
  {
   "cell_type":"code",
   "source":[
    "plt.plot(exp,IT_sal, color='r',label=\"IT\")\n",
    "plt.plot(exp,Mech_sal,color='g',label=\"Mech\")\n",
    "plt.title(\"Salary details\")\n",
    "plt.xlabel(\"Experience\")\n",
    "plt.ylabel(\"Salary\")\n",
    "plt.legend()\n",
    "plt.show()"
   ],
   "execution_count":14,
   "outputs":[
    {
     "data":{
      "image\/png":"[encoded data removed]"
     },
     "metadata":{
      "image\/png":{
       
      }
     },
     "output_type":"display_data"
    }
   ],
   "metadata":{
    "datalore":{
     "node_id":"QGaOjtb3ZsIi7npNjA8Z5G",
     "type":"CODE",
     "hide_input_from_viewers":false,
     "hide_output_from_viewers":false
    }
   }
  },
  {
   "cell_type":"code",
   "source":[
    "plt.plot(exp,IT_sal, color='r',linestyle='--',label=\"IT\")\n",
    "plt.plot(exp,Mech_sal,color='g',linestyle='-.',label=\"Mech\")\n",
    "plt.title(\"Salary details\")\n",
    "plt.xlabel(\"Experience\")\n",
    "plt.ylabel(\"Salary\")\n",
    "plt.legend()\n",
    "plt.show()"
   ],
   "execution_count":22,
   "outputs":[
    {
     "data":{
      "image\/png":"[encoded data removed]"
     },
     "metadata":{
      "image\/png":{
       
      }
     },
     "output_type":"display_data"
    }
   ],
   "metadata":{
    "datalore":{
     "node_id":"eh0zufJunUPD5wvf3eBftQ",
     "type":"CODE",
     "hide_input_from_viewers":false,
     "hide_output_from_viewers":false
    }
   }
  },
  {
   "cell_type":"code",
   "source":[
    "plt.plot(exp,IT_sal, color='r',linestyle='--',marker='o',label=\"IT\")\n",
    "plt.plot(exp,Mech_sal,color='g',linestyle='-.',marker='o',label=\"Mech\")\n",
    "plt.title(\"Salary details\")\n",
    "plt.xlabel(\"Experience\")\n",
    "plt.ylabel(\"Salary\")\n",
    "plt.legend()\n",
    "plt.show()"
   ],
   "execution_count":23,
   "outputs":[
    {
     "data":{
      "image\/png":"[encoded data removed]"
     },
     "metadata":{
      "image\/png":{
       
      }
     },
     "output_type":"display_data"
    }
   ],
   "metadata":{
    "datalore":{
     "node_id":"WBFtP2gOM0zt7sy9mNt8dl",
     "type":"CODE",
     "hide_input_from_viewers":false,
     "hide_output_from_viewers":false
    }
   }
  },
  {
   "cell_type":"code",
   "source":[
    "plt.style.use('dark_background')\n",
    "plt.plot(exp,IT_sal, color='r',linestyle='--',marker='o',label=\"IT\")\n",
    "plt.plot(exp,Mech_sal,color='g',linestyle='-.',marker='o',label=\"Mech\")\n",
    "plt.title(\"Salary details\")\n",
    "plt.xlabel(\"Experience\")\n",
    "plt.ylabel(\"Salary\")\n",
    "plt.legend()\n",
    "plt.tight_layout()\n",
    "plt.grid(True)\n",
    "plt.show()"
   ],
   "execution_count":24,
   "outputs":[
    {
     "data":{
      "image\/png":"[encoded data removed]"
     },
     "metadata":{
      "image\/png":{
       
      }
     },
     "output_type":"display_data"
    }
   ],
   "metadata":{
    "datalore":{
     "node_id":"eyGJ5LexuKbDlYdjbEwauI",
     "type":"CODE",
     "hide_input_from_viewers":false,
     "hide_output_from_viewers":false
    }
   }
  },
  {
   "cell_type":"code",
   "source":[
    "plt.bar(exp,IT_sal,color='b')"
   ],
   "execution_count":26,
   "outputs":[
    {
     "data":{
      "text\/plain":[
       "<BarContainer object of 7 artists>"
      ]
     },
     "metadata":{
      
     },
     "output_type":"display_data"
    },
    {
     "data":{
      "image\/png":"[encoded data removed]"
     },
     "metadata":{
      "image\/png":{
       
      }
     },
     "output_type":"display_data"
    }
   ],
   "metadata":{
    "datalore":{
     "node_id":"D6t3RgcbOlCM91OFNWNi3B",
     "type":"CODE",
     "hide_input_from_viewers":false,
     "hide_output_from_viewers":false
    }
   }
  },
  {
   "cell_type":"code",
   "source":[
    "plt.bar(exp,Mech_sal,color='r')"
   ],
   "execution_count":27,
   "outputs":[
    {
     "data":{
      "text\/plain":[
       "<BarContainer object of 7 artists>"
      ]
     },
     "metadata":{
      
     },
     "output_type":"display_data"
    },
    {
     "data":{
      "image\/png":"[encoded data removed]"
     },
     "metadata":{
      "image\/png":{
       
      }
     },
     "output_type":"display_data"
    }
   ],
   "metadata":{
    "datalore":{
     "node_id":"PQ4XKoVOTWM3dXI6R8Rm66",
     "type":"CODE",
     "hide_input_from_viewers":false,
     "hide_output_from_viewers":false
    }
   }
  },
  {
   "cell_type":"code",
   "source":[
    "plt.plot(exp,IT_sal,color='r',label='IT')\n",
    "plt.bar(exp,Mech_sal,color='g',label='Mech')\n",
    "plt.legend()\n",
    "plt.grid(False)\n",
    "plt.show()"
   ],
   "execution_count":29,
   "outputs":[
    {
     "data":{
      "image\/png":"[encoded data removed]"
     },
     "metadata":{
      "image\/png":{
       
      }
     },
     "output_type":"display_data"
    }
   ],
   "metadata":{
    "datalore":{
     "node_id":"44e3ThaYykMhETrla2b5UI",
     "type":"CODE",
     "hide_input_from_viewers":false,
     "hide_output_from_viewers":false
    }
   }
  },
  {
   "cell_type":"code",
   "source":[
    "plt.bar(exp,IT_sal,color='r',linewidth=7,label=\"IT\")\n",
    "plt.bar(exp,Mech_sal,color='y',linewidth=3,label=\"Mech\")\n",
    "plt.legend()\n",
    "plt.grid(False)\n",
    "plt.show()"
   ],
   "execution_count":40,
   "outputs":[
    {
     "data":{
      "image\/png":"[encoded data removed]"
     },
     "metadata":{
      "image\/png":{
       
      }
     },
     "output_type":"display_data"
    }
   ],
   "metadata":{
    "datalore":{
     "node_id":"4IwzTrV1DlBRPmgjm8zctP",
     "type":"CODE",
     "hide_input_from_viewers":false,
     "hide_output_from_viewers":false
    }
   }
  },
  {
   "cell_type":"code",
   "source":[
    "slices = [50,50]\n",
    "plt.pie(slices)\n",
    "plt.show()"
   ],
   "execution_count":41,
   "outputs":[
    {
     "data":{
      "image\/png":"[encoded data removed]"
     },
     "metadata":{
      "image\/png":{
       
      }
     },
     "output_type":"display_data"
    }
   ],
   "metadata":{
    "datalore":{
     "node_id":"MXxREKx27WZ1hf3FiLFK5Z",
     "type":"CODE",
     "hide_input_from_viewers":false,
     "hide_output_from_viewers":false
    }
   }
  },
  {
   "cell_type":"code",
   "source":[
    "plt.pie(IT_sal,labels=exp)\n",
    "plt.show()"
   ],
   "execution_count":42,
   "outputs":[
    {
     "data":{
      "image\/png":"[encoded data removed]"
     },
     "metadata":{
      "image\/png":{
       
      }
     },
     "output_type":"display_data"
    }
   ],
   "metadata":{
    "datalore":{
     "node_id":"5UQw9uP2ISF492H5MEIudg",
     "type":"CODE",
     "hide_input_from_viewers":false,
     "hide_output_from_viewers":false
    }
   }
  },
  {
   "cell_type":"code",
   "source":[
    "plt.pie(IT_sal,labels=exp,startangle=180)\n",
    "plt.show()"
   ],
   "execution_count":43,
   "outputs":[
    
   ],
   "metadata":{
    "datalore":{
     "node_id":"UCA1Z2jtHscworA2Q6VgAP",
     "type":"CODE",
     "hide_input_from_viewers":false,
     "hide_output_from_viewers":false
    }
   }
  },
  {
   "cell_type":"code",
   "source":[
    "myexplode = [0,0,0.5,0,0,0,0,]\n",
    "plt.pie(IT_sal,labels=exp,startangle=180,explode=myexplode)\n",
    "plt.show() "
   ],
   "execution_count":50,
   "outputs":[
    {
     "data":{
      "image\/png":"[encoded data removed]"
     },
     "metadata":{
      "image\/png":{
       
      }
     },
     "output_type":"display_data"
    }
   ],
   "metadata":{
    "datalore":{
     "node_id":"8EyCWqzDn86s5IVGhBCqZP",
     "type":"CODE",
     "hide_input_from_viewers":false,
     "hide_output_from_viewers":false
    }
   }
  },
  {
   "cell_type":"code",
   "source":[
    "gov_sal = [45646,78457,25323,736323,747457,747457,25226]\n",
    "doc_sal = [668585,967957,2463547,8568567,85656544,4856857,85685468]"
   ],
   "execution_count":51,
   "outputs":[
    
   ],
   "metadata":{
    "datalore":{
     "node_id":"HbOdS4TT9ek8ZHODWI9LyX",
     "type":"CODE",
     "hide_input_from_viewers":false,
     "hide_output_from_viewers":false
    }
   }
  },
  {
   "cell_type":"code",
   "source":[
    "plt.plot([],[],color='g',label='IT_sal',linewidth=3)\n",
    "plt.plot([],[],color='r',label='Mech_sal',linewidth=3)\n",
    "plt.plot([],[],color='b',label='gov_sal',linewidth=3)\n",
    "plt.plot([],[],color='y',label='doc_sal',linewidth=3)\n",
    "plt.stackplot(IT_sal,Mech_sal,gov_sal,doc_sal, colors=['g','r','b','y'])\n",
    "plt.show()"
   ],
   "execution_count":53,
   "outputs":[
    {
     "data":{
      "image\/png":"[encoded data removed]"
     },
     "metadata":{
      "image\/png":{
       
      }
     },
     "output_type":"display_data"
    }
   ],
   "metadata":{
    "datalore":{
     "node_id":"jzhPm7GgVPaKPEwXWtsdlU",
     "type":"CODE",
     "hide_input_from_viewers":false,
     "hide_output_from_viewers":false
    }
   }
  },
  {
   "cell_type":"code",
   "source":[
    "plt.hist(IT_sal)\n",
    "plt.show()"
   ],
   "execution_count":58,
   "outputs":[
    {
     "data":{
      "image\/png":"[encoded data removed]"
     },
     "metadata":{
      "image\/png":{
       
      }
     },
     "output_type":"display_data"
    }
   ],
   "metadata":{
    "datalore":{
     "node_id":"pVmoKin7Re4SFuxYq9fN4r",
     "type":"CODE",
     "hide_input_from_viewers":false,
     "hide_output_from_viewers":false
    }
   }
  },
  {
   "cell_type":"code",
   "source":[
    "plt.scatter(IT_sal,Mech_sal)\n",
    "plt.grid(True)\n",
    "plt.show()"
   ],
   "execution_count":59,
   "outputs":[
    {
     "data":{
      "image\/png":"[encoded data removed]"
     },
     "metadata":{
      "image\/png":{
       
      }
     },
     "output_type":"display_data"
    }
   ],
   "metadata":{
    "datalore":{
     "node_id":"Zghp7ZtG4ULQAp4mXiz6c2",
     "type":"CODE",
     "hide_input_from_viewers":false,
     "hide_output_from_viewers":false
    }
   }
  },
  {
   "cell_type":"code",
   "source":[
    "plt.scatter(gov_sal,doc_sal,s=100,color='r',marker='x')\n",
    "plt.grid(True)\n",
    "plt.show()"
   ],
   "execution_count":62,
   "outputs":[
    {
     "data":{
      "image\/png":"[encoded data removed]"
     },
     "metadata":{
      "image\/png":{
       
      }
     },
     "output_type":"display_data"
    }
   ],
   "metadata":{
    "datalore":{
     "node_id":"MZhpqokNqRqQKRzP0fBfdj",
     "type":"CODE",
     "hide_input_from_viewers":false,
     "hide_output_from_viewers":false
    }
   }
  },
  {
   "cell_type":"code",
   "source":[
    "x = [54,74,21,74,124,54]\n",
    "y = [12,86,79,58,96,32]\n",
    "[X,Y] = np.meshgrid(x,y)\n",
    "fig, ax = plt.subplots(1,1)\n",
    "Z = np.sqrt(X**2+Y**2)\n",
    "ax.contour(X,Y,Z)\n",
    "plt.show()"
   ],
   "execution_count":64,
   "outputs":[
    {
     "data":{
      "image\/png":"[encoded data removed]"
     },
     "metadata":{
      "image\/png":{
       
      }
     },
     "output_type":"display_data"
    }
   ],
   "metadata":{
    "datalore":{
     "node_id":"5SGmdXv8DEk0lrID3jxTxn",
     "type":"CODE",
     "hide_input_from_viewers":false,
     "hide_output_from_viewers":false
    }
   }
  },
  {
   "cell_type":"code",
   "source":[
    "data = [x,y]\n",
    "fig = plt.figure()\n",
    "ax = fig.add_axes([0,0,1,1])\n",
    "bp = ax.violinplot(data)\n",
    "plt.show()"
   ],
   "execution_count":65,
   "outputs":[
    {
     "data":{
      "image\/png":"[encoded data removed]"
     },
     "metadata":{
      "image\/png":{
       
      }
     },
     "output_type":"display_data"
    }
   ],
   "metadata":{
    "datalore":{
     "node_id":"dUkGeX8oUekzTkdnrwb7Ya",
     "type":"CODE",
     "hide_input_from_viewers":false,
     "hide_output_from_viewers":false
    }
   }
  },
  {
   "cell_type":"code",
   "source":[
    "plt.boxplot(IT_sal,notch=True)\n",
    "plt.show()"
   ],
   "execution_count":67,
   "outputs":[
    {
     "data":{
      "image\/png":"[encoded data removed]"
     },
     "metadata":{
      "image\/png":{
       
      }
     },
     "output_type":"display_data"
    }
   ],
   "metadata":{
    "datalore":{
     "node_id":"omEWR0tCphmmMAwRZIiW3h",
     "type":"CODE",
     "hide_input_from_viewers":false,
     "hide_output_from_viewers":false
    }
   }
  },
  {
   "cell_type":"code",
   "source":[
    "plt.boxplot(Mech_sal,showfliers = False,vert=False)\n",
    "plt.show()"
   ],
   "execution_count":68,
   "outputs":[
    {
     "data":{
      "image\/png":"[encoded data removed]"
     },
     "metadata":{
      "image\/png":{
       
      }
     },
     "output_type":"display_data"
    }
   ],
   "metadata":{
    "datalore":{
     "node_id":"WXESPXVqKcRUU4B9tiBd1g",
     "type":"CODE",
     "hide_input_from_viewers":false,
     "hide_output_from_viewers":false
    }
   }
  },
  {
   "cell_type":"code",
   "source":[
    "data = np.random.random((6,6))\n",
    "data"
   ],
   "execution_count":70,
   "outputs":[
    {
     "data":{
      "text\/html":[
       "<pre>array([[0.75636578, 0.26693952, 0.00807646, 0.961672  , 0.08571406,\n",
       "        0.71484491],\n",
       "       [0.71199662, 0.15078996, 0.0066778 , 0.01436818, 0.1572952 ,\n",
       "        0.52693415],\n",
       "       [0.90905583, 0.27974472, 0.35528275, 0.96161261, 0.63531746,\n",
       "        0.1361646 ],\n",
       "       [0.76203383, 0.49677764, 0.80512496, 0.83436384, 0.50612909,\n",
       "        0.2451333 ],\n",
       "       [0.84799059, 0.59253529, 0.00132094, 0.85360413, 0.74215939,\n",
       "        0.46305088],\n",
       "       [0.85688936, 0.05221989, 0.33971453, 0.01343951, 0.89374992,\n",
       "        0.85105722]])<\/pre>"
      ]
     },
     "metadata":{
      
     },
     "output_type":"display_data"
    }
   ],
   "metadata":{
    "datalore":{
     "node_id":"ZcGMNecHTHpk4nqv6Dhg8A",
     "type":"CODE",
     "hide_input_from_viewers":false,
     "hide_output_from_viewers":false
    }
   }
  },
  {
   "cell_type":"code",
   "source":[
    "plt.imshow(data, cmap='autumn')\n",
    "plt.show()"
   ],
   "execution_count":71,
   "outputs":[
    {
     "data":{
      "image\/png":"[encoded data removed]"
     },
     "metadata":{
      "image\/png":{
       
      }
     },
     "output_type":"display_data"
    }
   ],
   "metadata":{
    "datalore":{
     "node_id":"tSi88F4zJblEmw8aA5y7rD",
     "type":"CODE",
     "hide_input_from_viewers":false,
     "hide_output_from_viewers":false
    }
   }
  }
 ],
 "metadata":{
  "kernelspec":{
   "display_name":"Python",
   "language":"python",
   "name":"python"
  },
  "datalore":{
   "version":1,
   "computation_mode":"JUPYTER",
   "package_manager":"pip",
   "base_environment":"default",
   "packages":[
    {
     "name":"missingno",
     "version":"0.5.1",
     "source":"PIP"
    },
    {
     "name":"ycimpute",
     "version":"0.2",
     "source":"PIP"
    }
   ]
  }
 },
 "nbformat":4,
 "nbformat_minor":4
}